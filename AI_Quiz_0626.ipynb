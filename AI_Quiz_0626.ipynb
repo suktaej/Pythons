{
 "cells": [
  {
   "cell_type": "code",
   "execution_count": 3,
   "id": "f0163135-65f2-4f4f-9a3a-0ef5153a8579",
   "metadata": {},
   "outputs": [
    {
     "name": "stdout",
     "output_type": "stream",
     "text": [
      "Speed: 10\n",
      "Length: 100\n"
     ]
    },
    {
     "name": "stdout",
     "output_type": "stream",
     "text": [
      "10\n"
     ]
    }
   ],
   "source": [
    "a=input(\"Speed:\")\n",
    "b=input(\"Length:\")\n",
    "print(int(b)//int(a))"
   ]
  },
  {
   "cell_type": "code",
   "execution_count": 5,
   "id": "5b1e5222-fbb3-4908-900e-d9f30d6f0a7d",
   "metadata": {},
   "outputs": [
    {
     "name": "stdout",
     "output_type": "stream",
     "text": [
      "Width: 10\n",
      "Height: 4\n"
     ]
    },
    {
     "name": "stdout",
     "output_type": "stream",
     "text": [
      "area: 40\n",
      "surface: 28\n"
     ]
    }
   ],
   "source": [
    "a=input(\"Width:\")\n",
    "b=input(\"Height:\")\n",
    "print(\"area:\",int(a)*int(b))\n",
    "print(\"surface:\",int(a)*2+int(b)*2)"
   ]
  },
  {
   "cell_type": "code",
   "execution_count": 7,
   "id": "b88b240a-5aba-4492-9318-4808260064d7",
   "metadata": {},
   "outputs": [
    {
     "name": "stdout",
     "output_type": "stream",
     "text": [
      "Fahrenheit: 100\n"
     ]
    },
    {
     "name": "stdout",
     "output_type": "stream",
     "text": [
      "Celsius: 37.77777777777778\n"
     ]
    }
   ],
   "source": [
    "a=input(\"Fahrenheit:\")\n",
    "print(\"Celsius:\",(int(a)-32)/1.8)"
   ]
  },
  {
   "cell_type": "code",
   "execution_count": 8,
   "id": "e6fb3354-8f4f-47a4-88bc-570876295f3e",
   "metadata": {},
   "outputs": [
    {
     "name": "stdout",
     "output_type": "stream",
     "text": [
      "A: 10\n",
      "B: 10\n"
     ]
    },
    {
     "name": "stdout",
     "output_type": "stream",
     "text": [
      "20\n"
     ]
    }
   ],
   "source": [
    "a=input(\"A:\")\n",
    "b=input(\"B:\")\n",
    "print(int(a)+int(b))"
   ]
  },
  {
   "cell_type": "code",
   "execution_count": 14,
   "id": "e9febdfd-1dd9-4ca1-ba5b-8789b6027126",
   "metadata": {},
   "outputs": [
    {
     "name": "stdout",
     "output_type": "stream",
     "text": [
      "hong gil dong\n",
      "2021/04/21\n",
      "20210421-1623210\n"
     ]
    }
   ],
   "source": [
    "s = 'hong gil dong202104211623210'\n",
    "name = s[:13]\n",
    "print(name)\n",
    "bir = s[13:17]+'/'+s[17:19]+'/'+s[19:21]\n",
    "print(bir)\n",
    "idn = s[13:21]+'-'+s[21:]\n",
    "print(idn)"
   ]
  },
  {
   "cell_type": "code",
   "execution_count": 16,
   "id": "70d9286a-bd7c-4ee2-8b15-7190c2a05edb",
   "metadata": {},
   "outputs": [
    {
     "name": "stdout",
     "output_type": "stream",
     "text": [
      "ProgrammingPython\n"
     ]
    }
   ],
   "source": [
    "s = 'PythonProgramming'\n",
    "print(s[6:]+s[:6])"
   ]
  },
  {
   "cell_type": "code",
   "execution_count": 19,
   "id": "69e6c6e1-afe9-4b7e-a552-fb362d3399ca",
   "metadata": {},
   "outputs": [
    {
     "name": "stdout",
     "output_type": "stream",
     "text": [
      "hi world\n"
     ]
    }
   ],
   "source": [
    "s = 'hello world'\n",
    "s = s.replace('hello','hi')\n",
    "print(s)"
   ]
  },
  {
   "cell_type": "code",
   "execution_count": 24,
   "id": "be355ef1-867f-4fad-8b19-698f413a155c",
   "metadata": {},
   "outputs": [
    {
     "name": "stdout",
     "output_type": "stream",
     "text": [
      "a: 10\n",
      "b: 2\n",
      "Input operator( 1:+, 2:-, 3:*, 4:/ ) :  4\n"
     ]
    },
    {
     "name": "stdout",
     "output_type": "stream",
     "text": [
      "5.0\n"
     ]
    }
   ],
   "source": [
    "cal = ['+','-','*','//']\n",
    "a=input('a:')\n",
    "b=input('b:')\n",
    "op_select = int(input('Input operator( 1:+, 2:-, 3:*, 4:/ ) : '))\n",
    "print(eval(a+cal[op_select-1]+b))"
   ]
  },
  {
   "cell_type": "code",
   "execution_count": 28,
   "id": "cb4a5f20-df86-4aa9-926e-cd9ceda71fb5",
   "metadata": {},
   "outputs": [
    {
     "name": "stdout",
     "output_type": "stream",
     "text": [
      "number: 10\n"
     ]
    },
    {
     "name": "stdout",
     "output_type": "stream",
     "text": [
      "55\n"
     ]
    }
   ],
   "source": [
    "l=[]\n",
    "n=int(input(\"number:\"))\n",
    "for i in range(1,n+1):\n",
    "    l.append(i)\n",
    "print(sum(l))"
   ]
  },
  {
   "cell_type": "code",
   "execution_count": 44,
   "id": "7ddc9ba2-5016-46b4-9ae6-149a02ccb943",
   "metadata": {},
   "outputs": [
    {
     "name": "stdout",
     "output_type": "stream",
     "text": [
      "number: 10\n"
     ]
    }
   ],
   "source": [
    "l=[]\n",
    "n=int(input(\"number:\"))\n",
    "l=list(range(1,n+1))"
   ]
  },
  {
   "cell_type": "code",
   "execution_count": 29,
   "id": "0525eccf-f8b9-435f-894f-72ae479b7653",
   "metadata": {},
   "outputs": [
    {
     "name": "stdout",
     "output_type": "stream",
     "text": [
      "number: 10\n"
     ]
    },
    {
     "name": "stdout",
     "output_type": "stream",
     "text": [
      "30 25\n"
     ]
    }
   ],
   "source": [
    "l=[];odd=0;even=0\n",
    "n=int(input(\"number:\"))\n",
    "for i in range(1,n+1):\n",
    "    l.append(i)\n",
    "for i in l:\n",
    "    if i%2==0:\n",
    "        odd+=i\n",
    "    else:\n",
    "        even+=i\n",
    "print(odd,even)"
   ]
  },
  {
   "cell_type": "code",
   "execution_count": 34,
   "id": "702c73ae-5b1d-4851-96e3-e169dc7a2579",
   "metadata": {},
   "outputs": [
    {
     "name": "stdout",
     "output_type": "stream",
     "text": [
      "number: 10\n"
     ]
    },
    {
     "name": "stdout",
     "output_type": "stream",
     "text": [
      "[1, 2, 4, 7, 8]\n",
      "22\n"
     ]
    }
   ],
   "source": [
    "val=0\n",
    "n=int(input(\"number:\"))\n",
    "l = [i for i in range(1,n+1)]\n",
    "    \n",
    "for i in l[:]:\n",
    "    if i%3==0 or i%5==0:\n",
    "        l.remove(i)\n",
    "    else:\n",
    "        val+=i\n",
    "        \n",
    "print(l)\n",
    "print(val)"
   ]
  },
  {
   "cell_type": "code",
   "execution_count": 36,
   "id": "7485a58e-2c3a-4f39-acec-c797d93c7a13",
   "metadata": {},
   "outputs": [
    {
     "name": "stdout",
     "output_type": "stream",
     "text": [
      "number: 10\n"
     ]
    },
    {
     "name": "stdout",
     "output_type": "stream",
     "text": [
      "[1, 2, 4, 7, 8]\n",
      "22\n"
     ]
    }
   ],
   "source": [
    "n=int(input(\"number:\"))\n",
    "l = [i for i in range(1,n+1)]\n",
    "fl = [i for i in l if i%3!=0 and i%5!=0]\n",
    "val = sum(fl)\n",
    "        \n",
    "print(fl)\n",
    "print(val)"
   ]
  },
  {
   "cell_type": "code",
   "execution_count": 41,
   "id": "ba223950-5a22-40fe-b448-68f84a411cc6",
   "metadata": {},
   "outputs": [
    {
     "data": {
      "text/plain": [
       "('b3', 'b4')"
      ]
     },
     "execution_count": 41,
     "metadata": {},
     "output_type": "execute_result"
    }
   ],
   "source": [
    "a = ('a1','a2','a3','a4')\n",
    "b = ('b1','b2','b3','b4')\n",
    "q=a[0];w=a[1];e=a[2];r=a[3]\n",
    "c = a+b"
   ]
  },
  {
   "cell_type": "code",
   "execution_count": 21,
   "id": "4f6ee7f7-243c-480d-8316-6d6f75641991",
   "metadata": {},
   "outputs": [
    {
     "name": "stdout",
     "output_type": "stream",
     "text": [
      "['보', '가위', '바위']\n",
      "['가위', '바위', '보']\n",
      "[('가위', '보'), ('바위', '가위'), ('보', '바위')]\n",
      "보\n",
      "보\n",
      "['보']\n",
      "dict_items([('가위', '보'), ('바위', '가위'), ('보', '바위'), ('찌', '빠')])\n",
      "dict_items([('가위', '보'), ('바위', '가위'), ('보', '바위'), ('찌', '빠'), ('묵', '찌'), ('빠', '묵')])\n",
      "False\n",
      "{'보': '가위', '가위': '바위', '바위': '보', '빠': '찌', '찌': '묵', '묵': '빠'}\n"
     ]
    }
   ],
   "source": [
    "srp = {'가위':'보','바위':'가위','보':'바위'}\n",
    "sk = list(srp.keys())\n",
    "sv = list(srp.values())\n",
    "si = list(srp.items())\n",
    "print(sv)\n",
    "print(sk)\n",
    "print(si)\n",
    "\n",
    "print(srp['가위'])\n",
    "print(srp.get('가위'))\n",
    "\n",
    "print([x for x,y in srp.items() if y=='바위'])\n",
    "\n",
    "srp['찌']='빠'\n",
    "print(srp.items())\n",
    "srp_add = {'묵':'찌',\"빠\":\"묵\"}\n",
    "srp.update(srp_add)\n",
    "print(srp.items())\n",
    "\n",
    "#print(srp['보자기'])\n",
    "print('보자기' in srp)\n",
    "\n",
    "srp_swap={}\n",
    "def swap1():\n",
    "    print(type(srp_swap))\n",
    "    for x,y in srp.items():\n",
    "        srp_swap[y]=x\n",
    "    print(srp_swap)\n",
    "\n",
    "srp_swap={x:y for y,x in srp.items()}\n",
    "print(srp_swap)"
   ]
  },
  {
   "cell_type": "code",
   "execution_count": 39,
   "id": "e9ed332f-e105-450f-abbb-54e6ec0abd1b",
   "metadata": {},
   "outputs": [
    {
     "name": "stdout",
     "output_type": "stream",
     "text": [
      "{1, 2, 3, 4}\n",
      "{'c', 'a', 'e', 'd', 'f', 'b'}\n",
      "{'c', 1, 2, 3, 4, 'a', 'b'}\n",
      "{'c', 'a', 1, 2, 'e', 'd', 'f', 'b'}\n",
      "{'c', 1, 2, 'a', 'b'}\n",
      "{'c', 1, 2, 'a', 'b'}\n",
      "{'c', 1, 2, 3, 4, 'a', 'e', 'd', 'f', 'b'}\n",
      "{'c', 1, 2, 3, 4, 'a', 'e', 'd', 'f', 'b'}\n",
      "{3, 4}\n",
      "{3, 4}\n",
      "{'c', 2, 3, 4, 'a', 'b'}\n"
     ]
    }
   ],
   "source": [
    "a=[1,2,3,4]\n",
    "s1 = set(a)\n",
    "print(s1)\n",
    "\n",
    "b = \"aabbccddeeff\"\n",
    "s2 = set(b)\n",
    "print(s2)\n",
    "\n",
    "s1.update({'a','b','c'})\n",
    "print(s1)\n",
    "\n",
    "s2.update({1,2})\n",
    "print(s2)\n",
    "\n",
    "print(s1 & s2)\n",
    "print(s1.intersection(s2))\n",
    "print(s1 | s2)\n",
    "print(s1.union(s2))\n",
    "print(s1 - s2)\n",
    "print(s1.difference(s2))\n",
    "\n",
    "s1.remove(1)\n",
    "print(s1)"
   ]
  }
 ],
 "metadata": {
  "kernelspec": {
   "display_name": "Python 3 (ipykernel)",
   "language": "python",
   "name": "python3"
  },
  "language_info": {
   "codemirror_mode": {
    "name": "ipython",
    "version": 3
   },
   "file_extension": ".py",
   "mimetype": "text/x-python",
   "name": "python",
   "nbconvert_exporter": "python",
   "pygments_lexer": "ipython3",
   "version": "3.11.9"
  }
 },
 "nbformat": 4,
 "nbformat_minor": 5
}
