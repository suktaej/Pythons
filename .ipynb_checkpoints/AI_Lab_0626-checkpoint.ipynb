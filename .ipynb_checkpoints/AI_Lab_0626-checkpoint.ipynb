{
 "cells": [
  {
   "cell_type": "code",
   "execution_count": null,
   "id": "6d2cda8b-1914-451b-96a2-edbdcad95b05",
   "metadata": {},
   "outputs": [],
   "source": [
    "import sys\n",
    "sys.version"
   ]
  },
  {
   "cell_type": "code",
   "execution_count": 11,
   "id": "fda55f97-25eb-40c5-b921-b9c27009ba77",
   "metadata": {},
   "outputs": [
    {
     "name": "stdout",
     "output_type": "stream",
     "text": [
      "0x79ef60300490\n",
      "0x79ef60300850\n",
      "0x79ef60300850\n",
      "0x79ef60300490\n",
      "<class 'int'>\n",
      "0x79ef60300490\n"
     ]
    }
   ],
   "source": [
    "a=30 #instance of int class\n",
    "print(hex(id(a)))\n",
    "b=60 # b=int(60)\n",
    "print(hex(id(b)))\n",
    "a=b\n",
    "print(hex(id(a)))\n",
    "a=30\n",
    "print(hex(id(a)))\n",
    "print(type(a))\n",
    "c=30\n",
    "del a\n",
    "print(hex(id(c)))"
   ]
  }
 ],
 "metadata": {
  "kernelspec": {
   "display_name": "Python 3 (ipykernel)",
   "language": "python",
   "name": "python3"
  },
  "language_info": {
   "codemirror_mode": {
    "name": "ipython",
    "version": 3
   },
   "file_extension": ".py",
   "mimetype": "text/x-python",
   "name": "python",
   "nbconvert_exporter": "python",
   "pygments_lexer": "ipython3",
   "version": "3.10.12"
  }
 },
 "nbformat": 4,
 "nbformat_minor": 5
}
