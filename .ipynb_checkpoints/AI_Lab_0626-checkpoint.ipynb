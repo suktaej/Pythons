{
 "cells": [
  {
   "cell_type": "code",
   "execution_count": null,
   "id": "6d2cda8b-1914-451b-96a2-edbdcad95b05",
   "metadata": {},
   "outputs": [],
   "source": [
    "import sys\n",
    "sys.version"
   ]
  },
  {
   "cell_type": "code",
   "execution_count": 11,
   "id": "fda55f97-25eb-40c5-b921-b9c27009ba77",
   "metadata": {},
   "outputs": [
    {
     "name": "stdout",
     "output_type": "stream",
     "text": [
      "0x79ef60300490\n",
      "0x79ef60300850\n",
      "0x79ef60300850\n",
      "0x79ef60300490\n",
      "<class 'int'>\n",
      "0x79ef60300490\n"
     ]
    }
   ],
   "source": [
    "a=30 #instance of int class\n",
    "print(hex(id(a)))\n",
    "b=60 # b=int(60)\n",
    "print(hex(id(b)))\n",
    "a=b\n",
    "print(hex(id(a)))\n",
    "a=30\n",
    "print(hex(id(a)))\n",
    "print(type(a))\n",
    "c=30\n",
    "del a\n",
    "print(hex(id(c)))"
   ]
  },
  {
   "cell_type": "code",
   "execution_count": 3,
   "id": "7ab557d4-6bbc-40c7-a6d5-e59350e04f65",
   "metadata": {},
   "outputs": [
    {
     "name": "stdout",
     "output_type": "stream",
     "text": [
      "1 2 3:4:5\n"
     ]
    },
    {
     "data": {
      "text/plain": [
       "'1 2 3\\n'"
      ]
     },
     "execution_count": 3,
     "metadata": {},
     "output_type": "execute_result"
    }
   ],
   "source": [
    "print(1,2,end=' ');print(3,4,5,sep=':')\n",
    "f=open('out.txt','w'); print(1,2,3, file=f)\n",
    "f.close(); open('out.txt').read()"
   ]
  },
  {
   "cell_type": "code",
   "execution_count": 14,
   "id": "a19a170d-9a76-47f6-bbb1-beeed68e0519",
   "metadata": {},
   "outputs": [
    {
     "name": "stdout",
     "output_type": "stream",
     "text": [
      "     1.234\n",
      "apple 7.77\n",
      "apple      7.77\n",
      "====hi====\n"
     ]
    }
   ],
   "source": [
    "print(format(1.2345,\"10.3f\"))\n",
    "print('{0} {1}'.format('apple',7.77))\n",
    "print('{0:<10}{1:5.2f}'.format('apple',7.77))\n",
    "print('{0:=^10}'.format('hi'))"
   ]
  },
  {
   "cell_type": "code",
   "execution_count": 19,
   "id": "6ebb744b-c3e2-4a67-b71d-37fc4da8d3e6",
   "metadata": {},
   "outputs": [
    {
     "name": "stdout",
     "output_type": "stream",
     "text": [
      "[[1, 2, 3], [4, 5], [6, 7, 8, 9]]\n",
      "[1, 2, 3] [4, 5] [6, 7, 8, 9]\n",
      "[1, 2, 3]\n",
      "[4, 5]\n",
      "[6, 7, 8, 9]\n",
      "[   [1, 2, 3],\n",
      "    [4, 5],\n",
      "    [6, 7, 8, 9]]\n"
     ]
    }
   ],
   "source": [
    "import pprint\n",
    "numbers=[[1,2,3],[4,5],[6,7,8,9]]\n",
    "print(numbers)\n",
    "print(*numbers)\n",
    "print(*numbers, sep='\\n')\n",
    "pprint.pprint(numbers,width=20,indent=4)"
   ]
  },
  {
   "cell_type": "code",
   "execution_count": 20,
   "id": "3995b698-4767-4a8d-8437-3f8e8825563b",
   "metadata": {},
   "outputs": [
    {
     "data": {
      "text/plain": [
       "3"
      ]
     },
     "execution_count": 20,
     "metadata": {},
     "output_type": "execute_result"
    }
   ],
   "source": [
    "import sys\n",
    "a=10234\n",
    "sys.getrefcount(a)"
   ]
  },
  {
   "cell_type": "code",
   "execution_count": 26,
   "id": "ce947910-df78-4dc0-ac30-83bea0c4d850",
   "metadata": {},
   "outputs": [
    {
     "name": "stdout",
     "output_type": "stream",
     "text": [
      "b'ytho'\n",
      "True\n",
      "True\n",
      "False\n",
      "<class 'str'>\n",
      "<class 'bytes'>\n"
     ]
    }
   ],
   "source": [
    "bt = b'Python rules'\n",
    "print(bt[1:5])\n",
    "print(b'th' in bt)\n",
    "print(bt.startswith(b'Py'))\n",
    "print(bt.endswith(b'ld'))\n",
    "be = bt.decode()\n",
    "print(type(be))\n",
    "bd = be.encode()\n",
    "print(type(bd))"
   ]
  },
  {
   "cell_type": "code",
   "execution_count": 29,
   "id": "19ee90e7-04cd-4d52-832e-9187a61fdffa",
   "metadata": {},
   "outputs": [
    {
     "name": "stdout",
     "output_type": "stream",
     "text": [
      "<class 'bytearray'>\n"
     ]
    },
    {
     "data": {
      "text/plain": [
       "bytearray(b'Python Rules')"
      ]
     },
     "execution_count": 29,
     "metadata": {},
     "output_type": "execute_result"
    }
   ],
   "source": [
    "bt = b'Python rules'\n",
    "ba = bytearray(bt)\n",
    "print(type(ba))\n",
    "ba[7]=ord('R')"
   ]
  },
  {
   "cell_type": "code",
   "execution_count": 32,
   "id": "f53d517c-f730-4d28-9fef-7dd73be1be80",
   "metadata": {},
   "outputs": [
    {
     "name": "stdout",
     "output_type": "stream",
     "text": [
      " 23 any_value 2.35\n",
      " 23 any_value 2.35\n"
     ]
    }
   ],
   "source": [
    "int_val=23; float_val=2.3456\n",
    "print(\"%3d %s %0.2f\" %(int_val,'any_value',float_val))\n",
    "print(format(int_val,'3d'),'any_value',format(float_val,'.2f'))"
   ]
  },
  {
   "cell_type": "code",
   "execution_count": 36,
   "id": "1344afea-833d-49b2-9d81-a5cd54e13e81",
   "metadata": {},
   "outputs": [
    {
     "name": "stdout",
     "output_type": "stream",
     "text": [
      "[6, 8, 10]\n",
      "[6, 9]\n"
     ]
    }
   ],
   "source": [
    "# list comprehension\n",
    "a=[k for k in range(0,11,2) if k>4]\n",
    "print(a)\n",
    "b=[k for k in range(0,10) if (k%3==0) and (k>4)]\n",
    "print(b)"
   ]
  },
  {
   "cell_type": "code",
   "execution_count": 40,
   "id": "eee62bfd-63b9-48d7-abf9-4b51888819df",
   "metadata": {},
   "outputs": [
    {
     "name": "stdout",
     "output_type": "stream",
     "text": [
      "1 [2, 3, 4, 5]\n"
     ]
    },
    {
     "ename": "SyntaxError",
     "evalue": "multiple starred expressions in assignment (2783718988.py, line 11)",
     "output_type": "error",
     "traceback": [
      "\u001b[0;36m  Cell \u001b[0;32mIn[40], line 11\u001b[0;36m\u001b[0m\n\u001b[0;31m    *c,*d=tt\u001b[0m\n\u001b[0m    ^\u001b[0m\n\u001b[0;31mSyntaxError\u001b[0m\u001b[0;31m:\u001b[0m multiple starred expressions in assignment\n"
     ]
    }
   ],
   "source": [
    "# packing\n",
    "t = 1, 2, 'hello' #tuple\n",
    "# unpacking\n",
    "x,y,z = t #int, int, str\n",
    "# unpacking\n",
    "a,b,c = 10,20,'python'\n",
    "#expended unpacking\n",
    "tt=(1,2,3,4,5)\n",
    "a,*b=tt\n",
    "print(a,b)"
   ]
  },
  {
   "cell_type": "code",
   "execution_count": null,
   "id": "3862dbf8-4401-4688-a032-c8d32020a4d8",
   "metadata": {},
   "outputs": [],
   "source": []
  }
 ],
 "metadata": {
  "kernelspec": {
   "display_name": "Python 3 (ipykernel)",
   "language": "python",
   "name": "python3"
  },
  "language_info": {
   "codemirror_mode": {
    "name": "ipython",
    "version": 3
   },
   "file_extension": ".py",
   "mimetype": "text/x-python",
   "name": "python",
   "nbconvert_exporter": "python",
   "pygments_lexer": "ipython3",
   "version": "3.10.12"
  }
 },
 "nbformat": 4,
 "nbformat_minor": 5
}
