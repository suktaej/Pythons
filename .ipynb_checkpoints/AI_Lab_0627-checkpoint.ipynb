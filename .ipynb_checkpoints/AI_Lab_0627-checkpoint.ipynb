{
 "cells": [
  {
   "cell_type": "code",
   "execution_count": 20,
   "id": "49a7e9dc",
   "metadata": {},
   "outputs": [
    {
     "name": "stdout",
     "output_type": "stream",
     "text": [
      "add is called\n",
      "30\n",
      "sub is called\n",
      "10\n",
      "mul is called\n",
      "200\n",
      "div is called\n",
      "2\n",
      "add is called\n",
      "30\n",
      "sub is called\n",
      "-10\n",
      "mul is called\n",
      "200\n",
      "div is called\n",
      "0\n",
      "[<function add at 0x000001B57CC1ED40>, <function sub at 0x000001B57CC1E840>, <function mul at 0x000001B57CC1EDE0>, <function div at 0x000001B57D9316C0>]\n",
      "\n",
      "add is called\n",
      "70\n",
      "sub is called\n",
      "-10\n",
      "mul is called\n",
      "1200\n",
      "div is called\n",
      "0\n"
     ]
    }
   ],
   "source": [
    "def add(a,b):\n",
    "    c=a+b\n",
    "    print('add is called')\n",
    "    return c\n",
    "\n",
    "def sub(a,b):\n",
    "    c=a-b\n",
    "    print('sub is called')\n",
    "    return c\n",
    "\n",
    "def mul(a,b):\n",
    "    c=a*b\n",
    "    print('mul is called')\n",
    "    return c\n",
    "\n",
    "def div(a,b):\n",
    "    c=a//b\n",
    "    print('div is called')\n",
    "    return c\n",
    "\n",
    "print(add(20,10))\n",
    "print(sub(20,10))\n",
    "print(mul(20,10))\n",
    "print(div(20,10))\n",
    "\n",
    "func_list = [add,sub,mul,div]\n",
    "print(func_list[0](10,20))\n",
    "print(func_list[1](10,20))\n",
    "print(func_list[2](10,20))\n",
    "print(func_list[3](10,20))\n",
    "#print(func_list)\n",
    "print()\n",
    "for k in func_list:\n",
    "    print(k(30,40))"
   ]
  },
  {
   "cell_type": "code",
   "execution_count": 9,
   "id": "9dce583b",
   "metadata": {},
   "outputs": [
    {
     "name": "stdout",
     "output_type": "stream",
     "text": [
      "(10, 5)\n",
      "(10, 5)\n"
     ]
    }
   ],
   "source": [
    "def order1(a,b):\n",
    "    return(max(a,b),min(a,b))\n",
    "\n",
    "def order2(a,b):\n",
    "    if a<b:\n",
    "        return a,b = b,a\n",
    "    \n",
    "print(order2(5,10))\n",
    "print(order2(10,5))"
   ]
  },
  {
   "cell_type": "code",
   "execution_count": 16,
   "id": "e89651d7",
   "metadata": {},
   "outputs": [
    {
     "name": "stdout",
     "output_type": "stream",
     "text": [
      "add_two is called\n",
      "func_two is called\n",
      "add_two is called\n",
      "30\n"
     ]
    }
   ],
   "source": [
    "def add_two(a,b):\n",
    "    print('add_two is called')\n",
    "    return a+b\n",
    "b=add_two\n",
    "b(10,20)\n",
    "\n",
    "def func_two(func,a,b):\n",
    "    print('func_two is called')\n",
    "    result = func(a,b)\n",
    "    return result\n",
    "\n",
    "result = func_two(add_two,10,20)\n",
    "print(result)"
   ]
  },
  {
   "cell_type": "code",
   "execution_count": 21,
   "id": "e343b4cc",
   "metadata": {},
   "outputs": [
    {
     "name": "stdout",
     "output_type": "stream",
     "text": [
      "foo2\n"
     ]
    }
   ],
   "source": [
    "def foo2():\n",
    "    print(\"foo2\")\n",
    "    def bar2():\n",
    "        print(\"bar2\")\n",
    "    return bar2\n",
    "\n",
    "ret = foo2()"
   ]
  },
  {
   "cell_type": "code",
   "execution_count": 25,
   "id": "d521cbd8",
   "metadata": {},
   "outputs": [
    {
     "name": "stdout",
     "output_type": "stream",
     "text": [
      "30\n"
     ]
    }
   ],
   "source": [
    "def add(a,b):\n",
    "    return a+b\n",
    "\n",
    "add_new = lambda a,b:a+b\n",
    "print(add_new(10,20))"
   ]
  },
  {
   "cell_type": "code",
   "execution_count": 29,
   "id": "67f5f8ac",
   "metadata": {},
   "outputs": [
    {
     "name": "stdout",
     "output_type": "stream",
     "text": [
      "[2, 5, 10, 17]\n",
      "[3, 5, 7, 9]\n",
      "[2, 5, 10, 17]\n"
     ]
    }
   ],
   "source": [
    "def f1(x):\n",
    "    return x*x +1\n",
    "\n",
    "def f2(x):\n",
    "    return 2*x +1\n",
    "\n",
    "def g(func):\n",
    "    return [func(x) for x in range(1,5)]\n",
    "\n",
    "print(g(f1))\n",
    "print(g(f2))\n",
    "\n",
    "print(g(lambda x:x*x+1))"
   ]
  },
  {
   "cell_type": "code",
   "execution_count": null,
   "id": "660cd799",
   "metadata": {},
   "outputs": [],
   "source": []
  }
 ],
 "metadata": {
  "kernelspec": {
   "display_name": "Python 3 (ipykernel)",
   "language": "python",
   "name": "python3"
  },
  "language_info": {
   "codemirror_mode": {
    "name": "ipython",
    "version": 3
   },
   "file_extension": ".py",
   "mimetype": "text/x-python",
   "name": "python",
   "nbconvert_exporter": "python",
   "pygments_lexer": "ipython3",
   "version": "3.11.9"
  }
 },
 "nbformat": 4,
 "nbformat_minor": 5
}
