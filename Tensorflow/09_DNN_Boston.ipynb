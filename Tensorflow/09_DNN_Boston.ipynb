{
 "cells": [
  {
   "cell_type": "code",
   "execution_count": 1,
   "id": "3a343413-cf2f-4081-8242-a3caa59e127a",
   "metadata": {},
   "outputs": [],
   "source": [
    "import tensorflow as tf\n",
    "import numpy as np\n",
    "tf.random.set_seed(5)"
   ]
  },
  {
   "cell_type": "code",
   "execution_count": 2,
   "id": "5c47d878-81cd-4b90-9c2b-59d8dc75299b",
   "metadata": {},
   "outputs": [
    {
     "name": "stdout",
     "output_type": "stream",
     "text": [
      "(400, 10)\n",
      "(400, 9) (400, 1)\n"
     ]
    }
   ],
   "source": [
    "arr=np.loadtxt(\"boston_train.csv\",delimiter=',',skiprows=1,dtype=np.float32)\n",
    "print(arr.shape)\n",
    "\n",
    "x_train = arr[:,:-1]\n",
    "y_train = arr[:,[-1]]\n",
    "print(x_train.shape, y_train.shape)"
   ]
  },
  {
   "cell_type": "code",
   "execution_count": 3,
   "id": "6129317c-f168-46fd-9800-baea50b5c4d9",
   "metadata": {},
   "outputs": [],
   "source": [
    "W1=tf.Variable(tf.random.normal([9,9]),name='weight1')\n",
    "b1=tf.Variable(tf.random.normal([9]),name='bias1')\n",
    "\n",
    "def layer1(X):\n",
    "    return tf.nn.relu(tf.matmul(X,W1)+b1)"
   ]
  },
  {
   "cell_type": "code",
   "execution_count": 4,
   "id": "009a8970-24f3-4404-be37-8e6eb6021818",
   "metadata": {},
   "outputs": [],
   "source": [
    "W2=tf.Variable(tf.random.normal([9,9]),name='weight2')\n",
    "b2=tf.Variable(tf.random.normal([9]),name='bias2')\n",
    "\n",
    "def layer2(X):\n",
    "    return tf.nn.relu(tf.matmul(layer1(X),W2)+b2)"
   ]
  },
  {
   "cell_type": "code",
   "execution_count": 5,
   "id": "260a84db-5c43-4811-858d-5f4796455897",
   "metadata": {},
   "outputs": [],
   "source": [
    "W3=tf.Variable(tf.random.normal([9,1]),name='weight3')\n",
    "b3=tf.Variable(tf.random.normal([1]),name='bias3')\n",
    "\n",
    "def hy(X):\n",
    "    return tf.matmul(layer2(X),W3)+b3"
   ]
  },
  {
   "cell_type": "code",
   "execution_count": 6,
   "id": "3b0a5354-c2fe-4556-87dd-aef7c11c1d19",
   "metadata": {},
   "outputs": [],
   "source": [
    "def cost_func():\n",
    "    cost = tf.reduce_mean(tf.square(hy(x_train)-y_train))\n",
    "    return cost"
   ]
  },
  {
   "cell_type": "code",
   "execution_count": 7,
   "id": "665247f7-5ec7-4b42-a416-550a7d6f2dec",
   "metadata": {},
   "outputs": [],
   "source": [
    "opt = tf.keras.optimizers.Adam(learning_rate=0.01)"
   ]
  },
  {
   "cell_type": "code",
   "execution_count": 8,
   "id": "74e1ed9d-294f-4a41-af6c-2f2c98395039",
   "metadata": {},
   "outputs": [
    {
     "name": "stdout",
     "output_type": "stream",
     "text": [
      "===Start===\n",
      "0 cost: 127384.08\n",
      "1000 cost: 102.74254\n",
      "2000 cost: 63.839787\n",
      "3000 cost: 53.389103\n",
      "4000 cost: 32.991528\n",
      "5000 cost: 32.16269\n",
      "6000 cost: 31.34484\n",
      "7000 cost: 30.078266\n",
      "8000 cost: 30.455276\n",
      "9000 cost: 30.310415\n",
      "10000 cost: 28.23781\n",
      "11000 cost: 26.007729\n",
      "12000 cost: 23.130903\n",
      "13000 cost: 21.454823\n",
      "14000 cost: 20.698372\n",
      "15000 cost: 20.438519\n",
      "16000 cost: 21.168297\n",
      "17000 cost: 19.50399\n",
      "18000 cost: 19.190956\n",
      "19000 cost: 21.128115\n",
      "===finished===\n"
     ]
    }
   ],
   "source": [
    "print(\"===Start===\")\n",
    "for step in range(20000):\n",
    "    opt.minimize(cost_func,var_list=[W1,b1,W2,b2,W3,b3])\n",
    "    if step%1000 == 0:\n",
    "        print('%d'%step,'cost:',cost_func().numpy())\n",
    "print(\"===finished===\")"
   ]
  },
  {
   "cell_type": "code",
   "execution_count": 9,
   "id": "239a81aa-1e9c-4811-bc9c-52864e1dff58",
   "metadata": {},
   "outputs": [
    {
     "name": "stdout",
     "output_type": "stream",
     "text": [
      "(100, 10)\n"
     ]
    }
   ],
   "source": [
    "ans = np.loadtxt(\"boston_test.csv\",delimiter=',',skiprows=1,dtype=np.float32)\n",
    "print(ans.shape)\n",
    "\n",
    "ans_x = ans[:,:-1]\n",
    "ans_y = ans[:,[-1]]"
   ]
  },
  {
   "cell_type": "code",
   "execution_count": 10,
   "id": "d3e69734-58b1-4188-a5bf-07dbf0e97fb0",
   "metadata": {},
   "outputs": [
    {
     "data": {
      "text/plain": [
       "3.9379535"
      ]
     },
     "execution_count": 10,
     "metadata": {},
     "output_type": "execute_result"
    }
   ],
   "source": [
    "def get_rmse(y_test,preds):\n",
    "    squared_error = 0\n",
    "    for k,_ in enumerate(y_test):\n",
    "        squared_error += (preds[k]-y_test[k])**2\n",
    "    mse = squared_error/len(y_test)\n",
    "    rmse = np.sqrt(mse)\n",
    "    return rmse[0]\n",
    "\n",
    "x_test=ans_x\n",
    "y_test=ans_y\n",
    "preds=hy(x_test).numpy()\n",
    "get_rmse(y_test,preds)"
   ]
  },
  {
   "cell_type": "code",
   "execution_count": null,
   "id": "affeddb7-efa8-4f28-9047-a5fe89faa132",
   "metadata": {},
   "outputs": [],
   "source": []
  }
 ],
 "metadata": {
  "kernelspec": {
   "display_name": "Python 3 (ipykernel)",
   "language": "python",
   "name": "python3"
  },
  "language_info": {
   "codemirror_mode": {
    "name": "ipython",
    "version": 3
   },
   "file_extension": ".py",
   "mimetype": "text/x-python",
   "name": "python",
   "nbconvert_exporter": "python",
   "pygments_lexer": "ipython3",
   "version": "3.10.14"
  }
 },
 "nbformat": 4,
 "nbformat_minor": 5
}
