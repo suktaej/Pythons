{
 "cells": [
  {
   "cell_type": "code",
   "execution_count": 1,
   "id": "8a696d71-e555-4840-9e68-4c10bdab9335",
   "metadata": {},
   "outputs": [
    {
     "data": {
      "text/plain": [
       "'2.10.0'"
      ]
     },
     "execution_count": 1,
     "metadata": {},
     "output_type": "execute_result"
    }
   ],
   "source": [
    "import tensorflow as tf\n",
    "tf.__version__"
   ]
  },
  {
   "cell_type": "code",
   "execution_count": 2,
   "id": "d388217d-8e6a-4c39-ae7d-831b1059d6df",
   "metadata": {},
   "outputs": [
    {
     "data": {
      "text/plain": [
       "[name: \"/device:CPU:0\"\n",
       " device_type: \"CPU\"\n",
       " memory_limit: 268435456\n",
       " locality {\n",
       " }\n",
       " incarnation: 731028439389643444\n",
       " xla_global_id: -1,\n",
       " name: \"/device:GPU:0\"\n",
       " device_type: \"GPU\"\n",
       " memory_limit: 10067378176\n",
       " locality {\n",
       "   bus_id: 1\n",
       "   links {\n",
       "   }\n",
       " }\n",
       " incarnation: 17329671712555397462\n",
       " physical_device_desc: \"device: 0, name: NVIDIA GeForce RTX 3060, pci bus id: 0000:01:00.0, compute capability: 8.6\"\n",
       " xla_global_id: 416903419]"
      ]
     },
     "execution_count": 2,
     "metadata": {},
     "output_type": "execute_result"
    }
   ],
   "source": [
    "from tensorflow.python.client import device_lib\n",
    "device_lib.list_local_devices()"
   ]
  },
  {
   "cell_type": "code",
   "execution_count": 17,
   "id": "8ea12609-6774-4edb-af12-981df4ba114d",
   "metadata": {},
   "outputs": [
    {
     "name": "stdout",
     "output_type": "stream",
     "text": [
      "tf.Tensor(b'hello world!', shape=(), dtype=string)\n",
      "tf.Tensor(\n",
      "[[1. 3.]\n",
      " [3. 7.]], shape=(2, 2), dtype=float32)\n",
      "<class 'tensorflow.python.framework.ops.EagerTensor'>\n",
      "(2, 2)\n",
      "<dtype: 'float32'>\n",
      "[[1. 3.]\n",
      " [3. 7.]]\n",
      "<class 'numpy.ndarray'>\n",
      "10\n",
      "<class 'int'>\n"
     ]
    }
   ],
   "source": [
    "import tensorflow as tf\n",
    "import numpy as np\n",
    "s=tf.constant(\"hello world!\")\n",
    "print(s)\n",
    "a=tf.constant([[1.,2.],\n",
    "   [3.,4.]])\n",
    "b=tf.constant([[1.,1.],\n",
    "   [0.,1.]])\n",
    "c=tf.matmul(a,b)\n",
    "d=tf.constant(10)\n",
    "print(c)\n",
    "print(type(c))\n",
    "print(c.shape)\n",
    "print(c.dtype)\n",
    "\n",
    "#tensor obj to ndarray(:N dimention array)\n",
    "n = c.numpy()\n",
    "print(n)\n",
    "print(type(n))\n",
    "\n",
    "#Change to python native\n",
    "pn = int(d)\n",
    "print(pn)\n",
    "print(type(pn))"
   ]
  },
  {
   "cell_type": "code",
   "execution_count": 6,
   "id": "040e0d67-2c29-485a-baea-306c040cd10d",
   "metadata": {},
   "outputs": [
    {
     "name": "stdout",
     "output_type": "stream",
     "text": [
      "<tf.Variable 'Variable:0' shape=() dtype=int32, numpy=100>\n",
      "<tf.Variable 'Variable:0' shape=() dtype=int32, numpy=200>\n",
      "tf.Tensor(300, shape=(), dtype=int32)\n"
     ]
    }
   ],
   "source": [
    "# Variable:tf.Variable()\n",
    "import tensorflow as tf\n",
    "a=tf.Variable(100)\n",
    "b=tf.Variable(200)\n",
    "c=tf.add(a,b)\n",
    "print(a)\n",
    "print(b)\n",
    "print(c)"
   ]
  },
  {
   "cell_type": "markdown",
   "id": "1171d997-fa21-4de5-895a-fe66fb603c20",
   "metadata": {},
   "source": [
    "### tf.Tensor: 텐서 객체\n",
    "#### 텐서는 다차원 배열로 넘파이(NumPy) ndarray 객체와 비슷하며,\n",
    "#### tf.Tensor 객체는 데이터 타입과 크기를 가지고 있다.\n",
    "#### 또한 tf.Tensor는 GPU 같은 가속기 메모리에 상주할 수 있다.\n",
    "#### 텐서플로는 텐서를 생성하고 이용하는 풍부한 연산 라이브러리(tf.add, tf.matmul, tf.linalg.inv 등.)를 제공하며\n",
    "#### 연산수행 시 자동으로 텐서를 파이썬 네이티브(native) 타입으로 변환하여 연산한다"
   ]
  },
  {
   "cell_type": "code",
   "execution_count": 10,
   "id": "0a673281-579e-4dcb-8ca8-bc374b4b0d52",
   "metadata": {},
   "outputs": [
    {
     "name": "stdout",
     "output_type": "stream",
     "text": [
      "tf.Tensor(3, shape=(), dtype=int32)\n",
      "tf.Tensor([4 6], shape=(2,), dtype=int32)\n",
      "tf.Tensor(25, shape=(), dtype=int32)\n",
      "tf.Tensor(18, shape=(), dtype=int32)\n"
     ]
    }
   ],
   "source": [
    "#Operatior\n",
    "print(tf.add(1,2))\n",
    "print(tf.add([1,2],[3,4]))\n",
    "print(tf.square(5))\n",
    "print(tf.reduce_sum([10,5,3]))"
   ]
  },
  {
   "cell_type": "markdown",
   "id": "9f3aeb5f-a61b-4aae-9328-8105fce4ba49",
   "metadata": {},
   "source": [
    "#### 예를 들어 10이라는 값 하나는 scalar (점, 1차원? 0차원으로 이해)\n",
    "#### [1 2 3]이라는 배열(array, list와는 다름)은 방향을 가지는 vector (1차원 = Rank1)\n",
    "#### [[1. 2.] [3. 4.]] 2차원 배열 = 행렬(Matrix) = Rank2\n",
    "#### [[[1 1][2 2]][[3 3][4 4]]] 3차원 = 3d-Tensor = Rank3"
   ]
  },
  {
   "cell_type": "code",
   "execution_count": null,
   "id": "c8681192-a3a3-446d-b0e3-6c6d52187646",
   "metadata": {},
   "outputs": [],
   "source": []
  }
 ],
 "metadata": {
  "kernelspec": {
   "display_name": "Python 3 (ipykernel)",
   "language": "python",
   "name": "python3"
  },
  "language_info": {
   "codemirror_mode": {
    "name": "ipython",
    "version": 3
   },
   "file_extension": ".py",
   "mimetype": "text/x-python",
   "name": "python",
   "nbconvert_exporter": "python",
   "pygments_lexer": "ipython3",
   "version": "3.10.14"
  }
 },
 "nbformat": 4,
 "nbformat_minor": 5
}
