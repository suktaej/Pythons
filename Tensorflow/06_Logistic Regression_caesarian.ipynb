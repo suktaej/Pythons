{
 "cells": [
  {
   "cell_type": "code",
   "execution_count": 1,
   "id": "bee3e259-2486-4c4a-85c1-e386aa44ba0c",
   "metadata": {},
   "outputs": [],
   "source": [
    "import tensorflow as tf\n",
    "import numpy as np\n",
    "tf.random.set_seed(5)"
   ]
  },
  {
   "cell_type": "code",
   "execution_count": 3,
   "id": "46d8fa3f-987f-49d3-a2d7-6c06fd4fe127",
   "metadata": {},
   "outputs": [
    {
     "name": "stdout",
     "output_type": "stream",
     "text": [
      "(80, 6)\n",
      "(80, 5) (80, 1)\n"
     ]
    }
   ],
   "source": [
    "arr = np.loadtxt(\"caesarian.csv\",delimiter=',',dtype=np.float32)\n",
    "print(arr.shape)\n",
    "x_train = arr[:,:-1]\n",
    "y_train = arr[:,[-1]]\n",
    "print(x_train.shape,y_train.shape)"
   ]
  },
  {
   "cell_type": "code",
   "execution_count": 4,
   "id": "c3679798-bc9a-4665-8480-6e22325b645a",
   "metadata": {},
   "outputs": [
    {
     "name": "stdout",
     "output_type": "stream",
     "text": [
      "<tf.Variable 'Weight:0' shape=(5, 1) dtype=float32, numpy=\n",
      "array([[-0.18030666],\n",
      "       [-0.95028627],\n",
      "       [-0.03964049],\n",
      "       [-0.7425406 ],\n",
      "       [ 1.3231523 ]], dtype=float32)> <tf.Variable 'Bias:0' shape=(1,) dtype=float32, numpy=array([0.22652864], dtype=float32)>\n"
     ]
    }
   ],
   "source": [
    "W=tf.Variable(tf.random.normal([5,1]),name='Weight')\n",
    "b=tf.Variable(tf.random.normal([1]),name='Bias')\n",
    "print(W,b)"
   ]
  },
  {
   "cell_type": "code",
   "execution_count": 5,
   "id": "adc59005-d7ee-4b02-b680-95540c9459c0",
   "metadata": {},
   "outputs": [],
   "source": [
    "def hy(X):\n",
    "    return tf.sigmoid(tf.matmul(X,W) + b)"
   ]
  },
  {
   "cell_type": "code",
   "execution_count": 6,
   "id": "e7a47ea3-6038-4ae0-9de6-e38a92b33167",
   "metadata": {},
   "outputs": [],
   "source": [
    "def cost_func():\n",
    "    cost = -tf.reduce_mean(y_train*tf.math.log(hy(x_train)) +\n",
    "                           (1-y_train)*tf.math.log(1-hy(x_train)))\n",
    "    return cost"
   ]
  },
  {
   "cell_type": "code",
   "execution_count": 7,
   "id": "63d62621-df0d-4d07-a233-2f57536fe450",
   "metadata": {},
   "outputs": [],
   "source": [
    "opt = tf.keras.optimizers.Adam(learning_rate=0.01)"
   ]
  },
  {
   "cell_type": "code",
   "execution_count": 8,
   "id": "13e271ae-7d15-4658-9a27-ae49d11bf86f",
   "metadata": {},
   "outputs": [
    {
     "name": "stdout",
     "output_type": "stream",
     "text": [
      "===Start===\n",
      "0 cost: 3.5857995\n",
      "1000 cost: 0.5942924\n",
      "2000 cost: 0.5942908\n",
      "3000 cost: 0.5942907\n",
      "4000 cost: 0.59429073\n",
      "5000 cost: 0.59429073\n",
      "6000 cost: 0.59429073\n",
      "7000 cost: 0.59429073\n",
      "8000 cost: 0.59429073\n",
      "9000 cost: 0.5942907\n",
      "===finished===\n"
     ]
    }
   ],
   "source": [
    "print(\"===Start===\")\n",
    "for step in range(10000):\n",
    "    opt.minimize(cost_func,var_list=[W,b])\n",
    "    if step%1000 == 0:\n",
    "        print('%d'%step,'cost:',cost_func().numpy())\n",
    "print(\"===finished===\")"
   ]
  },
  {
   "cell_type": "code",
   "execution_count": 16,
   "id": "059684f2-8914-4a3a-862c-8267e49e9068",
   "metadata": {},
   "outputs": [],
   "source": [
    "#preds = tf.cast(hy(x_train) > 0.5, dtype=tf.float32)\n",
    "#tf.cast(tf.equal(y_train,preds),dtype=tf.float32)"
   ]
  },
  {
   "cell_type": "code",
   "execution_count": 15,
   "id": "fb5abf5b-0742-403a-87aa-f844fa243626",
   "metadata": {},
   "outputs": [
    {
     "name": "stdout",
     "output_type": "stream",
     "text": [
      "59.0\n",
      "Accuracy: 0.7375\n"
     ]
    }
   ],
   "source": [
    "def predict(X):\n",
    "    return tf.cast(hy(X) > 0.5, dtype=tf.float32)\n",
    "preds=predict(x_train)\n",
    "accur = tf.reduce_mean(tf.cast(tf.equal(preds,y_train),dtype=tf.float32))\n",
    "#print(tf.reduce_sum(tf.cast(tf.equal(preds,y_train),dtype=tf.float32)).numpy())\n",
    "print(\"Accuracy:\",accur.numpy())"
   ]
  },
  {
   "cell_type": "code",
   "execution_count": null,
   "id": "b8ff04c6-0a43-42e7-b505-21bffe5c7c4a",
   "metadata": {},
   "outputs": [],
   "source": []
  }
 ],
 "metadata": {
  "kernelspec": {
   "display_name": "Python 3 (ipykernel)",
   "language": "python",
   "name": "python3"
  },
  "language_info": {
   "codemirror_mode": {
    "name": "ipython",
    "version": 3
   },
   "file_extension": ".py",
   "mimetype": "text/x-python",
   "name": "python",
   "nbconvert_exporter": "python",
   "pygments_lexer": "ipython3",
   "version": "3.10.14"
  }
 },
 "nbformat": 4,
 "nbformat_minor": 5
}
