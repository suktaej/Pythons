{
 "cells": [
  {
   "cell_type": "markdown",
   "id": "ed6aad74-f658-46f8-ab8e-ff065154886b",
   "metadata": {},
   "source": [
    "### mnist_cnn_deep\n",
    "#### MNIST and Convolutional Neural Network\n",
    "- L1,L2 : conv2d + relu + max_pool \n",
    "- L3 : FC(Fully Connected Layer)"
   ]
  },
  {
   "cell_type": "code",
   "execution_count": 1,
   "id": "987d7e2d-8b00-4cd0-9a39-f3b980f9cc1d",
   "metadata": {},
   "outputs": [],
   "source": [
    "import tensorflow as tf\n",
    "import numpy as np\n",
    "import matplotlib.pyplot as plt\n",
    "tf.random.set_seed(5)"
   ]
  },
  {
   "cell_type": "code",
   "execution_count": 2,
   "id": "058ffd95-6268-483e-8dc3-8cf8a5d0093d",
   "metadata": {},
   "outputs": [
    {
     "name": "stdout",
     "output_type": "stream",
     "text": [
      "(60000, 28, 28)\n",
      "(60000,)\n",
      "(10000, 28, 28)\n",
      "(10000,)\n"
     ]
    }
   ],
   "source": [
    "# mnist 데이터 가져오기\n",
    "mnist = tf.keras.datasets.mnist\n",
    "(x_train,y_train),(x_test,y_test) = mnist.load_data()\n",
    "print(x_train.shape)\n",
    "print(y_train.shape)\n",
    "print(x_test.shape)\n",
    "print(y_test.shape)"
   ]
  },
  {
   "cell_type": "code",
   "execution_count": 3,
   "id": "fccf19f8-6c8e-478d-a592-a48c71abbbaf",
   "metadata": {},
   "outputs": [
    {
     "name": "stdout",
     "output_type": "stream",
     "text": [
      "(60000, 10)\n"
     ]
    }
   ],
   "source": [
    "#Onehot encoding\n",
    "nb_classes = 10\n",
    "yonehot = tf.one_hot(y_train,nb_classes) #y.shape (60000,) => (60000,10) rank2로 변경됨\n",
    "print(yonehot.shape)\n",
    "#yonehot = tf.reshape(yonehot,[-1,nb_classes])"
   ]
  },
  {
   "cell_type": "code",
   "execution_count": 4,
   "id": "579e25bb-ab52-414b-9f64-47c35c0c5bdc",
   "metadata": {},
   "outputs": [
    {
     "name": "stdout",
     "output_type": "stream",
     "text": [
      "uint8\n"
     ]
    }
   ],
   "source": [
    "#기존값의 타입은 uint8\n",
    "print(x_train[0].dtype)\n",
    "#x값의 타입을 float형으로 변환\n",
    "x_train = tf.cast(x_train,dtype=tf.float32)\n",
    "x_test = tf.cast(x_test,dtype=tf.float32)"
   ]
  },
  {
   "cell_type": "code",
   "execution_count": 5,
   "id": "18382ff6-40f0-4435-a9dc-5e72ee6dce6c",
   "metadata": {},
   "outputs": [
    {
     "name": "stdout",
     "output_type": "stream",
     "text": [
      "(60000, 28, 28, 1)\n"
     ]
    }
   ],
   "source": [
    "#CNN은 4차원으로 연산 (N,H,W,C)\n",
    "#x값의 shape를 4차원으로 변환\n",
    "X_img = tf.reshape(x_train,[-1,28,28,1]) #리스트 내 요소가 모두 정상으로 입력되었다면 하나는 -1로 모두를 표현할 수 있음\n",
    "print(X_img.shape)"
   ]
  },
  {
   "cell_type": "code",
   "execution_count": 6,
   "id": "b4eb24cb-6272-473a-a2f9-268e188e349c",
   "metadata": {},
   "outputs": [],
   "source": [
    "#filter 생성 (Conv, Relu, max_Pool) - layer1\n",
    "# (?, 28, 28, 1) --> (?, 14, 14, 32)\n",
    "\n",
    "W1 = tf.Variable(tf.random.normal([3,3,1,32]),name='Weight1')\n",
    "# <1> conv2d\n",
    "# L1 input image shape : (?, 28, 28, 1)\n",
    "# filter : (3,3,1,32), => (3x3, color:1, number:32) 필터 32개\n",
    "# strides : (1,1,1,1), padding='SAME'\n",
    "# 출력 이미지 : (28+2 - 3)/1 + 1 = 28\n",
    "# (?, 28, 28, 1) --> (?, 28, 28, 32)\n",
    "def L1_conv2d(X):\n",
    "    return tf.nn.conv2d(X,W1,strides=[1,1,1,1],padding='SAME')\n",
    "    \n",
    "# <2> Relu\n",
    "def L1_relu(X):\n",
    "    return tf.nn.relu(L1_conv2d(X)) #shape 변화는 필요없음\n",
    "    \n",
    "# <3> max_pool\n",
    "# input image : (?, 28, 28, 32)\n",
    "# ksize : (1,2,2,1), strides : (1,2,2,1), padding='SAME'\n",
    "# 출력 이미지 : (28+1 - 2)/2 + 1 = 14\n",
    "#  (?, 28, 28, 32) -->  (?, 14, 14, 32)\n",
    "def L1_Maxpool(X):\n",
    "    return tf.nn.max_pool(L1_relu(X),ksize=[1,2,2,1],strides=[1,2,2,1],padding='SAME')"
   ]
  },
  {
   "cell_type": "code",
   "execution_count": 7,
   "id": "c3eda3ab-e8c3-4753-bd3b-62daa0a2834c",
   "metadata": {},
   "outputs": [],
   "source": [
    "# Layer 2 : (conv2d --> relu --> max_pool)*n --> flatten\n",
    "# (?, 14, 14, 32) --> \n",
    "\n",
    "# <1> conv2d\n",
    "# L2 input image shape : (?, 14, 14, 32)\n",
    "# filter : (3,3,32,64), 필터 64개\n",
    "# strides : (1,1,1,1), padding='SAME'\n",
    "# 출력 이미지 : (14+2 - 3)/1 + 1 = 14\n",
    "# (?, 14, 14, 32) --> (?, 14,14,64) --> (?,7,7,64)\n",
    "W2 = tf.Variable(tf.random.normal([3,3,32,64]),name='Weight2')\n",
    "\n",
    "def L2_conv2d(X):\n",
    "    return tf.nn.conv2d(L1_Maxpool(X),W2,strides=[1,1,1,1],padding='SAME')\n",
    "\n",
    "def L2_relu(X):\n",
    "    return tf.nn.relu(L2_conv2d(X)) \n",
    "\n",
    "def L2_Maxpool(X):\n",
    "    return tf.nn.max_pool(L2_relu(X),ksize=[1,2,2,1],strides=[1,2,2,1],padding='SAME')\n",
    "\n",
    "# <4> flatten layer : 다차원 배열을 2차원으로 변환하여 FC layer에 전달한다\n",
    "def Flat(X):\n",
    "    return tf.reshape(L2_Maxpool(X),[-1,7*7*64])"
   ]
  },
  {
   "cell_type": "code",
   "execution_count": 8,
   "id": "95cf25f1-9f0e-4dce-9751-f8b6377e681b",
   "metadata": {},
   "outputs": [],
   "source": [
    "# Layer 3 : FC(Fully Connected Layer)\n",
    "# (?,7*7*64) * (7*7*64, 10) = (?,10)\n",
    "W3=tf.Variable(tf.random.normal([7*7*64,nb_classes]),name='Weight3')\n",
    "b=tf.Variable(tf.random.normal([nb_classes]),name='Bias3')\n",
    "\n",
    "def logits(X):\n",
    "    return tf.matmul(Flat(X),W3)+b\n",
    "    \n",
    "def hy(X):\n",
    "    return tf.nn.softmax(logits(X))"
   ]
  },
  {
   "cell_type": "code",
   "execution_count": 12,
   "id": "dd9f69ce-8edc-4357-ae45-eee5fa7a89f1",
   "metadata": {},
   "outputs": [
    {
     "name": "stdout",
     "output_type": "stream",
     "text": [
      "===Start===\n",
      "Epoch: 0001 cost: 16355.137250977\n",
      "Epoch: 0002 cost: 2603.961317749\n",
      "Epoch: 0003 cost: 1486.975006409\n",
      "Epoch: 0004 cost: 1013.342236328\n",
      "Epoch: 0005 cost: 751.475326843\n",
      "Epoch: 0006 cost: 580.008846512\n",
      "Epoch: 0007 cost: 459.861003456\n",
      "Epoch: 0008 cost: 372.834581833\n",
      "Epoch: 0009 cost: 301.126077042\n",
      "Epoch: 0010 cost: 247.667602310\n",
      "Epoch: 0011 cost: 213.867624512\n",
      "Epoch: 0012 cost: 194.353375349\n",
      "Epoch: 0013 cost: 155.027475615\n",
      "Epoch: 0014 cost: 127.590496216\n",
      "Epoch: 0015 cost: 102.772195482\n",
      "Epoch: 0016 cost: 84.648362182\n",
      "Epoch: 0017 cost: 75.302405913\n",
      "Epoch: 0018 cost: 62.141945759\n",
      "Epoch: 0019 cost: 53.801338247\n",
      "Epoch: 0020 cost: 42.865027601\n",
      "Epoch: 0021 cost: 37.265522803\n",
      "Epoch: 0022 cost: 29.454476304\n",
      "Epoch: 0023 cost: 30.204148861\n",
      "Epoch: 0024 cost: 26.276840490\n",
      "Epoch: 0025 cost: 23.602795168\n",
      "Epoch: 0026 cost: 23.085343289\n",
      "Epoch: 0027 cost: 14.292190758\n",
      "Epoch: 0028 cost: 18.206025555\n",
      "Epoch: 0029 cost: 15.470276575\n",
      "Epoch: 0030 cost: 11.813008163\n",
      "Epoch: 0031 cost: 12.172869969\n",
      "Epoch: 0032 cost: 8.454251316\n",
      "Epoch: 0033 cost: 6.029436437\n",
      "Epoch: 0034 cost: 7.571642573\n",
      "Epoch: 0035 cost: 6.458277142\n",
      "Epoch: 0036 cost: 3.863998306\n",
      "Epoch: 0037 cost: 6.351813115\n",
      "Epoch: 0038 cost: 4.323928251\n",
      "Epoch: 0039 cost: 5.318189542\n",
      "Epoch: 0040 cost: 6.369717205\n",
      "Epoch: 0041 cost: 3.845501253\n",
      "Epoch: 0042 cost: 4.395799807\n",
      "Epoch: 0043 cost: 4.576797917\n",
      "Epoch: 0044 cost: 8.190953000\n",
      "Epoch: 0045 cost: 5.342247001\n",
      "Epoch: 0046 cost: 6.753049212\n",
      "Epoch: 0047 cost: 7.338452114\n",
      "Epoch: 0048 cost: 9.633858718\n",
      "Epoch: 0049 cost: 5.407585526\n",
      "Epoch: 0050 cost: 10.697194130\n",
      "====End====\n"
     ]
    }
   ],
   "source": [
    "# batch 사이즈로 나누어 학습, 효율적 이며 학습 시간 단축(단위 epoch)\n",
    "training_epoch = 50\n",
    "batch_size = 600 # 1epoch 당 100회 학습 (60000개의 데이터)\n",
    "\n",
    "#경사하강법\n",
    "opt = tf.keras.optimizers.Adam(learning_rate=0.01)\n",
    "\n",
    "print(\"===Start===\")\n",
    "for epoch in range(training_epoch):\n",
    "    avg_cost = 0\n",
    "    total_batch = x_train.shape[0]//batch_size\n",
    "    for k in range(total_batch):\n",
    "        batch_xs = x_train[k*batch_size:(k+1)*batch_size]\n",
    "        batch_ys = yonehot[k*batch_size:(k+1)*batch_size]\n",
    "\n",
    "#x값의 shape를 4차원으로 변경\n",
    "        X_img = tf.reshape(batch_xs,[-1,28,28,1])\n",
    "        def batch_cost_func():\n",
    "            cost_i = tf.nn.softmax_cross_entropy_with_logits(logits = logits(X_img),\n",
    "                                                     labels = batch_ys)\n",
    "            cost = tf.reduce_mean(cost_i)\n",
    "            return cost\n",
    "            \n",
    "        opt.minimize(batch_cost_func,var_list=[W1,W2,W3,b])\n",
    "        avg_cost += batch_cost_func().numpy()/total_batch\n",
    "    print('Epoch:','%04d'%(epoch + 1),'cost:','{:.9f}'.format(avg_cost))\n",
    "print(\"====End====\")"
   ]
  },
  {
   "cell_type": "code",
   "execution_count": 16,
   "id": "b56124ed-d26c-4f41-bf45-6ea2396f15ce",
   "metadata": {},
   "outputs": [
    {
     "name": "stdout",
     "output_type": "stream",
     "text": [
      "Accuracy: 0.9824\n"
     ]
    }
   ],
   "source": [
    "# 정확도 측정 : accuracy computation\n",
    "\n",
    "# y_test 값의 one-hot 인코딩\n",
    "Y_one_hot = tf.one_hot(y_test,nb_classes)    # (10000,10)\n",
    "# print(Y_one_hot.shape)                       # (10000,10)  , (2차원)\n",
    "\n",
    "# tf.argmax() : 값이 가장 큰 요소의 인덱스 값을 반환\n",
    "def predict(X):\n",
    "    return tf.argmax(hy(X),axis=1)\n",
    "\n",
    "# X값의 shape을 4차원으로 변환\n",
    "X_img = tf.reshape(x_test,[-1,28,28,1])\n",
    "        \n",
    "correct_predict = tf.equal(predict(X_img),tf.argmax(Y_one_hot,1))\n",
    "accuracy = tf.reduce_mean(tf.cast(correct_predict, dtype = tf.float32))\n",
    "print(\"Accuracy:\",accuracy.numpy())"
   ]
  },
  {
   "cell_type": "code",
   "execution_count": null,
   "id": "b103f74c-ff52-4212-bc89-5bff8c69b305",
   "metadata": {},
   "outputs": [],
   "source": []
  }
 ],
 "metadata": {
  "kernelspec": {
   "display_name": "Python 3 (ipykernel)",
   "language": "python",
   "name": "python3"
  },
  "language_info": {
   "codemirror_mode": {
    "name": "ipython",
    "version": 3
   },
   "file_extension": ".py",
   "mimetype": "text/x-python",
   "name": "python",
   "nbconvert_exporter": "python",
   "pygments_lexer": "ipython3",
   "version": "3.10.14"
  }
 },
 "nbformat": 4,
 "nbformat_minor": 5
}
