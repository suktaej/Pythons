{
 "cells": [
  {
   "cell_type": "code",
   "execution_count": 1,
   "id": "09b2d9dd-a525-41f2-b23d-06045b293e5b",
   "metadata": {},
   "outputs": [
    {
     "name": "stdout",
     "output_type": "stream",
     "text": [
      "<tf.Variable 'weight:0' shape=(1,) dtype=float32, numpy=array([-0.18030666], dtype=float32)> <tf.Variable 'bias:0' shape=(1,) dtype=float32, numpy=array([0.22652864], dtype=float32)>\n"
     ]
    }
   ],
   "source": [
    "import tensorflow as tf\n",
    "import numpy as np\n",
    "tf.random.set_seed(5)\n",
    "\n",
    "#data for study?\n",
    "x_train = [1.,2.,3.,4.,5.]       #feature\n",
    "y_train = [1.1,2.2,3.3,4.4,5.5]  #target\n",
    "#x_train = [0.3, -0.78, 1.26, 0.03, 1.11, 0.24, -0.24, -0.47, -0.77, -0.37, -0.85, -0.41, -0.27, 0.02, -0.76, 2.66]\n",
    "#y_train = [12.27, 14.44, 11.87, 18.75, 17.52, 16.37, 19.78, 19.51, 12.65, 14.74, 10.72, 21.94, 12.83, 15.51, 17.14, 14.]\n",
    "\n",
    "#initilize variable\n",
    "W=tf.Variable(tf.random.normal([1]),name='weight')\n",
    "b=tf.Variable(tf.random.normal([1]),name='bias')\n",
    "print(W,b)"
   ]
  },
  {
   "cell_type": "code",
   "execution_count": 2,
   "id": "a1b5a770-8653-44a7-9332-1009d4ee0e74",
   "metadata": {},
   "outputs": [],
   "source": [
    "#Hypothesis : H(X) = W*X +b\n",
    "def hy(X):\n",
    "    return X*W +b\n",
    "\n",
    "#Cost func: avg(Hx -y)^2\n",
    "def cost_func():\n",
    "    cost = tf.reduce_mean(tf.square(hy(x_train)-y_train))\n",
    "    return cost"
   ]
  },
  {
   "cell_type": "code",
   "execution_count": 3,
   "id": "0b7e00de-56df-4e99-b91a-507b1b7568c4",
   "metadata": {},
   "outputs": [],
   "source": [
    "#Gradient descent  tf>compatable\n",
    "#optimizer = tf.compat.v1.train.GradientDescentOptimizer(learning_rate=0.01)\n",
    "#optimizer = tf.compat.v1.train.AdamOptimizer(learn_rate=0.01)\n",
    "optimizer = tf.keras.optimizers.Adam(learning_rate=0.01)"
   ]
  },
  {
   "cell_type": "code",
   "execution_count": 4,
   "id": "37722f45-a7d6-4f44-a925-d2388110bbcc",
   "metadata": {},
   "outputs": [
    {
     "name": "stdout",
     "output_type": "stream",
     "text": [
      "Start learning\n",
      "0000 cost:[ 16.00362 ]  W: [-0.17030635]  b: [0.23652893]\n",
      "0100 cost:[ 0.8404933 ]  W: [0.5883364]  b: [0.97205734]\n",
      "0200 cost:[ 0.2133323 ]  W: [0.78384334]  b: [1.0643244]\n",
      "0300 cost:[ 0.16978766 ]  W: [0.82450444]  b: [0.96062124]\n",
      "0400 cost:[ 0.12961993 ]  W: [0.8593207]  b: [0.8393703]\n",
      "0500 cost:[ 0.094649054 ]  W: [0.89434683]  b: [0.71727186]\n",
      "0600 cost:[ 0.0662098 ]  W: [0.9280039]  b: [0.59991956]\n",
      "0700 cost:[ 0.044397563 ]  W: [0.9591612]  b: [0.49126533]\n",
      "0800 cost:[ 0.028538251 ]  W: [0.98708636]  b: [0.39387056]\n",
      "0900 cost:[ 0.017576551 ]  W: [1.0113882]  b: [0.3091073]\n",
      "1000 cost:[ 0.010364339 ]  W: [1.0319558]  b: [0.23736353]\n",
      "1100 cost:[ 0.005845052 ]  W: [1.0489011]  b: [0.17825398]\n",
      "1200 cost:[ 0.0031486307 ]  W: [1.0624961]  b: [0.13082975]\n",
      "1300 cost:[ 0.0016176574 ]  W: [1.0731183]  b: [0.09377538]\n",
      "1400 cost:[ 0.00079130696 ]  W: [1.0811988]  b: [0.06558703]\n",
      "1500 cost:[ 0.00036785388 ]  W: [1.0871811]  b: [0.04471816]\n",
      "1600 cost:[ 0.00016216631 ]  W: [1.0914888]  b: [0.02969127]\n",
      "1700 cost:[ 6.764107e-05 ]  W: [1.094503]  b: [0.01917578]\n",
      "1800 cost:[ 2.66292e-05 ]  W: [1.096551]  b: [0.0120318]\n",
      "1900 cost:[ 9.868345e-06 ]  W: [1.0979004]  b: [0.00732429]\n",
      "2000 cost:[ 3.4315083e-06 ]  W: [1.0987619]  b: [0.00431915]\n",
      "2100 cost:[ 1.1166643e-06 ]  W: [1.0992937]  b: [0.00246387]\n",
      "2200 cost:[ 3.3895077e-07 ]  W: [1.0996109]  b: [0.00135724]\n",
      "2300 cost:[ 9.551993e-08 ]  W: [1.0997934]  b: [0.00072058]\n",
      "2400 cost:[ 2.4910756e-08 ]  W: [1.0998944]  b: [0.00036806]\n",
      "2500 cost:[ 6.0260503e-09 ]  W: [1.0999478]  b: [0.00018099]\n",
      "2600 cost:[ 1.372132e-09 ]  W: [1.0999752]  b: [8.60116e-05]\n",
      "2700 cost:[ 2.924395e-10 ]  W: [1.0999888]  b: [4.012674e-05]\n",
      "2800 cost:[ 5.256027e-11 ]  W: [1.099995]  b: [1.7030534e-05]\n",
      "2900 cost:[ 1.5998581e-11 ]  W: [1.0999972]  b: [8.932461e-06]\n",
      "3000 cost:[ 8.253664e-12 ]  W: [1.099998]  b: [6.2817603e-06]\n",
      "3100 cost:[ 4.9936943e-12 ]  W: [1.0999984]  b: [5.081696e-06]\n",
      "3200 cost:[ 5.141487e-12 ]  W: [1.0999985]  b: [4.529045e-06]\n",
      "3300 cost:[ 4.2319924e-12 ]  W: [1.0999985]  b: [4.533945e-06]\n",
      "3400 cost:[ 3.9705127e-12 ]  W: [1.0999986]  b: [4.1851254e-06]\n",
      "3500 cost:[ 2.8336443e-12 ]  W: [1.0999988]  b: [3.9136994e-06]\n",
      "3600 cost:[ 2.9672265e-12 ]  W: [1.0999988]  b: [3.5727478e-06]\n",
      "3700 cost:[ 2.3305802e-12 ]  W: [1.0999988]  b: [3.5768287e-06]\n",
      "3800 cost:[ 2.0122571e-12 ]  W: [1.099999]  b: [3.1986597e-06]\n",
      "3900 cost:[ 1.9127811e-12 ]  W: [1.099999]  b: [3.1025277e-06]\n",
      "4000 cost:[ 2.5494272e-12 ]  W: [1.099999]  b: [3.098434e-06]\n",
      "4100 cost:[ 1.8303581e-12 ]  W: [1.0999991]  b: [2.8958189e-06]\n",
      "4200 cost:[ 1.7422508e-12 ]  W: [1.0999991]  b: [2.7440412e-06]\n",
      "4300 cost:[ 1.1738166e-12 ]  W: [1.0999992]  b: [2.3688415e-06]\n",
      "4400 cost:[ 1.2505552e-12 ]  W: [1.0999992]  b: [2.4723672e-06]\n",
      "4500 cost:[ 1.2505552e-12 ]  W: [1.0999992]  b: [2.4723877e-06]\n",
      "4600 cost:[ 1.0601297e-12 ]  W: [1.0999993]  b: [2.4472104e-06]\n",
      "4700 cost:[ 5.030643e-13 ]  W: [1.0999994]  b: [1.6714645e-06]\n",
      "4800 cost:[ 5.030643e-13 ]  W: [1.0999994]  b: [1.6737198e-06]\n",
      "4900 cost:[ 5.030643e-13 ]  W: [1.0999994]  b: [1.6691203e-06]\n",
      "5000 cost:[ 5.030643e-13 ]  W: [1.0999994]  b: [1.6716197e-06]\n",
      "5100 cost:[ 5.030643e-13 ]  W: [1.0999994]  b: [1.6793281e-06]\n",
      "5200 cost:[ 5.030643e-13 ]  W: [1.0999994]  b: [1.6785569e-06]\n",
      "5300 cost:[ 4.2348346e-13 ]  W: [1.0999995]  b: [1.3367653e-06]\n",
      "5400 cost:[ 4.2348346e-13 ]  W: [1.0999995]  b: [1.3133706e-06]\n",
      "5500 cost:[ 4.2348346e-13 ]  W: [1.0999995]  b: [1.3126983e-06]\n",
      "5600 cost:[ 4.2348346e-13 ]  W: [1.0999995]  b: [1.3134376e-06]\n",
      "5700 cost:[ 3.410605e-13 ]  W: [1.0999997]  b: [1.0204633e-06]\n",
      "5800 cost:[ 1.4779288e-13 ]  W: [1.0999998]  b: [7.1286945e-07]\n",
      "5900 cost:[ 1.4779288e-13 ]  W: [1.0999998]  b: [7.092813e-07]\n",
      "Learning Finished\n"
     ]
    }
   ],
   "source": [
    "print(\"Start learning\")\n",
    "for step in range(6000):\n",
    "    optimizer.minimize(cost_func,var_list=[W,b])\n",
    "    if step % 100 == 0:\n",
    "        print('%04d'%step,'cost:[',cost_func().numpy(),']',\n",
    "             ' W:',W.numpy(),' b:',b.numpy())\n",
    "print(\"Learning Finished\")"
   ]
  },
  {
   "cell_type": "code",
   "execution_count": 5,
   "id": "ff658b13-557a-468f-8fb4-888b9b1149f6",
   "metadata": {},
   "outputs": [
    {
     "name": "stdout",
     "output_type": "stream",
     "text": [
      "Weight: [1.0999998]\n",
      "Bias: [7.101449e-07]\n"
     ]
    }
   ],
   "source": [
    "print('Weight:',W.numpy())\n",
    "print('Bias:',b.numpy())"
   ]
  },
  {
   "cell_type": "code",
   "execution_count": 6,
   "id": "94ba6bc6-04d9-4085-bfda-504975d802ce",
   "metadata": {},
   "outputs": [
    {
     "name": "stdout",
     "output_type": "stream",
     "text": [
      "x=6.0, H(x)= [6.599999]\n",
      "[10.449999]\n",
      "[13.529999]\n"
     ]
    }
   ],
   "source": [
    "print('x=6.0, H(x)=',hy(6.0).numpy())\n",
    "print(hy(9.5).numpy())\n",
    "print(hy(12.3).numpy())"
   ]
  },
  {
   "cell_type": "code",
   "execution_count": null,
   "id": "e8a0f1d4-2f1a-4245-b3db-8c341484c455",
   "metadata": {},
   "outputs": [],
   "source": []
  }
 ],
 "metadata": {
  "kernelspec": {
   "display_name": "Python 3 (ipykernel)",
   "language": "python",
   "name": "python3"
  },
  "language_info": {
   "codemirror_mode": {
    "name": "ipython",
    "version": 3
   },
   "file_extension": ".py",
   "mimetype": "text/x-python",
   "name": "python",
   "nbconvert_exporter": "python",
   "pygments_lexer": "ipython3",
   "version": "3.10.14"
  }
 },
 "nbformat": 4,
 "nbformat_minor": 5
}
