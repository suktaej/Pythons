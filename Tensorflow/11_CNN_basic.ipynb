{
 "cells": [
  {
   "cell_type": "code",
   "execution_count": 5,
   "id": "aa3f9d62-91b9-4dfb-995b-fde64cfaafbc",
   "metadata": {},
   "outputs": [],
   "source": [
    "#conv2d layer\n",
    "#max plloing layer\n",
    "\n",
    "import tensorflow as tf\n",
    "import numpy as np\n",
    "import matplotlib.pyplot as plt"
   ]
  },
  {
   "cell_type": "code",
   "execution_count": 51,
   "id": "efb1cdfa-6097-45c4-8865-7925b047f762",
   "metadata": {},
   "outputs": [
    {
     "name": "stdout",
     "output_type": "stream",
     "text": [
      "[[[[1.]\n",
      "   [2.]\n",
      "   [3.]]\n",
      "\n",
      "  [[4.]\n",
      "   [5.]\n",
      "   [6.]]\n",
      "\n",
      "  [[7.]\n",
      "   [8.]\n",
      "   [9.]]]]\n",
      "(1, 3, 3, 1)\n"
     ]
    },
    {
     "data": {
      "image/png": "[encoded data removed]",
      "text/plain": [
       "<Figure size 640x480 with 1 Axes>"
      ]
     },
     "metadata": {},
     "output_type": "display_data"
    }
   ],
   "source": [
    "image = np.array([[[[1],[2],[3]],\n",
    "                   [[4],[5],[6]],\n",
    "                   [[7],[8],[9]]]], dtype=np.float32)\n",
    "print(image)\n",
    "print(image.shape)  # (1, 3, 3, 1), Rank=4, (4차원)\n",
    "plt.imshow(image.reshape(3,3),cmap='Greys')\n",
    "plt.show()"
   ]
  },
  {
   "cell_type": "markdown",
   "id": "7aac2f0a-da77-44af-8855-d442429a34c4",
   "metadata": {},
   "source": [
    "### CNN(Convolutional Neural Network)\n",
    "##### conv2d layer , filter : (2,2,1,1), strides : 1\n",
    "\n",
    "##### 입력 이미지 : (1,3,3,1) (N, H, W, C)\n",
    "##### 1 : 이미지의 갯수 (Number)\n",
    "##### 3 : 세로 크기 (Height)\n",
    "##### 3 : 가로 크기 (Width)\n",
    "##### 1 : color, Grey scale ==> 1, RGB ==> 3 Color depth \n",
    "\n",
    "##### filter : (2,2,1,1) == \"Weight\" (W*X)+b...\n",
    "##### 2 : 세로 크기\n",
    "##### 2 : 가로 크기\n",
    "##### 1 : color, Grey scale ==> 1, RGB ==> 3\n",
    "##### 1 : filter 의 갯수\n",
    "\n",
    "##### (N - F)/strides + 1 (strides==필터의 이동범위,보폭, 원본 픽셀? 수=N, 필터 픽셀 수=F)\n",
    "##### 출력 이미지 : (3 - 2)/1 + 1 = 2, zero padding을 안했을 때 (padding='VALID')\n",
    "##### padding시 'SAME'\n",
    "##### 필터를 계속 진행할수록 정보량이 작아지므로 이미지 외부 0 값을 감싸서 정보량을 보존\n",
    "##### stride가 1일경우 정보량의 손실 없음, 2 이상부터 감소\n",
    "##### (1,3,3,1) ---> (1,2,2,1)\n",
    "\n",
    "##### Wide -> 신경망 중 은닉층의 연산 수를 늘리는 것? (m,n) * (n,l) => (m,l)일 때 n의 크기를 크게?\n",
    "##### deep -> 은닉층 갯수를 늘리는 것 A->B->C->D->Y"
   ]
  },
  {
   "cell_type": "code",
   "execution_count": 52,
   "id": "38b30637-9086-4c2b-b3d9-57c05b2711c2",
   "metadata": {},
   "outputs": [
    {
     "name": "stdout",
     "output_type": "stream",
     "text": [
      "[[[[1.]]\n",
      "\n",
      "  [[1.]]]\n",
      "\n",
      "\n",
      " [[[1.]]\n",
      "\n",
      "  [[1.]]]]\n",
      "[[[[12.]\n",
      "   [16.]\n",
      "   [ 9.]]\n",
      "\n",
      "  [[24.]\n",
      "   [28.]\n",
      "   [15.]]\n",
      "\n",
      "  [[15.]\n",
      "   [17.]\n",
      "   [ 9.]]]]\n",
      "(1, 3, 3, 1)\n"
     ]
    },
    {
     "data": {
      "image/png": "[encoded data removed]",
      "text/plain": [
       "<Figure size 640x480 with 1 Axes>"
      ]
     },
     "metadata": {},
     "output_type": "display_data"
    }
   ],
   "source": [
    "# filter : (2,2,1,1)\n",
    "weight = tf.constant([[[[1.]],[[1.]]],   \n",
    "                      [[[1.]],[[1.]]]])\n",
    "print(weight.numpy())\n",
    "\n",
    "# conv2d layer(Convolution)\n",
    "conv2d = tf.nn.conv2d(image,weight,strides=[1,1,1,1],padding='SAME')\n",
    "conv2d_image = conv2d.numpy()\n",
    "print(conv2d_image)\n",
    "print(conv2d_image.shape)\n",
    "\n",
    "plt.imshow(conv2d_image.reshape(3,3),cmap='Greys')\n",
    "plt.show()"
   ]
  },
  {
   "cell_type": "code",
   "execution_count": 54,
   "id": "6bcc0b09-c1a6-46b2-acc8-1da31ac8ea4a",
   "metadata": {},
   "outputs": [
    {
     "name": "stdout",
     "output_type": "stream",
     "text": [
      "[[[[ 1. 10. -1.]]\n",
      "\n",
      "  [[ 1. 10. -1.]]]\n",
      "\n",
      "\n",
      " [[[ 1. 10. -1.]]\n",
      "\n",
      "  [[ 1. 10. -1.]]]]\n",
      "(2, 2, 1, 3)\n",
      "[[[[ 12. 120. -12.]\n",
      "   [ 16. 160. -16.]\n",
      "   [  9.  90.  -9.]]\n",
      "\n",
      "  [[ 24. 240. -24.]\n",
      "   [ 28. 280. -28.]\n",
      "   [ 15. 150. -15.]]\n",
      "\n",
      "  [[ 15. 150. -15.]\n",
      "   [ 17. 170. -17.]\n",
      "   [  9.  90.  -9.]]]]\n",
      "(1, 3, 3, 3)\n",
      "[[[[ 12.]\n",
      "   [ 16.]\n",
      "   [  9.]]\n",
      "\n",
      "  [[ 24.]\n",
      "   [ 28.]\n",
      "   [ 15.]]\n",
      "\n",
      "  [[ 15.]\n",
      "   [ 17.]\n",
      "   [  9.]]]\n",
      "\n",
      "\n",
      " [[[120.]\n",
      "   [160.]\n",
      "   [ 90.]]\n",
      "\n",
      "  [[240.]\n",
      "   [280.]\n",
      "   [150.]]\n",
      "\n",
      "  [[150.]\n",
      "   [170.]\n",
      "   [ 90.]]]\n",
      "\n",
      "\n",
      " [[[-12.]\n",
      "   [-16.]\n",
      "   [ -9.]]\n",
      "\n",
      "  [[-24.]\n",
      "   [-28.]\n",
      "   [-15.]]\n",
      "\n",
      "  [[-15.]\n",
      "   [-17.]\n",
      "   [ -9.]]]]\n",
      "(3, 3, 3, 1)\n",
      "[[[12.]\n",
      "  [16.]\n",
      "  [ 9.]]\n",
      "\n",
      " [[24.]\n",
      "  [28.]\n",
      "  [15.]]\n",
      "\n",
      " [[15.]\n",
      "  [17.]\n",
      "  [ 9.]]]\n",
      "[[[120.]\n",
      "  [160.]\n",
      "  [ 90.]]\n",
      "\n",
      " [[240.]\n",
      "  [280.]\n",
      "  [150.]]\n",
      "\n",
      " [[150.]\n",
      "  [170.]\n",
      "  [ 90.]]]\n",
      "[[[-12.]\n",
      "  [-16.]\n",
      "  [ -9.]]\n",
      "\n",
      " [[-24.]\n",
      "  [-28.]\n",
      "  [-15.]]\n",
      "\n",
      " [[-15.]\n",
      "  [-17.]\n",
      "  [ -9.]]]\n"
     ]
    },
    {
     "data": {
      "image/png": "[encoded data removed]",
      "text/plain": [
       "<Figure size 640x480 with 3 Axes>"
      ]
     },
     "metadata": {},
     "output_type": "display_data"
    }
   ],
   "source": [
    "# conv2d layer, 3 filters, zero padding(padding='SAME')\n",
    "# image : (1,3,3,1), filter : (2,2,1,3) , strides = (1,1,1,1)\n",
    "\n",
    "weight = tf.constant([[[[1.,10.,-1.]],[[1.,10.,-1.]]],     \n",
    "                      [[[1.,10.,-1.]],[[1.,10.,-1.]]]])\n",
    "print(weight.numpy())\n",
    "print(weight.shape) # (2, 2, 1, 3)\n",
    "\n",
    "# conv2d layer\n",
    "conv2d = tf.nn.conv2d(image,weight,strides=[1,1,1,1],padding='SAME')\n",
    "\n",
    "conv2d_image = conv2d.numpy()\n",
    "print(conv2d_image)\n",
    "print(conv2d_image.shape) # (1, 3, 3, 3)\n",
    "\n",
    "# 시각화\n",
    "conv2d_image = np.swapaxes(conv2d_image,0,3) # 0번 축과 3번 축이 서로 맞바꾸어짐\n",
    "print(conv2d_image)\n",
    "print(conv2d_image.shape) # (3, 3, 3, 1)\n",
    "\n",
    "for i,one_image in enumerate(conv2d_image):\n",
    "    print(one_image)\n",
    "    plt.subplot(1,3,i + 1)\n",
    "    plt.imshow(one_image.reshape(3,3),cmap='Greys')\n",
    "plt.show()  "
   ]
  },
  {
   "cell_type": "code",
   "execution_count": 25,
   "id": "7b405fe9-a02d-448f-a45a-885dad229a1f",
   "metadata": {},
   "outputs": [
    {
     "name": "stdout",
     "output_type": "stream",
     "text": [
      "[[[[4.]\n",
      "   [3.]]\n",
      "\n",
      "  [[2.]\n",
      "   [1.]]]]\n",
      "(1, 2, 2, 1)\n"
     ]
    },
    {
     "data": {
      "image/png": "[encoded data removed]",
      "text/plain": [
       "<Figure size 640x480 with 1 Axes>"
      ]
     },
     "metadata": {},
     "output_type": "display_data"
    },
    {
     "name": "stdout",
     "output_type": "stream",
     "text": [
      "[[[[4.]]]]\n",
      "(1, 1, 1, 1)\n"
     ]
    }
   ],
   "source": [
    "# max pooling\n",
    "image  = np.array([[[[4.],[3.]],\n",
    "                    [[2.],[1.]]]],dtype=np.float32)\n",
    "print(image)\n",
    "print(image.shape) \n",
    "plt.imshow(image.reshape(2,2),cmap='Greys')\n",
    "plt.show()"
   ]
  },
  {
   "cell_type": "code",
   "execution_count": 26,
   "id": "656da5ad-e2e7-48ce-aa18-4cdb622b116f",
   "metadata": {},
   "outputs": [
    {
     "name": "stdout",
     "output_type": "stream",
     "text": [
      "[[[[4.]]]]\n",
      "(1, 1, 1, 1)\n"
     ]
    }
   ],
   "source": [
    "# padding='VALID'  , zero padding을 하지 않음  , (1,2,2,1) --> (1,1,1,1)\n",
    "# (N - F)/strides + 1 , F: kernel size(ksize)\n",
    "# (2 - 2)/1 + 1 = 1\n",
    "# ksize : 2, 원본에서 추출할 이미지의 범위\n",
    "\n",
    "pool = tf.nn.max_pool(image,ksize=[1,2,2,1],strides=[1,1,1,1],padding='VALID')\n",
    "print(pool.numpy()) # [[[[4.]]]]\n",
    "print(pool.shape)  # (1, 1, 1, 1)"
   ]
  },
  {
   "cell_type": "code",
   "execution_count": 27,
   "id": "87fe3d8a-2fe1-4138-8ef5-45d931411905",
   "metadata": {},
   "outputs": [
    {
     "name": "stdout",
     "output_type": "stream",
     "text": [
      "[[[[4.]\n",
      "   [3.]]\n",
      "\n",
      "  [[2.]\n",
      "   [1.]]]]\n",
      "(1, 2, 2, 1)\n"
     ]
    }
   ],
   "source": [
    "# padding='SAME'  , zero padding을 했을 때  , (1,2,2,1) --> (1,2,2,1)\n",
    "# (N - F)/strides + 1 , F: kernel size(ksize)\n",
    "# (2+1 - 2)/1 + 1 = 2\n",
    "# ksize : 2, 원본에서 추출할 이미지의 범위\n",
    "\n",
    "pool = tf.nn.max_pool(image,ksize=[1,2,2,1],strides=[1,1,1,1],padding='SAME')\n",
    "print(pool.numpy()) # \n",
    "print(pool.shape)   # (1, 2, 2, 1)"
   ]
  },
  {
   "cell_type": "code",
   "execution_count": 56,
   "id": "289bea6d-ce76-4218-8477-cd48b8fe2ce5",
   "metadata": {},
   "outputs": [
    {
     "name": "stdout",
     "output_type": "stream",
     "text": [
      "(60000, 28, 28)\n",
      "(28, 28)\n",
      "2\n"
     ]
    },
    {
     "data": {
      "image/png": "[encoded data removed]",
      "text/plain": [
       "<Figure size 640x480 with 1 Axes>"
      ]
     },
     "metadata": {},
     "output_type": "display_data"
    }
   ],
   "source": [
    "# MIST imgae data 처리\n",
    "# mnist 데이터 가져오기\n",
    "mnist = tf.keras.datasets.mnist\n",
    "(x_train,y_train),(x_test,y_test) = mnist.load_data()\n",
    "print(x_train.shape)\n",
    "\n",
    "image = x_train[5]\n",
    "print(image.shape)\n",
    "print(y_train[5])  # 숫자 2\n",
    "\n",
    "plt.imshow(image,cmap='Greys')\n",
    "plt.show()"
   ]
  },
  {
   "cell_type": "code",
   "execution_count": 57,
   "id": "6c5b7e44-4b62-4237-a6df-10761913519d",
   "metadata": {},
   "outputs": [
    {
     "name": "stdout",
     "output_type": "stream",
     "text": [
      "(1, 28, 28, 1)\n",
      "(1, 14, 14, 5)\n",
      "(5, 14, 14, 1)\n"
     ]
    },
    {
     "data": {
      "image/png": "[encoded data removed]",
      "text/plain": [
       "<Figure size 1500x1500 with 5 Axes>"
      ]
     },
     "metadata": {},
     "output_type": "display_data"
    }
   ],
   "source": [
    "#### MNIST conv2d layer\n",
    "# image : (1,28,28,1)\n",
    "# filter : (3,3,1,5) , 필터 5개\n",
    "# stride : (1,2,2,1) , padding = 'SAME'\n",
    "# 출력 이미지 : (28+1 - 3)/2 + 1 = 14\n",
    "# (1,28,28,1) --> (1,14,14,5)\n",
    "\n",
    "img = image.reshape(-1,28,28,1)\n",
    "print(img.shape) # (1, 28, 28, 1)\n",
    "\n",
    "W = tf.Variable(tf.random.normal([3,3,1,5]),name='weight') # filter = weight\n",
    "conv2d = tf.nn.conv2d(img,W,strides=[1,2,2,1],padding='SAME')\n",
    "\n",
    "conv2d_image = conv2d.numpy()\n",
    "print(conv2d_image.shape)     # (1, 14, 14, 5)\n",
    "\n",
    "# 시각화\n",
    "conv2d_image = np.swapaxes(conv2d_image,0,3) # 0번 축과 3번 축이 서로 맞바꾸어짐\n",
    "# print(conv2d_image)\n",
    "print(conv2d_image.shape) # (5,14,14,1)\n",
    "\n",
    "plt.figure(figsize=(15,15))\n",
    "for i,one_image in enumerate(conv2d_image):\n",
    "    #print(one_image)\n",
    "    plt.subplot(1,5,i + 1)\n",
    "    plt.imshow(one_image.reshape(14,14),cmap='Greys')"
   ]
  },
  {
   "cell_type": "code",
   "execution_count": 58,
   "id": "387b57e3-ea37-4d78-86e5-afa113ba67c6",
   "metadata": {},
   "outputs": [
    {
     "name": "stdout",
     "output_type": "stream",
     "text": [
      "(1, 7, 7, 5)\n",
      "(5, 7, 7, 1)\n"
     ]
    },
    {
     "data": {
      "image/png": "[encoded data removed]",
      "text/plain": [
       "<Figure size 1500x1500 with 5 Axes>"
      ]
     },
     "metadata": {},
     "output_type": "display_data"
    }
   ],
   "source": [
    "# MNIST max_pool layer\n",
    "# conv2d image : (1, 14, 14, 5)\n",
    "# ksize : (1,2,2,1), strides :(1,2,2,1), padding='SAME'\n",
    "# 출력 이미지 : (14+1 - 2)/2 + 1 = 7\n",
    "# (1, 14, 14, 5) --> (1, 7, 7, 5)\n",
    "\n",
    "pool = tf.nn.max_pool(conv2d,ksize=[1,2,2,1],strides=[1,2,2,1],padding='SAME')\n",
    "\n",
    "pool_img = pool.numpy()\n",
    "print(pool_img.shape)   # (1, 7, 7, 5)\n",
    "\n",
    "# 시각화\n",
    "pool_image = np.swapaxes(pool_img,0,3) # 0번 축과 3번 축이 서로 맞바꾸어짐\n",
    "# print(pool_image)\n",
    "print(pool_image.shape) # (5, 7, 7, 1)\n",
    "\n",
    "plt.figure(figsize=(15,15))\n",
    "for i,one_image in enumerate(pool_image):\n",
    "    #print(one_image)\n",
    "    plt.subplot(1,5,i + 1)\n",
    "    plt.imshow(one_image.reshape(7,7),cmap='Greys')\n",
    "plt.show() "
   ]
  },
  {
   "cell_type": "code",
   "execution_count": null,
   "id": "c7669f2b-256a-4db2-92f8-47c6ff13121f",
   "metadata": {},
   "outputs": [],
   "source": []
  }
 ],
 "metadata": {
  "kernelspec": {
   "display_name": "Python 3 (ipykernel)",
   "language": "python",
   "name": "python3"
  },
  "language_info": {
   "codemirror_mode": {
    "name": "ipython",
    "version": 3
   },
   "file_extension": ".py",
   "mimetype": "text/x-python",
   "name": "python",
   "nbconvert_exporter": "python",
   "pygments_lexer": "ipython3",
   "version": "3.10.14"
  }
 },
 "nbformat": 4,
 "nbformat_minor": 5
}
