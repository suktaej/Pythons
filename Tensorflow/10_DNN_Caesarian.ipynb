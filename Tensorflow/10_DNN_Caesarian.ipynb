{
 "cells": [
  {
   "cell_type": "code",
   "execution_count": 1,
   "id": "4df6a71d-0660-4034-83b0-808b7bdcd488",
   "metadata": {},
   "outputs": [],
   "source": [
    "import tensorflow as tf\n",
    "import numpy as np\n",
    "tf.random.set_seed(5)"
   ]
  },
  {
   "cell_type": "code",
   "execution_count": 2,
   "id": "371448c3-2b6f-43a3-93c2-1ac929634fe5",
   "metadata": {},
   "outputs": [
    {
     "name": "stdout",
     "output_type": "stream",
     "text": [
      "(80, 6)\n",
      "(60, 5) (60, 1) (20, 5) (20, 1)\n"
     ]
    }
   ],
   "source": [
    "arr = np.loadtxt(\"caesarian.csv\",delimiter=',',dtype=np.float32)\n",
    "print(arr.shape)\n",
    "x_train = arr[:60,:-1]\n",
    "y_train = arr[:60,[-1]]\n",
    "x_test = arr[60:,:-1]\n",
    "y_test = arr[60:,[-1]]\n",
    "print(x_train.shape,y_train.shape,x_test.shape,y_test.shape)"
   ]
  },
  {
   "cell_type": "code",
   "execution_count": 11,
   "id": "8ff027db-ca32-4968-9572-a1773b9ff8c7",
   "metadata": {},
   "outputs": [
    {
     "name": "stdout",
     "output_type": "stream",
     "text": [
      "<tf.Variable 'Weight1:0' shape=(5, 5) dtype=float32, numpy=\n",
      "array([[ 1.3506279 , -0.12321994,  0.12787499, -1.1889217 ,  0.2927224 ],\n",
      "       [ 0.07928455, -0.30290523, -0.45746395,  1.7155817 , -0.2718608 ],\n",
      "       [ 0.17735192,  0.2440985 ,  0.69719803,  0.65890664, -1.1945832 ],\n",
      "       [-0.6213802 , -0.27364275, -1.2292548 ,  0.75964874, -1.0286378 ],\n",
      "       [ 1.0043252 ,  1.2248603 , -0.13563602,  1.1878921 , -0.512177  ]],\n",
      "      dtype=float32)> <tf.Variable 'Bias1:0' shape=(5,) dtype=float32, numpy=\n",
      "array([-1.1078699 ,  1.0483403 ,  0.47873202, -1.3745109 , -0.14247717],\n",
      "      dtype=float32)>\n"
     ]
    }
   ],
   "source": [
    "W1=tf.Variable(tf.random.normal([5,5]),name='Weight1')\n",
    "b1=tf.Variable(tf.random.normal([5]),name='Bias1')\n",
    "\n",
    "print(W1,b1)\n",
    "def layer1(X):\n",
    "    return tf.nn.relu(tf.matmul(X,W1)+b1)"
   ]
  },
  {
   "cell_type": "code",
   "execution_count": 4,
   "id": "fd1c77bd-314e-4195-80b6-151e68928903",
   "metadata": {},
   "outputs": [],
   "source": [
    "W2=tf.Variable(tf.random.normal([5,5]),name='Weight2')\n",
    "b2=tf.Variable(tf.random.normal([5]),name='Bias2')\n",
    "\n",
    "def layer2(X):\n",
    "    return tf.nn.relu(tf.matmul(layer1(X),W2)+b2)"
   ]
  },
  {
   "cell_type": "code",
   "execution_count": 5,
   "id": "9eb706c7-03e5-4d9a-b7dd-3d37c4fbf041",
   "metadata": {},
   "outputs": [],
   "source": [
    "W3=tf.Variable(tf.random.normal([5,1]),name='Weight3')\n",
    "b3=tf.Variable(tf.random.normal([1]),name='Bias3')\n",
    "\n",
    "def hypothesis(X):\n",
    "    return tf.sigmoid(tf.matmul(layer2(X),W3)+b3)"
   ]
  },
  {
   "cell_type": "code",
   "execution_count": 6,
   "id": "53b16537-031c-48ff-969c-730e3a06c21a",
   "metadata": {},
   "outputs": [],
   "source": [
    "def cost_func():\n",
    "    cost = -tf.reduce_mean(y_train*tf.math.log(hypothesis(x_train)) +\n",
    "                         (1-y_train)*tf.math.log(1-hypothesis(x_train)))\n",
    "    return cost"
   ]
  },
  {
   "cell_type": "code",
   "execution_count": 7,
   "id": "e3fe3d04-16aa-4ccd-848f-1f5f24469583",
   "metadata": {},
   "outputs": [],
   "source": [
    "opt = tf.keras.optimizers.Adam(learning_rate=0.01)"
   ]
  },
  {
   "cell_type": "code",
   "execution_count": 8,
   "id": "0d7a4cbd-1e0a-46aa-95e6-89bb04f5581a",
   "metadata": {},
   "outputs": [
    {
     "name": "stdout",
     "output_type": "stream",
     "text": [
      "===Start===\n",
      "0 cost: 1.6428975\n",
      "1000 cost: 0.5245259\n",
      "2000 cost: 0.5162314\n",
      "3000 cost: 0.5014275\n",
      "4000 cost: 0.4932806\n",
      "5000 cost: 0.48985732\n",
      "===finished===\n"
     ]
    }
   ],
   "source": [
    "print(\"===Start===\")\n",
    "for step in range(5001):\n",
    "    opt.minimize(cost_func,var_list=[W1,b1,W2,b2,W3,b3])\n",
    "    if step%1000 == 0:\n",
    "        print('%d'%step,'cost:',cost_func().numpy())\n",
    "print(\"===finished===\")"
   ]
  },
  {
   "cell_type": "code",
   "execution_count": 10,
   "id": "7290db56-5153-4285-82f0-551ec92784e3",
   "metadata": {},
   "outputs": [
    {
     "name": "stdout",
     "output_type": "stream",
     "text": [
      "Accuracy: 0.45\n"
     ]
    }
   ],
   "source": [
    "def predict(X):\n",
    "    return tf.cast(hypothesis(X) > 0.5,dtype=tf.float32)\n",
    "preds = predict(x_test)\n",
    "accuracy = tf.reduce_mean(tf.cast(tf.equal(preds,y_test),dtype=tf.float32))\n",
    "print('Accuracy:',accuracy.numpy())\n",
    "#print(preds)"
   ]
  },
  {
   "cell_type": "code",
   "execution_count": null,
   "id": "8e4cc30f-c0b7-46a0-b043-f5ebed9c6002",
   "metadata": {},
   "outputs": [],
   "source": []
  }
 ],
 "metadata": {
  "kernelspec": {
   "display_name": "Python 3 (ipykernel)",
   "language": "python",
   "name": "python3"
  },
  "language_info": {
   "codemirror_mode": {
    "name": "ipython",
    "version": 3
   },
   "file_extension": ".py",
   "mimetype": "text/x-python",
   "name": "python",
   "nbconvert_exporter": "python",
   "pygments_lexer": "ipython3",
   "version": "3.10.14"
  }
 },
 "nbformat": 4,
 "nbformat_minor": 5
}
