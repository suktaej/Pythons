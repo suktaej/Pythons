{
 "cells": [
  {
   "cell_type": "code",
   "execution_count": 1,
   "id": "e569307f-e015-436d-a2fb-db6c91462e9b",
   "metadata": {},
   "outputs": [],
   "source": [
    "import tensorflow as tf\n",
    "import numpy as np\n",
    "tf.random.set_seed(5)"
   ]
  },
  {
   "cell_type": "code",
   "execution_count": 2,
   "id": "7abca22e-4a94-41a0-8280-e9b1f3e741a4",
   "metadata": {},
   "outputs": [
    {
     "name": "stdout",
     "output_type": "stream",
     "text": [
      "(400, 10)\n",
      "(400, 9) (400, 1)\n"
     ]
    }
   ],
   "source": [
    "arr=np.loadtxt(\"boston_train.csv\",delimiter=',',skiprows=1,dtype=np.float32)\n",
    "print(arr.shape)\n",
    "\n",
    "x_train = arr[:,:-1]\n",
    "y_train = arr[:,[-1]]\n",
    "print(x_train.shape, y_train.shape)"
   ]
  },
  {
   "cell_type": "code",
   "execution_count": 3,
   "id": "db6eb13f-4a74-4df3-8ee6-5d868ff9bdd7",
   "metadata": {},
   "outputs": [
    {
     "name": "stdout",
     "output_type": "stream",
     "text": [
      "<tf.Variable 'weight:0' shape=(9, 1) dtype=float32, numpy=\n",
      "array([[-0.18030666],\n",
      "       [-0.95028627],\n",
      "       [-0.03964049],\n",
      "       [-0.7425406 ],\n",
      "       [ 1.3231523 ],\n",
      "       [-0.61854804],\n",
      "       [ 0.85406643],\n",
      "       [-0.08899953],\n",
      "       [ 2.4488697 ]], dtype=float32)> \n",
      " <tf.Variable 'bias:0' shape=(1,) dtype=float32, numpy=array([0.22652864], dtype=float32)>\n"
     ]
    }
   ],
   "source": [
    "W=tf.Variable(tf.random.normal([9,1]),name='weight')\n",
    "b=tf.Variable(tf.random.normal([1]),name='bias')\n",
    "print(W,'\\n',b)"
   ]
  },
  {
   "cell_type": "code",
   "execution_count": 4,
   "id": "3a0b0f86-d73f-4de2-9c0f-bcae4290d328",
   "metadata": {},
   "outputs": [],
   "source": [
    "def hy(x):\n",
    "    return tf.matmul(x,W)+b"
   ]
  },
  {
   "cell_type": "code",
   "execution_count": 5,
   "id": "fc70ee30-9c1e-46ae-be04-06ec87d6bd45",
   "metadata": {},
   "outputs": [],
   "source": [
    "def cost_func():\n",
    "    cost = tf.reduce_mean(tf.square(hy(x_train)-y_train))\n",
    "    return cost"
   ]
  },
  {
   "cell_type": "code",
   "execution_count": 6,
   "id": "dd443609-6042-44d4-b4b3-a234d50cc364",
   "metadata": {},
   "outputs": [],
   "source": [
    "opt = tf.keras.optimizers.Adam(learning_rate=0.01)"
   ]
  },
  {
   "cell_type": "code",
   "execution_count": 21,
   "id": "9ffc2a30-e1d8-438c-b7b4-b440f58f5dba",
   "metadata": {},
   "outputs": [
    {
     "name": "stdout",
     "output_type": "stream",
     "text": [
      "===Start===\n",
      "0 cost: 33.601234\n",
      "1000 cost: 33.60992\n",
      "2000 cost: 33.410873\n",
      "3000 cost: 33.53578\n",
      "4000 cost: 33.292885\n",
      "5000 cost: 33.31329\n",
      "6000 cost: 33.219864\n",
      "7000 cost: 33.479443\n",
      "8000 cost: 33.17474\n",
      "9000 cost: 33.159954\n",
      "10000 cost: 33.146988\n",
      "11000 cost: 33.137394\n",
      "12000 cost: 33.130116\n",
      "13000 cost: 33.123985\n",
      "14000 cost: 33.119343\n",
      "15000 cost: 33.22079\n",
      "16000 cost: 33.11287\n",
      "17000 cost: 34.71553\n",
      "18000 cost: 33.12393\n",
      "19000 cost: 33.109653\n",
      "===finished===\n"
     ]
    }
   ],
   "source": [
    "print(\"===Start===\")\n",
    "for step in range(20000):\n",
    "    opt.minimize(cost_func,var_list=[W,b])\n",
    "    if step%1000 == 0:\n",
    "        print('%d'%step,'cost:',cost_func().numpy())\n",
    "print(\"===finished===\")"
   ]
  },
  {
   "cell_type": "code",
   "execution_count": 22,
   "id": "ada8775a-6015-47a6-9231-fe35c1cdda7c",
   "metadata": {},
   "outputs": [
    {
     "name": "stdout",
     "output_type": "stream",
     "text": [
      "Weight: [[-1.59129992e-01]\n",
      " [ 4.11878824e-02]\n",
      " [-1.18978776e-01]\n",
      " [-2.05795956e+01]\n",
      " [ 6.12756443e+00]\n",
      " [-4.41857949e-02]\n",
      " [-1.78573000e+00]\n",
      " [ 2.31580751e-04]\n",
      " [-1.05818212e+00]]\n",
      "bias: [26.34953]\n"
     ]
    }
   ],
   "source": [
    "print('Weight:',W.numpy())\n",
    "print('bias:',b.numpy())"
   ]
  },
  {
   "cell_type": "code",
   "execution_count": 25,
   "id": "c80478ca-0ef5-4816-ab34-18cf703ef23f",
   "metadata": {},
   "outputs": [
    {
     "name": "stdout",
     "output_type": "stream",
     "text": [
      "(100, 10)\n"
     ]
    }
   ],
   "source": [
    "ans = np.loadtxt(\"boston_test.csv\",delimiter=',',skiprows=1,dtype=np.float32)\n",
    "print(ans.shape)\n",
    "\n",
    "ans_x = ans[:,:-1]\n",
    "ans_y = ans[:,[-1]]"
   ]
  },
  {
   "cell_type": "code",
   "execution_count": 26,
   "id": "9fe163ec-18e8-48b7-905d-db65fb07867b",
   "metadata": {},
   "outputs": [
    {
     "data": {
      "text/plain": [
       "4.1482167"
      ]
     },
     "execution_count": 26,
     "metadata": {},
     "output_type": "execute_result"
    }
   ],
   "source": [
    "def get_rmse(y_test,preds):\n",
    "    squared_error = 0\n",
    "    for k,_ in enumerate(y_test):\n",
    "        squared_error += (preds[k]-y_test[k])**2\n",
    "    mse = squared_error/len(y_test)\n",
    "    rmse = np.sqrt(mse)\n",
    "    return rmse[0]\n",
    "\n",
    "x_test=ans_x\n",
    "y_test=ans_y\n",
    "preds=hy(x_test).numpy()\n",
    "get_rmse(y_test,preds)"
   ]
  },
  {
   "cell_type": "code",
   "execution_count": null,
   "id": "2d4a7cbc-0cd1-41f1-979d-ce8374e9120d",
   "metadata": {},
   "outputs": [],
   "source": []
  }
 ],
 "metadata": {
  "kernelspec": {
   "display_name": "Python 3 (ipykernel)",
   "language": "python",
   "name": "python3"
  },
  "language_info": {
   "codemirror_mode": {
    "name": "ipython",
    "version": 3
   },
   "file_extension": ".py",
   "mimetype": "text/x-python",
   "name": "python",
   "nbconvert_exporter": "python",
   "pygments_lexer": "ipython3",
   "version": "3.10.14"
  }
 },
 "nbformat": 4,
 "nbformat_minor": 5
}
