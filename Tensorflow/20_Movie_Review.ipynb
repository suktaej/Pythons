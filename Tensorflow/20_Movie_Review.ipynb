{
 "cells": [
  {
   "cell_type": "code",
   "execution_count": 1,
   "id": "c938960c-7034-4dd5-9379-096ff181065a",
   "metadata": {},
   "outputs": [],
   "source": [
    "import tensorflow as tf\n",
    "import numpy as np"
   ]
  },
  {
   "cell_type": "code",
   "execution_count": 2,
   "id": "4fed8dcc-3850-4524-a508-243aeec09ae6",
   "metadata": {},
   "outputs": [
    {
     "name": "stdout",
     "output_type": "stream",
     "text": [
      "Downloading data from https://raw.githubusercontent.com/e9t/nsmc/master/ratings_train.txt\n",
      "14628807/14628807 [==============================] - 34s 2us/step\n",
      "Downloading data from https://raw.githubusercontent.com/e9t/nsmc/master/ratings_test.txt\n",
      "4893335/4893335 [==============================] - 12s 3us/step\n"
     ]
    }
   ],
   "source": [
    "# Naver Sentiment Movie Corpus v1.0 다운로드\n",
    "path_to_train_file = tf.keras.utils.get_file('train.txt', 'https://raw.githubusercontent.com/e9t/nsmc/master/ratings_train.txt')\n",
    "path_to_test_file = tf.keras.utils.get_file('test.txt', 'https://raw.githubusercontent.com/e9t/nsmc/master/ratings_test.txt')"
   ]
  },
  {
   "cell_type": "code",
   "execution_count": 3,
   "id": "12adb2a7-17ce-4c85-a68d-3af28ad0919b",
   "metadata": {},
   "outputs": [
    {
     "name": "stdout",
     "output_type": "stream",
     "text": [
      "train text length: 6937271  characters\n",
      "test  text length: 2318260  characters\n",
      "\n",
      "\n",
      "id\tdo\n",
      "id\tdocument\tlabel\n",
      "9976970\t아 더빙.. 진짜 짜증나네요 목소리\t0\n",
      "3819312\t흠...포스터보고 초딩영화줄....오버연기조차 가볍지 않구나\t1\n",
      "10265843\t너무재밓었다그래서보는것을추천한다\t0\n",
      "9045019\t교도소 이야기구먼 ..솔직히 재미는 없다..평점 조정\t0\n",
      "6483659\t사이몬페그의 익살스런 연기가 돋보였던 영화!스파이더맨에서 늙어보이기만 했던 커스틴 던스트가 너무나도 이뻐보였다\t1\n",
      "5403919\t막 걸음마 뗀 3세부터 초등학교 1학년생인 8살용영화.ㅋㅋㅋ...별반개도 아까움.\t0\n",
      "7797314\t원작의\n"
     ]
    }
   ],
   "source": [
    "# 데이터를 메모리에 불러옵니다. encoding 형식으로 utf-8 을 지정해야합니다.\n",
    "train_text = open(path_to_train_file, 'rb').read().decode(encoding='utf-8')\n",
    "test_text = open(path_to_test_file, 'rb').read().decode(encoding='utf-8')\n",
    "print('train text length:',len(train_text),' characters')\n",
    "print('test  text length:',len(test_text),' characters')\n",
    "print('\\n')\n",
    "print(train_text[:5])\n",
    "print(train_text[:300])"
   ]
  },
  {
   "cell_type": "code",
   "execution_count": 4,
   "id": "f3dd9268-9a70-48d5-856a-5b67fcb7320f",
   "metadata": {},
   "outputs": [
    {
     "name": "stdout",
     "output_type": "stream",
     "text": [
      "(150000, 1) (50000, 1)\n",
      "[[0]\n",
      " [1]\n",
      " [0]\n",
      " [0]\n",
      " [1]]\n"
     ]
    }
   ],
   "source": [
    "# 각 문장을 '\\n'으로 분리 -> 헤더제외 -> '\\t'으로 분리 -> 마지막 문자 정수로 변환하여 2차원으로 변환\n",
    "train_Y = np.array([[int(row.split('\\t')[2])] for row in train_text.split('\\n')[1:] if row.count('\\t') > 0])\n",
    "test_Y = np.array([[int(row.split('\\t')[2])] for row in test_text.split('\\n')[1:] if row.count('\\t') > 0])\n",
    "print(train_Y.shape, test_Y.shape)  # (150000, 1) (50000, 1)\n",
    "print(train_Y[:5])"
   ]
  },
  {
   "cell_type": "code",
   "execution_count": 5,
   "id": "b9772c93-3b13-486e-8fae-f37d0f8bcffa",
   "metadata": {},
   "outputs": [
    {
     "name": "stdout",
     "output_type": "stream",
     "text": [
      "150000\n"
     ]
    },
    {
     "data": {
      "text/plain": [
       "['아 더빙.. 진짜 짜증나네요 목소리',\n",
       " '흠...포스터보고 초딩영화줄....오버연기조차 가볍지 않구나',\n",
       " '너무재밓었다그래서보는것을추천한다',\n",
       " '교도소 이야기구먼 ..솔직히 재미는 없다..평점 조정',\n",
       " '사이몬페그의 익살스런 연기가 돋보였던 영화!스파이더맨에서 늙어보이기만 했던 커스틴 던스트가 너무나도 이뻐보였다']"
      ]
     },
     "execution_count": 5,
     "metadata": {},
     "output_type": "execute_result"
    }
   ],
   "source": [
    "# X 값을 추출\n",
    "train_text_X = [row.split('\\t')[1] for row in train_text.split('\\n')[1:] if row.count('\\t') > 0]\n",
    "print(len(train_text_X))\n",
    "train_text_X[:5]"
   ]
  },
  {
   "cell_type": "code",
   "execution_count": 10,
   "id": "1c9475b0-feeb-41f3-9a95-24387ed2752f",
   "metadata": {},
   "outputs": [],
   "source": [
    "# train 데이터의 입력(X)에 대한 정제(Cleaning)\n",
    "import re\n",
    "# From https://github.com/yoonkim/CNN_sentence/blob/master/process_data.py\n",
    "def clean_str(string):    \n",
    "    string = re.sub(r\"[^가-힝A-Za-z0-9(),!?\\'\\`]\", \" \", string)\n",
    "    string = re.sub(r\"\\'s\", \" \\'s\", string)\n",
    "    string = re.sub(r\"\\'ve\", \" \\'ve\", string)\n",
    "    string = re.sub(r\"n\\'t\", \" n\\'t\", string)\n",
    "    string = re.sub(r\"\\'re\", \" \\'re\", string)\n",
    "    string = re.sub(r\"\\'d\", \" \\'d\", string)\n",
    "    string = re.sub(r\"\\'ll\", \" \\'ll\", string)\n",
    "    string = re.sub(r\",\", \" , \", string)\n",
    "    string = re.sub(r\"!\", \" ! \", string)\n",
    "    string = re.sub(r\"\\(\", \" \\( \", string)\n",
    "    string = re.sub(r\"\\)\", \" \\) \", string)\n",
    "    string = re.sub(r\"\\?\", \" \\? \", string)\n",
    "    string = re.sub(r\"\\s{2,}\", \" \", string)\n",
    "    string = re.sub(r\"\\'{2,}\", \"\\'\", string)\n",
    "    string = re.sub(r\"\\'\", \"\", string)\n",
    "\n",
    "    return string.lower()\n",
    "\n",
    "train_text_X = [clean_str(centence) for centence in train_text_X]\n",
    "sentences = [sentences.split(' ') for sentences in train_text_X]"
   ]
  },
  {
   "cell_type": "code",
   "execution_count": 11,
   "id": "d67ca05b-0ae9-4042-8e2f-95de6115cb17",
   "metadata": {},
   "outputs": [
    {
     "data": {
      "image/png": "[encoded data removed]",
      "text/plain": [
       "<Figure size 640x480 with 1 Axes>"
      ]
     },
     "metadata": {},
     "output_type": "display_data"
    },
    {
     "name": "stdout",
     "output_type": "stream",
     "text": [
      "142590\n"
     ]
    }
   ],
   "source": [
    "# 150000개 문장의 단어 길이 확인\n",
    "import matplotlib.pyplot as plt\n",
    "sentence_len = [len(sentence) for sentence in sentences]\n",
    "sentence_len.sort()\n",
    "plt.plot(sentence_len)\n",
    "plt.xlabel('index')\n",
    "plt.ylabel('count')\n",
    "plt.show()\n",
    "\n",
    "print(sum([int(l<=25) for l in sentence_len]))\n",
    "# 15 만개 문장 중 단어 갯수가 25개 이하인 문장의 수가 142590개이다, 25를 sequence_length로 사용"
   ]
  },
  {
   "cell_type": "code",
   "execution_count": 12,
   "id": "a0d1d529-d407-4dc2-8ded-3320e061b34e",
   "metadata": {},
   "outputs": [
    {
     "data": {
      "text/plain": [
       "[['아', '더빙', '진짜', '짜증나네요', '목소리'],\n",
       " ['흠', '포스터보고', '초딩영화줄', '오버연기조', '가볍지', '않구나'],\n",
       " ['너무재밓었'],\n",
       " ['교도소', '이야기구먼', '솔직히', '재미는', '없다', '평점', '조정'],\n",
       " ['사이몬페그',\n",
       "  '익살스런',\n",
       "  '연기가',\n",
       "  '돋보였던',\n",
       "  '영화',\n",
       "  '!',\n",
       "  '스파이더맨',\n",
       "  '늙어보이기',\n",
       "  '했던',\n",
       "  '커스틴',\n",
       "  '던스트가',\n",
       "  '너무나도',\n",
       "  '이뻐보였다']]"
      ]
     },
     "execution_count": 12,
     "metadata": {},
     "output_type": "execute_result"
    }
   ],
   "source": [
    "# 단어 정제 및 문장 길이 줄임\n",
    "# 문장의 최대 길이를 25로 잡고 그 이상은 잘라내고 단어의 앞에서 5글자씩만 잘라서 사용한다\n",
    "sentences_new = []\n",
    "for sentence in sentences:\n",
    "    sentences_new.append([word[:5] for word in sentence[:25]])\n",
    "sentences = sentences_new\n",
    "sentences[:5]"
   ]
  },
  {
   "cell_type": "code",
   "execution_count": 14,
   "id": "2a592cde-d272-40e1-b225-2621587fe47d",
   "metadata": {},
   "outputs": [
    {
     "data": {
      "text/plain": [
       "array([[   25,   884,     8,  5795,  1111,     0,     0,     0,     0,\n",
       "            0,     0,     0,     0,     0,     0,     0,     0,     0,\n",
       "            0,     0,     0,     0,     0,     0,     0],\n",
       "       [  588,  5796,  6697,     0,     0,     0,     0,     0,     0,\n",
       "            0,     0,     0,     0,     0,     0,     0,     0,     0,\n",
       "            0,     0,     0,     0,     0,     0,     0],\n",
       "       [    0,     0,     0,     0,     0,     0,     0,     0,     0,\n",
       "            0,     0,     0,     0,     0,     0,     0,     0,     0,\n",
       "            0,     0,     0,     0,     0,     0,     0],\n",
       "       [   71,   346,    31,    35, 10468,     0,     0,     0,     0,\n",
       "            0,     0,     0,     0,     0,     0,     0,     0,     0,\n",
       "            0,     0,     0,     0,     0,     0,     0],\n",
       "       [  106,  5338,     4,     2,  2169,   869,   573,     0,     0,\n",
       "            0,     0,     0,     0,     0,     0,     0,     0,     0,\n",
       "            0,     0,     0,     0,     0,     0,     0]])"
      ]
     },
     "execution_count": 14,
     "metadata": {},
     "output_type": "execute_result"
    }
   ],
   "source": [
    "from tensorflow.keras.preprocessing.text import Tokenizer\n",
    "from tensorflow.keras.preprocessing.sequence import pad_sequences\n",
    "\n",
    "tokenizer = Tokenizer(num_words=20000)\n",
    "tokenizer.fit_on_texts(sentences) # index 생성\n",
    "sequences = tokenizer.texts_to_sequences(sentences) # index 반환 encoding\n",
    "train_X = pad_sequences(sequences,padding='post')\n",
    "#train_X[:5]"
   ]
  },
  {
   "cell_type": "code",
   "execution_count": 15,
   "id": "1566700e-1695-48ef-a0b7-7c11dba8dd75",
   "metadata": {},
   "outputs": [
    {
     "name": "stdout",
     "output_type": "stream",
     "text": [
      "스트레스를\n",
      "경우는\n",
      "[[], [], [], [106]]\n",
      "[[  0]\n",
      " [  0]\n",
      " [  0]\n",
      " [106]]\n"
     ]
    }
   ],
   "source": [
    "# Tokenizer의 동작 확인\n",
    "print(tokenizer.index_word[19999])\n",
    "print(tokenizer.index_word[20000])\n",
    "temp = tokenizer.texts_to_sequences(['#$#$#', '경우는', '잊혀질', '연기가']) # 빈도가 낮은 '잊혀질'은 공백으로 반환\n",
    "print(temp)\n",
    "temp = pad_sequences(temp, padding='post')\n",
    "print(temp)  # 최대길이가 1이므로 1보다 작은 문장은 0이 패딩된다"
   ]
  },
  {
   "cell_type": "code",
   "execution_count": 17,
   "id": "a244fa29-d12f-433f-894b-205d94c68ece",
   "metadata": {},
   "outputs": [
    {
     "name": "stdout",
     "output_type": "stream",
     "text": [
      "Model: \"sequential_1\"\n",
      "_________________________________________________________________\n",
      " Layer (type)                Output Shape              Param #   \n",
      "=================================================================\n",
      " embedding_1 (Embedding)     (None, 25, 300)           6000000   \n",
      "                                                                 \n",
      " lstm_1 (LSTM)               (None, 50)                70200     \n",
      "                                                                 \n",
      " dense_1 (Dense)             (None, 2)                 102       \n",
      "                                                                 \n",
      "=================================================================\n",
      "Total params: 6,070,302\n",
      "Trainable params: 6,070,302\n",
      "Non-trainable params: 0\n",
      "_________________________________________________________________\n"
     ]
    }
   ],
   "source": [
    "model = tf.keras.Sequential([\n",
    "    tf.keras.layers.Embedding(20000,300,input_length=25),\n",
    "    tf.keras.layers.LSTM(units=50),\n",
    "    tf.keras.layers.Dense(2,activation='softmax')\n",
    "])\n",
    "\n",
    "model.compile(optimizer='adam',\n",
    "              loss='sparse_categorical_crossentropy',\n",
    "              metrics=['accuracy'])\n",
    "# loss 종류\n",
    "# mean_squared_error : 평균제곱 오차\n",
    "# binary_crossentropy : 이진분류 오차\n",
    "# categorical_crossentropy : 다중 분류 오차. one-hot encoding 클래스, [0.2, 0.3, 0.5] 와 같은 출력값과 실측값의 오차값을 계산한다.\n",
    "# sparse_categorical_crossentropy: 다중 분류 오차. 위와 동일하지만 , integer type 클래스라는 것이 다르다.\n",
    "model.summary()"
   ]
  },
  {
   "cell_type": "code",
   "execution_count": 18,
   "id": "9fe924b6-ad05-4aca-800b-b8cc39f5df73",
   "metadata": {},
   "outputs": [
    {
     "name": "stdout",
     "output_type": "stream",
     "text": [
      "Epoch 1/5\n",
      "938/938 [==============================] - 13s 11ms/step - loss: 0.4328 - accuracy: 0.7860 - val_loss: 0.3822 - val_accuracy: 0.8215\n",
      "Epoch 2/5\n",
      "938/938 [==============================] - 9s 9ms/step - loss: 0.3245 - accuracy: 0.8493 - val_loss: 0.3834 - val_accuracy: 0.8193\n",
      "Epoch 3/5\n",
      "938/938 [==============================] - 9s 10ms/step - loss: 0.2704 - accuracy: 0.8698 - val_loss: 0.4338 - val_accuracy: 0.8150\n",
      "Epoch 4/5\n",
      "938/938 [==============================] - 9s 10ms/step - loss: 0.2251 - accuracy: 0.8898 - val_loss: 0.5000 - val_accuracy: 0.8116\n",
      "Epoch 5/5\n",
      "938/938 [==============================] - 9s 10ms/step - loss: 0.1902 - accuracy: 0.9062 - val_loss: 0.5739 - val_accuracy: 0.8054\n"
     ]
    }
   ],
   "source": [
    "history = model.fit(train_X,train_Y,epochs=5,batch_size=128,validation_split=0.2)"
   ]
  },
  {
   "cell_type": "code",
   "execution_count": 19,
   "id": "e0ac08b8-d1d1-4d8b-9e96-1d1a1dd268c2",
   "metadata": {},
   "outputs": [
    {
     "data": {
      "image/png": "[encoded data removed]",
      "text/plain": [
       "<Figure size 1200x400 with 2 Axes>"
      ]
     },
     "metadata": {},
     "output_type": "display_data"
    }
   ],
   "source": [
    "# 감성 분석 모델 학습 결과 확인\n",
    "import matplotlib.pyplot as plt\n",
    "plt.figure(figsize=(12, 4))\n",
    "\n",
    "plt.subplot(1, 2, 1)\n",
    "plt.plot(history.history['loss'], 'b-', label='loss')\n",
    "plt.plot(history.history['val_loss'], 'r--', label='val_loss')\n",
    "plt.xlabel('Epoch')\n",
    "plt.legend()\n",
    "\n",
    "plt.subplot(1, 2, 2)\n",
    "plt.plot(history.history['accuracy'], 'g-', label='accuracy')\n",
    "plt.plot(history.history['val_accuracy'], 'k--', label='val_accuracy')\n",
    "plt.xlabel('Epoch')\n",
    "plt.ylim(0.7, 1)\n",
    "plt.legend()\n",
    "\n",
    "plt.show()"
   ]
  },
  {
   "cell_type": "code",
   "execution_count": 20,
   "id": "628eeb18-aa5e-47b7-bf65-0b9a490901c5",
   "metadata": {},
   "outputs": [
    {
     "data": {
      "text/plain": [
       "array([[  594,     1,     0,     0,     0,     0,     0,     0,     0,\n",
       "            0,     0,     0,     0,     0,     0,     0,     0,     0,\n",
       "            0,     0,     0,     0,     0,     0,     0],\n",
       "       [    0,     0,     0,     0,     0,     0,     0,     0,     0,\n",
       "            0,     0,     0,     0,     0,     0,     0,     0,     0,\n",
       "            0,     0,     0,     0,     0,     0,     0],\n",
       "       [  358,     9,  4626,   990,    69,  3348,  2773,     0,     0,\n",
       "            0,     0,     0,     0,     0,     0,     0,     0,     0,\n",
       "            0,     0,     0,     0,     0,     0,     0],\n",
       "       [ 2110,    32, 12562,   506,  1450,     1,     0,     0,     0,\n",
       "            0,     0,     0,     0,     0,     0,     0,     0,     0,\n",
       "            0,     0,     0,     0,     0,     0,     0],\n",
       "       [17857,   109, 12074,   244, 18890,    11,  3365,   348,   468,\n",
       "        12715,     5,     5,     1,     0,     0,     0,     0,     0,\n",
       "            0,     0,     0,     0,     0,     0,     0]])"
      ]
     },
     "execution_count": 20,
     "metadata": {},
     "output_type": "execute_result"
    }
   ],
   "source": [
    "## 정확도 측정\n",
    "test_text_X = [row.split('\\t')[1] for row in test_text.split('\\n')[1:] if row.count('\\t') > 0]\n",
    "test_text_X = [clean_str(sentence) for sentence in test_text_X ]\n",
    "\n",
    "# 문장을 띄어쓰기 단위로 단어 분리\n",
    "sentences = [sentence.split(' ') for sentence in test_text_X]\n",
    "\n",
    "# 문장의 최대 길이를 25로 잡고 그 이상은 잘라내고 단어의 앞에서 5글자씩만 잘라서 사용한다\n",
    "sentences_new = []\n",
    "for sentence in sentences:\n",
    "    sentences_new.append([word[:5] for word in sentence[:25]])\n",
    "sentences = sentences_new\n",
    "\n",
    "sequences = tokenizer.texts_to_sequences(sentences) # 인덱스를 반환\n",
    "test_X = pad_sequences(sequences,padding='post')   # 문장의 뒤부분으로 0을 패딩한다, 공백도 0으로 채워진다\n",
    "\n",
    "test_X[:5]  # 25개의 길이로 패딩 완성"
   ]
  },
  {
   "cell_type": "code",
   "execution_count": 21,
   "id": "408669f7-7495-4872-9de5-89dfd5613def",
   "metadata": {},
   "outputs": [
    {
     "data": {
      "text/plain": [
       "[0.5830899477005005, 0.7975999712944031]"
      ]
     },
     "execution_count": 21,
     "metadata": {},
     "output_type": "execute_result"
    }
   ],
   "source": [
    "model.evaluate(test_X,test_Y,verbose=0)"
   ]
  },
  {
   "cell_type": "code",
   "execution_count": 22,
   "id": "53d54b77-382a-46a8-993d-e2e2c3ed8dbd",
   "metadata": {},
   "outputs": [
    {
     "name": "stdout",
     "output_type": "stream",
     "text": [
      "1/1 [==============================] - 0s 196ms/step\n",
      "['재미있을']\n",
      "[0.35069734 0.64930266]\n",
      "['재미있을', '줄']\n",
      "[0.34754124 0.6524587 ]\n",
      "['재미있을', '줄', '알았는데']\n",
      "[0.405246 0.594754]\n",
      "['재미있을', '줄', '알았는데', '완전']\n",
      "[0.50533277 0.49466726]\n",
      "['재미있을', '줄', '알았는데', '완전', '실망했다.']\n",
      "[0.50533277 0.49466726]\n",
      "['재미있을', '줄', '알았는데', '완전', '실망했다.', '너무']\n",
      "[0.6667307  0.33326924]\n",
      "['재미있을', '줄', '알았는데', '완전', '실망했다.', '너무', '졸리고']\n",
      "[0.9956275 0.0043725]\n",
      "['재미있을', '줄', '알았는데', '완전', '실망했다.', '너무', '졸리고', '돈이']\n",
      "[9.9911863e-01 8.8133814e-04]\n",
      "['재미있을', '줄', '알았는데', '완전', '실망했다.', '너무', '졸리고', '돈이', '아까웠다.']\n",
      "[9.9911863e-01 8.8133814e-04]\n"
     ]
    }
   ],
   "source": [
    "# 임의의 문장 감성 분석 예측 결과 확인\n",
    "test_sentence = '재미있을 줄 알았는데 완전 실망했다. 너무 졸리고 돈이 아까웠다.'\n",
    "test_sentence = test_sentence.split(' ') # ['재미있을', '줄', '알았는데', '완전', '실망했다.', '너무', '졸리고', '돈이', '아까웠다.']\n",
    "test_sentences = []\n",
    "now_sentence = []\n",
    "\n",
    "for word in test_sentence:\n",
    "    now_sentence.append(word)\n",
    "    test_sentences.append(now_sentence[:])\n",
    "    \n",
    "# test_sentences  # 9개\n",
    "\n",
    "sequences = tokenizer.texts_to_sequences(test_sentences) \n",
    "test_X_1 = pad_sequences(sequences,padding='post',maxlen=25) \n",
    "\n",
    "# test_X_1\n",
    "\n",
    "prediction = model.predict(test_X_1)  # 분류할 값 2개가 확률로 출력\n",
    "\n",
    "for idx, sentence in enumerate(test_sentences):\n",
    "    print(sentence)\n",
    "    print(prediction[idx])"
   ]
  },
  {
   "cell_type": "code",
   "execution_count": 23,
   "id": "6dabde7e-b186-47f7-98bf-c175229b3f99",
   "metadata": {},
   "outputs": [],
   "source": [
    "# 감성 분석 함수 구현\n",
    "def sentiment_predict(test_sentence):\n",
    "    test_sentence = test_sentence.split(' ')\n",
    "    test_sentences = []\n",
    "    now_sentence = []\n",
    "\n",
    "    for word in test_sentence:\n",
    "        now_sentence.append(word)\n",
    "        test_sentences.append(now_sentence[:])\n",
    "\n",
    "    sequences = tokenizer.texts_to_sequences(test_sentences) \n",
    "    test_X_1 = pad_sequences(sequences,padding='post',maxlen=25) \n",
    "\n",
    "    prediction = model.predict(test_X_1)  \n",
    "\n",
    "    for idx, sentence in enumerate(test_sentences):\n",
    "        score = prediction[idx]\n",
    "    \n",
    "    if(score[0] > score[1]):\n",
    "        print(\"{:.2f}% 확률로 부정 리뷰입니다.\".format(score[0] * 100))\n",
    "    else:\n",
    "        print(\"{:.2f}% 확률로 긍정 리뷰입니다.\".format((1 - score[0]) * 100))"
   ]
  },
  {
   "cell_type": "code",
   "execution_count": 27,
   "id": "8e6cb831-e49d-4d8e-89bd-385c72e57f0f",
   "metadata": {},
   "outputs": [
    {
     "name": "stdout",
     "output_type": "stream",
     "text": [
      "1/1 [==============================] - 0s 14ms/step\n",
      "99.26% 확률로 긍정 리뷰입니다.\n"
     ]
    }
   ],
   "source": [
    "sentiment_predict('잘한다 잘해')"
   ]
  },
  {
   "cell_type": "code",
   "execution_count": 28,
   "id": "f1eafe6b-d9f3-49b1-978f-8150e2ff7ef3",
   "metadata": {},
   "outputs": [],
   "source": [
    "#모델 저장\n",
    "model.save('naver_movie.h5')"
   ]
  },
  {
   "cell_type": "code",
   "execution_count": null,
   "id": "b9b07946-ecbc-48ac-9121-384702ee1c32",
   "metadata": {},
   "outputs": [],
   "source": []
  }
 ],
 "metadata": {
  "kernelspec": {
   "display_name": "Python 3 (ipykernel)",
   "language": "python",
   "name": "python3"
  },
  "language_info": {
   "codemirror_mode": {
    "name": "ipython",
    "version": 3
   },
   "file_extension": ".py",
   "mimetype": "text/x-python",
   "name": "python",
   "nbconvert_exporter": "python",
   "pygments_lexer": "ipython3",
   "version": "3.10.14"
  }
 },
 "nbformat": 4,
 "nbformat_minor": 5
}
