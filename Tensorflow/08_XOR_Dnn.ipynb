{
 "cells": [
  {
   "cell_type": "code",
   "execution_count": 1,
   "id": "9c9448e8-254e-477a-a5b0-3c54a7ff9267",
   "metadata": {},
   "outputs": [],
   "source": [
    "# xor_nn\n",
    "# 2진 분류 : Logistic Regression\n",
    "# 활성화 함수 : sigmoid 함수 사용\n",
    "# two Layers of Neural Network\n",
    "import tensorflow as tf\n",
    "import numpy as np\n",
    "tf.random.set_seed(5)"
   ]
  },
  {
   "cell_type": "code",
   "execution_count": 2,
   "id": "26f50710-efac-44cf-a658-9bc7a66ed55c",
   "metadata": {},
   "outputs": [],
   "source": [
    "# train data set \n",
    "x_data = [[0,0],\n",
    "          [0,1],\n",
    "          [1,0],\n",
    "          [1,1]]\n",
    "\n",
    "y_data = [[0],\n",
    "          [1],\n",
    "          [1],\n",
    "          [0]]\n",
    "\n",
    "x_train = np.array(x_data,dtype=np.float32)\n",
    "y_train = np.array(y_data,dtype=np.float32)"
   ]
  },
  {
   "cell_type": "code",
   "execution_count": 3,
   "id": "8ab475d0-2c84-45d4-8fb6-a21c5c2485d1",
   "metadata": {},
   "outputs": [],
   "source": [
    "#Layer1(Hidden layer)\n",
    "#은닉층의 출력 사이즈는 어떤 값이라도 무관 (m,n) * (n,Z) = (Z,X)\n",
    "W1=tf.Variable(tf.random.normal([2,2]),name='Weight1')\n",
    "b1=tf.Variable(tf.random.normal([2]),name='Bias1')\n",
    "\n",
    "def layer1(X):\n",
    "    return tf.nn.relu(tf.matmul(X,W1)+b1)\n",
    "#    return tf.sigmoid(tf.matmul(X,W1)+b1)"
   ]
  },
  {
   "cell_type": "code",
   "execution_count": 4,
   "id": "c27016e6-dfdb-41f5-8f5d-003e2176a6eb",
   "metadata": {},
   "outputs": [],
   "source": [
    "#Layer2\n",
    "W2=tf.Variable(tf.random.normal([2,2]),name='Weight2')\n",
    "b2=tf.Variable(tf.random.normal([2]),name='Bias2')\n",
    "\n",
    "def layer2(X):\n",
    "    return tf.nn.relu(tf.matmul(layer1(X),W2)+b2)\n",
    "#    return tf.sigmoid(tf.matmul(layer1(X),W2)+b2)"
   ]
  },
  {
   "cell_type": "code",
   "execution_count": 5,
   "id": "897f8896-726a-4f4f-8168-3efe27fe7b39",
   "metadata": {},
   "outputs": [],
   "source": [
    "#Layer3(Output layer)\n",
    "#출력행이 맞아야 함 (X,n) * (n,l) = (Y,l)\n",
    "W3=tf.Variable(tf.random.normal([2,1]),name='Weight3')\n",
    "b3=tf.Variable(tf.random.normal([1]),name='Bias3')\n",
    "\n",
    "def hy(X):\n",
    "    return tf.sigmoid(tf.matmul(layer2(X),W3)+b3)"
   ]
  },
  {
   "cell_type": "code",
   "execution_count": 6,
   "id": "0c2fab58-febf-4888-88ae-644542914092",
   "metadata": {},
   "outputs": [],
   "source": [
    "#logloss, 2진분류 모델\n",
    "def cost_func():\n",
    "    cost = -tf.reduce_mean(y_train*tf.math.log(hy(x_train)) +\n",
    "                         (1-y_train)*tf.math.log(1-hy(x_train)))\n",
    "    return cost"
   ]
  },
  {
   "cell_type": "code",
   "execution_count": 7,
   "id": "7aa0be50-83d4-4bf7-be2b-9faefbda51e9",
   "metadata": {},
   "outputs": [],
   "source": [
    "#경사하강법 learning_rate(학습률)을 0.01로 설정하여 optimizer object 생성\n",
    "opt = tf.keras.optimizers.Adam(learning_rate=0.01)"
   ]
  },
  {
   "cell_type": "code",
   "execution_count": 8,
   "id": "69cf505f-54b0-466c-90cd-dd4400e2bb61",
   "metadata": {},
   "outputs": [
    {
     "name": "stdout",
     "output_type": "stream",
     "text": [
      "===Start===\n",
      "0 cost: 0.66319364\n",
      "1000 cost: 0.4774331\n",
      "2000 cost: 0.477404\n",
      "3000 cost: 0.47739112\n",
      "4000 cost: 0.4773879\n",
      "5000 cost: 0.4773867\n",
      "===finished===\n"
     ]
    }
   ],
   "source": [
    "print(\"===Start===\")\n",
    "for step in range(5001):\n",
    "    opt.minimize(cost_func,var_list=[W1,b1,W2,b2,W3,b3])\n",
    "    if step%1000 == 0:\n",
    "        print('%d'%step,'cost:',cost_func().numpy())\n",
    "print(\"===finished===\")"
   ]
  },
  {
   "cell_type": "code",
   "execution_count": 9,
   "id": "c82674f4-1451-43d5-bb16-577c48b825ff",
   "metadata": {},
   "outputs": [
    {
     "name": "stdout",
     "output_type": "stream",
     "text": [
      "<tf.Variable 'Weight1:0' shape=(2, 2) dtype=float32, numpy=\n",
      "array([[-0.34730235, -1.2073263 ],\n",
      "       [-0.52223825, -0.97208333]], dtype=float32)> \n",
      " <tf.Variable 'Bias1:0' shape=(2,) dtype=float32, numpy=array([0.31921372, 0.9184752 ], dtype=float32)> \n",
      "\n",
      " <tf.Variable 'Weight2:0' shape=(2, 2) dtype=float32, numpy=\n",
      "array([[ 2.974418 , -0.8765189],\n",
      "       [ 2.463934 , -2.1432838]], dtype=float32)> \n",
      " <tf.Variable 'Bias2:0' shape=(2,) dtype=float32, numpy=array([0.5129756, 1.1224456], dtype=float32)> \n",
      "\n",
      " <tf.Variable 'Weight3:0' shape=(2, 1) dtype=float32, numpy=\n",
      "array([[-3.0928898],\n",
      "       [ 2.7633448]], dtype=float32)> \n",
      " <tf.Variable 'Bias3:0' shape=(1,) dtype=float32, numpy=array([-0.82199013], dtype=float32)>\n"
     ]
    }
   ],
   "source": [
    "print(W1,'\\n',b1,'\\n\\n',W2,'\\n',b2,'\\n\\n',W3,'\\n',b3)"
   ]
  },
  {
   "cell_type": "code",
   "execution_count": 10,
   "id": "1120cb4c-ab49-4f44-8935-772922425c21",
   "metadata": {},
   "outputs": [
    {
     "name": "stdout",
     "output_type": "stream",
     "text": [
      "Accuracy: 0.75\n",
      "tf.Tensor(\n",
      "[[0.]\n",
      " [1.]\n",
      " [1.]\n",
      " [1.]], shape=(4, 1), dtype=float32)\n"
     ]
    }
   ],
   "source": [
    "def predict(X):\n",
    "    return tf.cast(hy(X) > 0.5,dtype=tf.float32)\n",
    "preds = predict(x_train)\n",
    "accuracy = tf.reduce_mean(tf.cast(tf.equal(preds,y_train),dtype=tf.float32))\n",
    "print('Accuracy:',accuracy.numpy())\n",
    "print(preds)"
   ]
  }
 ],
 "metadata": {
  "kernelspec": {
   "display_name": "Python 3 (ipykernel)",
   "language": "python",
   "name": "python3"
  },
  "language_info": {
   "codemirror_mode": {
    "name": "ipython",
    "version": 3
   },
   "file_extension": ".py",
   "mimetype": "text/x-python",
   "name": "python",
   "nbconvert_exporter": "python",
   "pygments_lexer": "ipython3",
   "version": "3.10.14"
  }
 },
 "nbformat": 4,
 "nbformat_minor": 5
}
