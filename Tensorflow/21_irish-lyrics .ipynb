{
 "cells": [
  {
   "cell_type": "markdown",
   "id": "7f379341-a774-425b-9ae5-b1dba98bb4c8",
   "metadata": {},
   "source": [
    "## 텍스트 생성"
   ]
  },
  {
   "cell_type": "code",
   "execution_count": 1,
   "id": "549cf123-3e3f-41f0-8be3-b521be6ca79f",
   "metadata": {},
   "outputs": [],
   "source": [
    "import tensorflow as tf\n",
    "\n",
    "from tensorflow.keras.preprocessing.sequence import pad_sequences\n",
    "from tensorflow.keras.layers import Embedding, LSTM, Dense, Bidirectional\n",
    "from tensorflow.keras.preprocessing.text import Tokenizer\n",
    "from tensorflow.keras.models import Sequential\n",
    "from tensorflow.keras.optimizers import Adam\n",
    "import numpy as np \n",
    "\n",
    "import urllib"
   ]
  },
  {
   "cell_type": "code",
   "execution_count": 2,
   "id": "97238fff-4f5c-4ccd-a420-e61c69609f89",
   "metadata": {},
   "outputs": [
    {
     "data": {
      "text/plain": [
       "('irish-lyrics-eof.txt', <http.client.HTTPMessage at 0x22d75fa3d30>)"
      ]
     },
     "execution_count": 2,
     "metadata": {},
     "output_type": "execute_result"
    }
   ],
   "source": [
    "# irish-lyrics-eof.txt 데이터셋 파일 다운로드 , Windows용\n",
    "url = 'https://github.com/aaBadri/nlp-tf/blob/master/irish-lyrics-eof.txt'\n",
    "urllib.request.urlretrieve(url, 'irish-lyrics-eof.txt')"
   ]
  },
  {
   "cell_type": "code",
   "execution_count": 11,
   "id": "67dcc315-8932-4179-859c-0908c3eff7ee",
   "metadata": {},
   "outputs": [
    {
     "name": "stdout",
     "output_type": "stream",
     "text": [
      "2690\n"
     ]
    }
   ],
   "source": [
    "# 토큰화\n",
    "tokenizer = Tokenizer()\n",
    "\n",
    "data = open('irish-lyrics-eof.txt').read()\n",
    "\n",
    "corpus = data.lower().split('\\n')\n",
    "\n",
    "tokenizer.fit_on_texts(corpus)\n",
    "total_words = len(tokenizer.word_index) + 1\n",
    "# print(tokenizer.wor//d_index)\n",
    "print(total_words)  # 2690"
   ]
  },
  {
   "cell_type": "code",
   "execution_count": 12,
   "id": "fd846a05-9e0b-4257-8662-2efafcb8bb20",
   "metadata": {},
   "outputs": [],
   "source": [
    "input_sequences = []\n",
    "for line in corpus:\n",
    "\ttoken_list = tokenizer.texts_to_sequences([line])[0]\n",
    "\tfor i in range(1, len(token_list)):\n",
    "\t\tn_gram_sequence = token_list[:i+1]\n",
    "\t\tinput_sequences.append(n_gram_sequence)\n",
    "\n",
    "\n",
    "# pad sequences \n",
    "max_sequence_len = max([len(x) for x in input_sequences])\n",
    "input_sequences = np.array(pad_sequences(input_sequences, maxlen=max_sequence_len,\n",
    "                                         padding='pre'))\n",
    "\n",
    "# create predictors and label\n",
    "xs, labels = input_sequences[:,:-1],input_sequences[:,-1]\n",
    "\n",
    "ys = tf.keras.utils.to_categorical(labels, num_classes=total_words)  # 원핫 인코딩"
   ]
  },
  {
   "cell_type": "code",
   "execution_count": 13,
   "id": "a31db7ab-7fff-4af2-9c5e-1caaa9680e41",
   "metadata": {},
   "outputs": [
    {
     "name": "stdout",
     "output_type": "stream",
     "text": [
      "Model: \"sequential\"\n",
      "_________________________________________________________________\n",
      " Layer (type)                Output Shape              Param #   \n",
      "=================================================================\n",
      " embedding (Embedding)       (None, 15, 100)           269000    \n",
      "                                                                 \n",
      " bidirectional (Bidirectiona  (None, 300)              301200    \n",
      " l)                                                              \n",
      "                                                                 \n",
      " dense (Dense)               (None, 2690)              809690    \n",
      "                                                                 \n",
      "=================================================================\n",
      "Total params: 1,379,890\n",
      "Trainable params: 1,379,890\n",
      "Non-trainable params: 0\n",
      "_________________________________________________________________\n"
     ]
    }
   ],
   "source": [
    "model = Sequential()\n",
    "model.add(Embedding(total_words, 100, input_length=max_sequence_len-1))\n",
    "model.add(Bidirectional(LSTM(150)))\n",
    "model.add(Dense(total_words, activation='softmax'))\n",
    "adam = Adam(learning_rate=0.01)\n",
    "model.compile(loss='categorical_crossentropy', \n",
    "              optimizer=adam,\n",
    "              metrics=['accuracy'])\n",
    "\n",
    "model.summary()"
   ]
  },
  {
   "cell_type": "code",
   "execution_count": 14,
   "id": "56e5cacd-cfab-4634-a81b-fd953f13e8ed",
   "metadata": {},
   "outputs": [
    {
     "name": "stdout",
     "output_type": "stream",
     "text": [
      "Epoch 1/10\n",
      "377/377 [==============================] - 11s 10ms/step - loss: 6.5989 - accuracy: 0.0754\n",
      "Epoch 2/10\n",
      "377/377 [==============================] - 3s 9ms/step - loss: 5.6308 - accuracy: 0.1261\n",
      "Epoch 3/10\n",
      "377/377 [==============================] - 3s 9ms/step - loss: 4.6645 - accuracy: 0.1764\n",
      "Epoch 4/10\n",
      "377/377 [==============================] - 3s 9ms/step - loss: 3.7173 - accuracy: 0.2606\n",
      "Epoch 5/10\n",
      "377/377 [==============================] - 3s 9ms/step - loss: 2.9138 - accuracy: 0.3658\n",
      "Epoch 6/10\n",
      "377/377 [==============================] - 3s 9ms/step - loss: 2.2857 - accuracy: 0.4727\n",
      "Epoch 7/10\n",
      "377/377 [==============================] - 3s 9ms/step - loss: 1.8387 - accuracy: 0.5681\n",
      "Epoch 8/10\n",
      "377/377 [==============================] - 3s 9ms/step - loss: 1.5253 - accuracy: 0.6336\n",
      "Epoch 9/10\n",
      "377/377 [==============================] - 3s 9ms/step - loss: 1.3014 - accuracy: 0.6850\n",
      "Epoch 10/10\n",
      "377/377 [==============================] - 3s 9ms/step - loss: 1.2086 - accuracy: 0.7048\n",
      "<keras.engine.sequential.Sequential object at 0x0000022D763D8BE0>\n"
     ]
    }
   ],
   "source": [
    "# 학습\n",
    "history = model.fit(xs, ys, epochs=10, verbose=1)\n",
    "print(model)"
   ]
  },
  {
   "cell_type": "code",
   "execution_count": 16,
   "id": "1dff939e-5ad2-4c85-8848-a9280540e2b6",
   "metadata": {},
   "outputs": [
    {
     "data": {
      "image/png": "[encoded data removed]",
      "text/plain": [
       "<Figure size 640x480 with 1 Axes>"
      ]
     },
     "metadata": {},
     "output_type": "display_data"
    }
   ],
   "source": [
    "# 시각화\n",
    "import matplotlib.pyplot as plt\n",
    "\n",
    "\n",
    "def plot_graphs(history, string):\n",
    "    plt.plot(history.history[string])\n",
    "    plt.xlabel(\"Epochs\")\n",
    "    plt.ylabel(string)\n",
    "    plt.show()\n",
    "    \n",
    "plot_graphs(history, 'accuracy')"
   ]
  },
  {
   "cell_type": "code",
   "execution_count": 17,
   "id": "3453eaaf-e5ce-4cbc-913b-686a3724eea1",
   "metadata": {},
   "outputs": [
    {
     "name": "stdout",
     "output_type": "stream",
     "text": [
      "I've got a bad feeling about this by day and by night but the wearin o their eyes fearless and gone and by night unseen gone by and sinking eyes well gone and heavy began to immortal love to me my bride now gone but always did seen gone by the rest from a new love on your brow away oer the moor arms i had bring me gone and now he begged for forgiveness today sinking darlin sportin jenny tune ive never she sighed as me would her lover do gone by arms by lord cornwall the warm wall kind and immortal ever i had i\n"
     ]
    }
   ],
   "source": [
    "# 텍스트(문장) 생성\n",
    "seed_text = \"I've got a bad feeling about this\"\n",
    "next_words = 100\n",
    "  \n",
    "for _ in range(next_words):\n",
    "\ttoken_list = tokenizer.texts_to_sequences([seed_text])[0]\n",
    "\ttoken_list = pad_sequences([token_list], maxlen=max_sequence_len-1, padding='pre')\n",
    "\tpredicted = tf.argmax(model.predict(token_list, verbose=0),axis=1)\n",
    "\toutput_word = \"\"\n",
    "\tfor word, index in tokenizer.word_index.items():\n",
    "\t\tif index == predicted:\n",
    "\t\t\toutput_word = word\n",
    "\t\t\tbreak\n",
    "\tseed_text += \" \" + output_word\n",
    "print(seed_text)"
   ]
  }
 ],
 "metadata": {
  "kernelspec": {
   "display_name": "Python 3 (ipykernel)",
   "language": "python",
   "name": "python3"
  },
  "language_info": {
   "codemirror_mode": {
    "name": "ipython",
    "version": 3
   },
   "file_extension": ".py",
   "mimetype": "text/x-python",
   "name": "python",
   "nbconvert_exporter": "python",
   "pygments_lexer": "ipython3",
   "version": "3.10.6"
  }
 },
 "nbformat": 4,
 "nbformat_minor": 5
}
