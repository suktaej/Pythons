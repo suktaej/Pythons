{
 "cells": [
  {
   "cell_type": "code",
   "execution_count": 14,
   "id": "197d0ed7-1c0c-4469-b3a6-2a374618e157",
   "metadata": {},
   "outputs": [],
   "source": [
    "# sarcasm json data binary classification\n",
    "# total 26,709 headlines\n",
    "import json\n",
    "import tensorflow as tf\n",
    "import numpy as np\n",
    "import urllib\n",
    "from tensorflow.keras.preprocessing.text import Tokenizer\n",
    "from tensorflow.keras.preprocessing.sequence import pad_sequences"
   ]
  },
  {
   "cell_type": "code",
   "execution_count": 2,
   "id": "c9b91f59-0644-4df6-a282-8cd57e87aebb",
   "metadata": {},
   "outputs": [
    {
     "data": {
      "text/plain": [
       "('sarcasm.json', <http.client.HTTPMessage at 0x1ef48bf7d00>)"
      ]
     },
     "execution_count": 2,
     "metadata": {},
     "output_type": "execute_result"
    }
   ],
   "source": [
    "# sarcasm.json 데이터셋 파일 다운로드 , Windows용\n",
    "url = 'https://storage.googleapis.com/download.tensorflow.org/data/sarcasm.json'\n",
    "urllib.request.urlretrieve(url, 'sarcasm.json')"
   ]
  },
  {
   "cell_type": "code",
   "execution_count": 4,
   "id": "583c62c3-0956-4f05-a432-907b7f9674da",
   "metadata": {},
   "outputs": [],
   "source": [
    "with open('sarcasm.json','r') as f:\n",
    "    datastore = json.load(f)\n",
    "    \n",
    "sentances = []\n",
    "labels = []\n",
    "\n",
    "for item in datastore:\n",
    "    sentances.append(item['headline'])\n",
    "    labels.append(item['is_sarcastic'])"
   ]
  },
  {
   "cell_type": "markdown",
   "id": "fdb7aac8-1017-41ae-9522-f3ce18fe560d",
   "metadata": {},
   "source": [
    "### 텍스트 전처리: Tokenizer"
   ]
  },
  {
   "cell_type": "code",
   "execution_count": 6,
   "id": "de1eac82-6a23-4587-9a64-bebc99d91b4a",
   "metadata": {},
   "outputs": [],
   "source": [
    "# 전처리를 위한 변수 설정\n",
    "vocab_size = 10000 #Token화에 사용될 최대 어휘 수\n",
    "embedding_dim = 16 #embedding\n",
    "max_length = 100   #한 문장의 길이, 데이터 셋의 길이, maxlen\n",
    "trunc_type = 'post' #maxlen 보다 문장이 클 때 잘라낼 유형\n",
    "padding_type = 'post' #maxlen 보다 문장이 작을 때 잘라낼 유형\n",
    "oov_tok = \"<<OOV>>\" #단어 집합에 없는 단어(의미없는 단어) (out of vocabulary)\n",
    "training_size = 20000 #학습데이터의 갯수"
   ]
  },
  {
   "cell_type": "code",
   "execution_count": 8,
   "id": "ce328c84-a947-4862-9b76-80b3b02ded96",
   "metadata": {},
   "outputs": [],
   "source": [
    "# train(20000)/test(6709) data split\n",
    "training_sentences = sentances[:training_size]\n",
    "training_labels = labels[:training_size]\n",
    "\n",
    "testing_sentences = sentances[:training_size]\n",
    "testing_labels = labels[:training_size]"
   ]
  },
  {
   "cell_type": "code",
   "execution_count": 13,
   "id": "58c083cd-1e9a-4167-80ad-574231d0eab2",
   "metadata": {},
   "outputs": [],
   "source": [
    "# 토크나이저를 실행하여 단어를 숫자값, 인덱스로 변환하여 저장\n",
    "# 가장 빈도가 높은 10000개 단어들만 사용하여 토큰화\n",
    "tokenizer = Tokenizer(num_words=vocab_size,oov_token=oov_tok)\n",
    "\n",
    "#단어 인덱스 구축\n",
    "tokenizer.fit_on_texts(training_sentences)\n",
    "word_index=tokenizer.word_index\n",
    "#print(word_index)\n",
    "\n",
    "training_sequences = tokenizer.texts_to_sequences(training_sentences) # type은 list\n",
    "#print(training_sentences[0])\n",
    "\n",
    "# padding, vactor 표현을 얻음: 신경망에 입력할 X값\n",
    "training_padded = pad_sequences(training_sequences,maxlen=max_length,\n",
    "                                padding=padding_type,truncating=trunc_type)\n",
    "#print(training_padded[0])\n",
    "#print(training_padded.shape)\n",
    "\n",
    "testing_sequences = tokenizer.texts_to_sequences(testing_sentences)\n",
    "\n",
    "testing_padded = pad_sequences(testing_sequences,maxlen=max_length,\n",
    "                                padding=padding_type,truncating=trunc_type)"
   ]
  },
  {
   "cell_type": "code",
   "execution_count": 15,
   "id": "10e39f86-0e2c-4e59-a01d-0a9056a0f2fa",
   "metadata": {},
   "outputs": [],
   "source": [
    "# list를 array로 변환\n",
    "training_labels = np.array(training_labels)\n",
    "testing_labels = np.array(testing_labels)"
   ]
  },
  {
   "cell_type": "markdown",
   "id": "64e113ed-0fdc-4b22-a6e6-e0eeff1b7713",
   "metadata": {},
   "source": [
    "### 학습모델"
   ]
  },
  {
   "cell_type": "code",
   "execution_count": 22,
   "id": "3c9fea8d-2603-4609-96ad-6cefd6aabf48",
   "metadata": {},
   "outputs": [
    {
     "name": "stdout",
     "output_type": "stream",
     "text": [
      "Model: \"sequential_6\"\n",
      "_________________________________________________________________\n",
      " Layer (type)                Output Shape              Param #   \n",
      "=================================================================\n",
      " embedding_6 (Embedding)     (None, 100, 16)           160000    \n",
      "                                                                 \n",
      " global_average_pooling1d_4   (None, 16)               0         \n",
      " (GlobalAveragePooling1D)                                        \n",
      "                                                                 \n",
      " dense_8 (Dense)             (None, 24)                408       \n",
      "                                                                 \n",
      " dense_9 (Dense)             (None, 1)                 25        \n",
      "                                                                 \n",
      "=================================================================\n",
      "Total params: 160,433\n",
      "Trainable params: 160,433\n",
      "Non-trainable params: 0\n",
      "_________________________________________________________________\n"
     ]
    }
   ],
   "source": [
    "model = tf.keras.Sequential([\n",
    "    tf.keras.layers.Embedding(vocab_size,embedding_dim,input_length=max_length),\n",
    "    tf.keras.layers.GlobalAveragePooling1D(), # feature를 1차원 vector로 변환\n",
    "    tf.keras.layers.Dense(24,activation='relu'),\n",
    "    tf.keras.layers.Dense(1,activation='sigmoid')\n",
    "])\n",
    "\n",
    "model.compile(optimizer='adam',\n",
    "              loss='binary_crossentropy',\n",
    "              metrics=['accuracy'])\n",
    "model.summary()"
   ]
  },
  {
   "cell_type": "code",
   "execution_count": 23,
   "id": "cd1b22dd-42ec-48ad-84e3-f20d992835e1",
   "metadata": {},
   "outputs": [
    {
     "name": "stdout",
     "output_type": "stream",
     "text": [
      "Epoch 1/30\n",
      "625/625 [==============================] - 7s 8ms/step - loss: 0.6652 - accuracy: 0.5885 - val_loss: 0.5768 - val_accuracy: 0.6898\n",
      "Epoch 2/30\n",
      "625/625 [==============================] - 5s 7ms/step - loss: 0.4361 - accuracy: 0.8285 - val_loss: 0.3357 - val_accuracy: 0.8745\n",
      "Epoch 3/30\n",
      "625/625 [==============================] - 5s 7ms/step - loss: 0.3157 - accuracy: 0.8755 - val_loss: 0.2770 - val_accuracy: 0.8905\n",
      "Epoch 4/30\n",
      "625/625 [==============================] - 4s 7ms/step - loss: 0.2637 - accuracy: 0.8975 - val_loss: 0.2322 - val_accuracy: 0.9135\n",
      "Epoch 5/30\n",
      "625/625 [==============================] - 4s 7ms/step - loss: 0.2277 - accuracy: 0.9129 - val_loss: 0.2152 - val_accuracy: 0.9163\n",
      "Epoch 6/30\n",
      "625/625 [==============================] - 4s 7ms/step - loss: 0.1997 - accuracy: 0.9245 - val_loss: 0.1759 - val_accuracy: 0.9362\n",
      "Epoch 7/30\n",
      "625/625 [==============================] - 4s 7ms/step - loss: 0.1779 - accuracy: 0.9329 - val_loss: 0.1564 - val_accuracy: 0.9437\n",
      "Epoch 8/30\n",
      "625/625 [==============================] - 4s 7ms/step - loss: 0.1595 - accuracy: 0.9416 - val_loss: 0.1401 - val_accuracy: 0.9512\n",
      "Epoch 9/30\n",
      "625/625 [==============================] - 4s 7ms/step - loss: 0.1432 - accuracy: 0.9485 - val_loss: 0.1207 - val_accuracy: 0.9602\n",
      "Epoch 10/30\n",
      "625/625 [==============================] - 4s 7ms/step - loss: 0.1309 - accuracy: 0.9516 - val_loss: 0.1110 - val_accuracy: 0.9635\n",
      "Epoch 11/30\n",
      "625/625 [==============================] - 4s 7ms/step - loss: 0.1180 - accuracy: 0.9595 - val_loss: 0.1030 - val_accuracy: 0.9660\n",
      "Epoch 12/30\n",
      "625/625 [==============================] - 4s 7ms/step - loss: 0.1084 - accuracy: 0.9621 - val_loss: 0.0904 - val_accuracy: 0.9710\n",
      "Epoch 13/30\n",
      "625/625 [==============================] - 5s 7ms/step - loss: 0.0982 - accuracy: 0.9657 - val_loss: 0.0799 - val_accuracy: 0.9757\n",
      "Epoch 14/30\n",
      "625/625 [==============================] - 5s 7ms/step - loss: 0.0903 - accuracy: 0.9697 - val_loss: 0.0793 - val_accuracy: 0.9735\n",
      "Epoch 15/30\n",
      "625/625 [==============================] - 4s 7ms/step - loss: 0.0838 - accuracy: 0.9722 - val_loss: 0.0679 - val_accuracy: 0.9796\n",
      "Epoch 16/30\n",
      "625/625 [==============================] - 4s 7ms/step - loss: 0.0763 - accuracy: 0.9748 - val_loss: 0.0620 - val_accuracy: 0.9811\n",
      "Epoch 17/30\n",
      "625/625 [==============================] - 4s 7ms/step - loss: 0.0712 - accuracy: 0.9774 - val_loss: 0.0578 - val_accuracy: 0.9823\n",
      "Epoch 18/30\n",
      "625/625 [==============================] - 4s 7ms/step - loss: 0.0648 - accuracy: 0.9791 - val_loss: 0.0505 - val_accuracy: 0.9854\n",
      "Epoch 19/30\n",
      "625/625 [==============================] - 4s 7ms/step - loss: 0.0589 - accuracy: 0.9812 - val_loss: 0.0479 - val_accuracy: 0.9860\n",
      "Epoch 20/30\n",
      "625/625 [==============================] - 4s 7ms/step - loss: 0.0533 - accuracy: 0.9831 - val_loss: 0.0429 - val_accuracy: 0.9880\n",
      "Epoch 21/30\n",
      "625/625 [==============================] - 4s 7ms/step - loss: 0.0482 - accuracy: 0.9858 - val_loss: 0.0414 - val_accuracy: 0.9881\n",
      "Epoch 22/30\n",
      "625/625 [==============================] - 4s 7ms/step - loss: 0.0464 - accuracy: 0.9861 - val_loss: 0.0356 - val_accuracy: 0.9900\n",
      "Epoch 23/30\n",
      "625/625 [==============================] - 4s 7ms/step - loss: 0.0418 - accuracy: 0.9871 - val_loss: 0.0299 - val_accuracy: 0.9926\n",
      "Epoch 24/30\n",
      "625/625 [==============================] - 4s 7ms/step - loss: 0.0379 - accuracy: 0.9882 - val_loss: 0.0341 - val_accuracy: 0.9904\n",
      "Epoch 25/30\n",
      "625/625 [==============================] - 4s 7ms/step - loss: 0.0349 - accuracy: 0.9900 - val_loss: 0.0249 - val_accuracy: 0.9941\n",
      "Epoch 26/30\n",
      "625/625 [==============================] - 4s 7ms/step - loss: 0.0321 - accuracy: 0.9902 - val_loss: 0.0223 - val_accuracy: 0.9946\n",
      "Epoch 27/30\n",
      "625/625 [==============================] - 3s 4ms/step - loss: 0.0317 - accuracy: 0.9901 - val_loss: 0.0206 - val_accuracy: 0.9953\n",
      "Epoch 28/30\n",
      "625/625 [==============================] - 3s 6ms/step - loss: 0.0285 - accuracy: 0.9910 - val_loss: 0.0258 - val_accuracy: 0.9922\n",
      "Epoch 29/30\n",
      "625/625 [==============================] - 4s 7ms/step - loss: 0.0242 - accuracy: 0.9935 - val_loss: 0.0299 - val_accuracy: 0.9907\n",
      "Epoch 30/30\n",
      "625/625 [==============================] - 3s 5ms/step - loss: 0.0238 - accuracy: 0.9931 - val_loss: 0.0349 - val_accuracy: 0.9876\n"
     ]
    }
   ],
   "source": [
    "# 학습\n",
    "history = model.fit(training_padded,training_labels,epochs=30,\n",
    "                    validation_data=(testing_padded,testing_labels))"
   ]
  },
  {
   "cell_type": "code",
   "execution_count": 24,
   "id": "ef603ccb-091c-46ab-9108-286a5276e7f8",
   "metadata": {},
   "outputs": [
    {
     "data": {
      "image/png": "[encoded data removed]",
      "text/plain": [
       "<Figure size 640x480 with 1 Axes>"
      ]
     },
     "metadata": {},
     "output_type": "display_data"
    },
    {
     "data": {
      "image/png": "[encoded data removed]",
      "text/plain": [
       "<Figure size 640x480 with 1 Axes>"
      ]
     },
     "metadata": {},
     "output_type": "display_data"
    }
   ],
   "source": [
    "# 시각화\n",
    "import matplotlib.pyplot as plt\n",
    "\n",
    "def plot_graphs(history, string):\n",
    "    plt.plot(history.history[string])\n",
    "    plt.plot(history.history['val_'+string])\n",
    "    plt.xlabel(\"Epochs\")\n",
    "    plt.ylabel(string)\n",
    "    plt.legend([string, 'val_'+string])\n",
    "    plt.show()\n",
    "\n",
    "plot_graphs(history, \"accuracy\")\n",
    "plot_graphs(history, \"loss\")"
   ]
  },
  {
   "cell_type": "markdown",
   "id": "b5b3ced2-f3ac-4f03-b36c-5fd32752a2bc",
   "metadata": {},
   "source": [
    "### 모델 개선"
   ]
  },
  {
   "cell_type": "code",
   "execution_count": 32,
   "id": "e1d9438e-83e6-4669-8845-91d278a09f51",
   "metadata": {},
   "outputs": [
    {
     "name": "stdout",
     "output_type": "stream",
     "text": [
      "Model: \"sequential_13\"\n",
      "_________________________________________________________________\n",
      " Layer (type)                Output Shape              Param #   \n",
      "=================================================================\n",
      " embedding_13 (Embedding)    (None, 100, 16)           160000    \n",
      "                                                                 \n",
      " dropout_4 (Dropout)         (None, 100, 16)           0         \n",
      "                                                                 \n",
      " bidirectional_7 (Bidirectio  (None, 100, 128)         41472     \n",
      " nal)                                                            \n",
      "                                                                 \n",
      " dropout_5 (Dropout)         (None, 100, 128)          0         \n",
      "                                                                 \n",
      " bidirectional_8 (Bidirectio  (None, 64)               41216     \n",
      " nal)                                                            \n",
      "                                                                 \n",
      " dropout_6 (Dropout)         (None, 64)                0         \n",
      "                                                                 \n",
      " dense_20 (Dense)            (None, 64)                4160      \n",
      "                                                                 \n",
      " dense_21 (Dense)            (None, 1)                 65        \n",
      "                                                                 \n",
      "=================================================================\n",
      "Total params: 246,913\n",
      "Trainable params: 246,913\n",
      "Non-trainable params: 0\n",
      "_________________________________________________________________\n"
     ]
    }
   ],
   "source": [
    "# LSTM 사용 시\n",
    "model = tf.keras.Sequential([\n",
    "    tf.keras.layers.Embedding(vocab_size,embedding_dim,input_length=max_length), #희소벡터가 밀집벡터로 변환\n",
    "    tf.keras.layers.Dropout(0.2),\n",
    "    tf.keras.layers.Bidirectional(tf.keras.layers.LSTM(units=64,return_sequences=True)), #units(:N), resutn_sequences(N dimention)\n",
    "    tf.keras.layers.Dropout(0.2),\n",
    "    tf.keras.layers.Bidirectional(tf.keras.layers.LSTM(units=32,)),\n",
    "    tf.keras.layers.Dropout(0.2),\n",
    "#    tf.keras.layers.GlobalAveragePooling1D(), # feature를 1차원 vector로 변환\n",
    "    tf.keras.layers.Dense(64,activation='relu'),\n",
    "    tf.keras.layers.Dense(1,activation='sigmoid')\n",
    "])\n",
    "model.compile(optimizer='adam',\n",
    "              loss='binary_crossentropy',\n",
    "              metrics=['accuracy'])\n",
    "model.summary()"
   ]
  },
  {
   "cell_type": "code",
   "execution_count": 33,
   "id": "5aade1e9-9577-4350-b993-e95271cc8bc7",
   "metadata": {},
   "outputs": [
    {
     "name": "stdout",
     "output_type": "stream",
     "text": [
      "Epoch 1/30\n",
      "625/625 [==============================] - 54s 80ms/step - loss: 0.4164 - accuracy: 0.7958 - val_loss: 0.2149 - val_accuracy: 0.9223\n",
      "Epoch 2/30\n",
      "625/625 [==============================] - 51s 82ms/step - loss: 0.2323 - accuracy: 0.9066 - val_loss: 0.1380 - val_accuracy: 0.9570\n",
      "Epoch 3/30\n",
      "625/625 [==============================] - 45s 72ms/step - loss: 0.1613 - accuracy: 0.9379 - val_loss: 0.0922 - val_accuracy: 0.9758\n",
      "Epoch 4/30\n",
      "625/625 [==============================] - 46s 74ms/step - loss: 0.1109 - accuracy: 0.9577 - val_loss: 0.0590 - val_accuracy: 0.9837\n",
      "Epoch 5/30\n",
      "625/625 [==============================] - 47s 75ms/step - loss: 0.0852 - accuracy: 0.9690 - val_loss: 0.0555 - val_accuracy: 0.9815\n",
      "Epoch 6/30\n",
      "625/625 [==============================] - 50s 81ms/step - loss: 0.0635 - accuracy: 0.9772 - val_loss: 0.0391 - val_accuracy: 0.9889\n",
      "Epoch 7/30\n",
      "625/625 [==============================] - 44s 71ms/step - loss: 0.0552 - accuracy: 0.9798 - val_loss: 0.0278 - val_accuracy: 0.9919\n",
      "Epoch 8/30\n",
      "625/625 [==============================] - 43s 68ms/step - loss: 0.0461 - accuracy: 0.9845 - val_loss: 0.0165 - val_accuracy: 0.9955\n",
      "Epoch 9/30\n",
      "625/625 [==============================] - 50s 80ms/step - loss: 0.0454 - accuracy: 0.9825 - val_loss: 0.0238 - val_accuracy: 0.9922\n",
      "Epoch 10/30\n",
      "625/625 [==============================] - 46s 74ms/step - loss: 0.0381 - accuracy: 0.9864 - val_loss: 0.0154 - val_accuracy: 0.9951\n",
      "Epoch 11/30\n",
      "625/625 [==============================] - 51s 81ms/step - loss: 0.0320 - accuracy: 0.9883 - val_loss: 0.0109 - val_accuracy: 0.9972\n",
      "Epoch 12/30\n",
      "625/625 [==============================] - 44s 70ms/step - loss: 0.0256 - accuracy: 0.9915 - val_loss: 0.0080 - val_accuracy: 0.9977\n",
      "Epoch 13/30\n",
      "625/625 [==============================] - 50s 80ms/step - loss: 0.0238 - accuracy: 0.9915 - val_loss: 0.0057 - val_accuracy: 0.9984\n",
      "Epoch 14/30\n",
      "625/625 [==============================] - 51s 81ms/step - loss: 0.0197 - accuracy: 0.9926 - val_loss: 0.0076 - val_accuracy: 0.9973\n",
      "Epoch 15/30\n",
      "625/625 [==============================] - 50s 81ms/step - loss: 0.0193 - accuracy: 0.9933 - val_loss: 0.0031 - val_accuracy: 0.9989\n",
      "Epoch 16/30\n",
      "625/625 [==============================] - 42s 66ms/step - loss: 0.0160 - accuracy: 0.9948 - val_loss: 0.0046 - val_accuracy: 0.9990\n",
      "Epoch 17/30\n",
      "625/625 [==============================] - 53s 85ms/step - loss: 0.0177 - accuracy: 0.9941 - val_loss: 0.0042 - val_accuracy: 0.9985\n",
      "Epoch 18/30\n",
      "625/625 [==============================] - 52s 83ms/step - loss: 0.0161 - accuracy: 0.9947 - val_loss: 0.0051 - val_accuracy: 0.9983\n",
      "Epoch 19/30\n",
      "625/625 [==============================] - 51s 82ms/step - loss: 0.0139 - accuracy: 0.9948 - val_loss: 0.0050 - val_accuracy: 0.9981\n",
      "Epoch 20/30\n",
      "625/625 [==============================] - 54s 86ms/step - loss: 0.0149 - accuracy: 0.9948 - val_loss: 0.0045 - val_accuracy: 0.9986\n",
      "Epoch 21/30\n",
      "625/625 [==============================] - 51s 82ms/step - loss: 0.0128 - accuracy: 0.9952 - val_loss: 0.0033 - val_accuracy: 0.9989\n",
      "Epoch 22/30\n",
      "625/625 [==============================] - 53s 86ms/step - loss: 0.0149 - accuracy: 0.9949 - val_loss: 0.0049 - val_accuracy: 0.9986\n",
      "Epoch 23/30\n",
      "625/625 [==============================] - 43s 70ms/step - loss: 0.0101 - accuracy: 0.9962 - val_loss: 0.0027 - val_accuracy: 0.9992\n",
      "Epoch 24/30\n",
      "625/625 [==============================] - 47s 76ms/step - loss: 0.0111 - accuracy: 0.9960 - val_loss: 0.0026 - val_accuracy: 0.9993\n",
      "Epoch 25/30\n",
      "625/625 [==============================] - 46s 73ms/step - loss: 0.0101 - accuracy: 0.9966 - val_loss: 0.0018 - val_accuracy: 0.9995\n",
      "Epoch 26/30\n",
      "625/625 [==============================] - 48s 77ms/step - loss: 0.0091 - accuracy: 0.9967 - val_loss: 0.0014 - val_accuracy: 0.9995\n",
      "Epoch 27/30\n",
      "625/625 [==============================] - 45s 72ms/step - loss: 0.0106 - accuracy: 0.9966 - val_loss: 0.0018 - val_accuracy: 0.9993\n",
      "Epoch 28/30\n",
      "625/625 [==============================] - 44s 70ms/step - loss: 0.0078 - accuracy: 0.9975 - val_loss: 0.0046 - val_accuracy: 0.9979\n",
      "Epoch 29/30\n",
      "625/625 [==============================] - 44s 71ms/step - loss: 0.0085 - accuracy: 0.9973 - val_loss: 0.0014 - val_accuracy: 0.9995\n",
      "Epoch 30/30\n",
      "625/625 [==============================] - 43s 69ms/step - loss: 0.0076 - accuracy: 0.9970 - val_loss: 0.0017 - val_accuracy: 0.9993\n"
     ]
    }
   ],
   "source": [
    "# 학습\n",
    "history = model.fit(training_padded,training_labels,epochs=30,\n",
    "                    validation_data=(testing_padded,testing_labels))"
   ]
  },
  {
   "cell_type": "code",
   "execution_count": 35,
   "id": "32c9bb18-a775-4feb-ba28-6b93a0203f3c",
   "metadata": {},
   "outputs": [
    {
     "name": "stdout",
     "output_type": "stream",
     "text": [
      "mom starting to fear son's web series closest thing she will have to grandchild ? ? ? ? ? ? ? ? ? ? ? ? ? ? ? ? ? ? ? ? ? ? ? ? ? ? ? ? ? ? ? ? ? ? ? ? ? ? ? ? ? ? ? ? ? ? ? ? ? ? ? ? ? ? ? ? ? ? ? ? ? ? ? ? ? ? ? ? ? ? ? ? ? ? ? ? ? ? ? ? ? ? ? ? ? ?\n",
      "mom starting to fear son's web series closest thing she will have to grandchild\n",
      "1\n"
     ]
    }
   ],
   "source": [
    "reverse_word_index = dict([(value, key) for (key, value) in word_index.items()])\n",
    "\n",
    "def decode_sentence(text):\n",
    "    return ' '.join([reverse_word_index.get(i, '?') for i in text])\n",
    "\n",
    "print(decode_sentence(training_padded[2]))\n",
    "print(training_sentences[2])\n",
    "print(labels[2])"
   ]
  },
  {
   "cell_type": "code",
   "execution_count": 36,
   "id": "21b7e9c8-b1c8-4995-b606-562f594cd4bd",
   "metadata": {},
   "outputs": [
    {
     "name": "stdout",
     "output_type": "stream",
     "text": [
      "(10000, 16)\n"
     ]
    }
   ],
   "source": [
    "e = model.layers[0]\n",
    "weights = e.get_weights()[0]\n",
    "print(weights.shape)"
   ]
  },
  {
   "cell_type": "code",
   "execution_count": 46,
   "id": "4599af30-1007-4744-b59c-ab019c1532ef",
   "metadata": {},
   "outputs": [
    {
     "name": "stdout",
     "output_type": "stream",
     "text": [
      "1/1 [==============================] - 0s 24ms/step\n",
      "[[0.99998236]\n",
      " [0.9999999 ]]\n"
     ]
    }
   ],
   "source": [
    "# 예측\n",
    "sentence = [\"Head of Canada's spy agency announces he's stepping down from the job\",\n",
    "            \"Old Video of Joe Biden Talking About Resignation Falsely Shared as Recent\"]\n",
    "sequneces = tokenizer.texts_to_sequences(sentence)\n",
    "padded_data = pad_sequences(sequneces,maxlen=max_length,padding=padding_type,truncating=trunc_type)\n",
    "padded_data.shape\n",
    "preds = model.predict(padded_data)\n",
    "print(preds)"
   ]
  },
  {
   "cell_type": "code",
   "execution_count": 47,
   "id": "f48fec57-22f5-4ad3-acd2-5a8eee063d66",
   "metadata": {},
   "outputs": [
    {
     "name": "stdout",
     "output_type": "stream",
     "text": [
      "\n",
      "Word Index =  {'<OOV>': 1, 'my': 2, 'love': 3, 'dog': 4, 'i': 5, 'you': 6, 'cat': 7, 'do': 8, 'think': 9, 'is': 10, 'amazing': 11}\n",
      "\n",
      "Sequences =  [[5, 3, 2, 4], [5, 3, 2, 7], [6, 3, 2, 4], [8, 6, 9, 2, 4, 10, 11]]\n",
      "\n",
      "Padded Sequences:\n",
      "[[ 0  5  3  2  4]\n",
      " [ 0  5  3  2  7]\n",
      " [ 0  6  3  2  4]\n",
      " [ 9  2  4 10 11]]\n",
      "\n",
      "Test Sequence =  [[5, 1, 3, 2, 4], [2, 4, 1, 2, 1]]\n",
      "\n",
      "Padded Test Sequence: \n",
      "[[0 0 0 0 0 5 1 3 2 4]\n",
      " [0 0 0 0 0 2 4 1 2 1]]\n"
     ]
    }
   ],
   "source": [
    "import tensorflow as tf\n",
    "from tensorflow import keras\n",
    "\n",
    "\n",
    "from tensorflow.keras.preprocessing.text import Tokenizer\n",
    "from tensorflow.keras.preprocessing.sequence import pad_sequences\n",
    "\n",
    "sentences = [\n",
    "    'I love my dog',\n",
    "    'I love my cat',\n",
    "    'You love my dog!',\n",
    "    'Do you think my dog is amazing?'\n",
    "]\n",
    "\n",
    "tokenizer = Tokenizer(num_words = 100, oov_token=\"<OOV>\")\n",
    "tokenizer.fit_on_texts(sentences)\n",
    "word_index = tokenizer.word_index\n",
    "\n",
    "sequences = tokenizer.texts_to_sequences(sentences)\n",
    "\n",
    "padded = pad_sequences(sequences, maxlen=5)\n",
    "print(\"\\nWord Index = \" , word_index)\n",
    "print(\"\\nSequences = \" , sequences)\n",
    "print(\"\\nPadded Sequences:\")\n",
    "print(padded)\n",
    "\n",
    "\n",
    "# Try with words that the tokenizer wasn't fit to\n",
    "test_data = [\n",
    "    'i really love my dog',\n",
    "    'my dog loves my manatee'\n",
    "]\n",
    "\n",
    "test_seq = tokenizer.texts_to_sequences(test_data)\n",
    "print(\"\\nTest Sequence = \", test_seq)\n",
    "\n",
    "padded = pad_sequences(test_seq, maxlen=10)\n",
    "print(\"\\nPadded Test Sequence: \")\n",
    "print(padded)"
   ]
  },
  {
   "cell_type": "code",
   "execution_count": null,
   "id": "57acb1d3-537e-4e34-86df-ef77b94bfca9",
   "metadata": {},
   "outputs": [],
   "source": []
  }
 ],
 "metadata": {
  "kernelspec": {
   "display_name": "Python 3 (ipykernel)",
   "language": "python",
   "name": "python3"
  },
  "language_info": {
   "codemirror_mode": {
    "name": "ipython",
    "version": 3
   },
   "file_extension": ".py",
   "mimetype": "text/x-python",
   "name": "python",
   "nbconvert_exporter": "python",
   "pygments_lexer": "ipython3",
   "version": "3.10.14"
  }
 },
 "nbformat": 4,
 "nbformat_minor": 5
}
