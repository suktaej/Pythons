{
 "cells": [
  {
   "cell_type": "code",
   "execution_count": null,
   "id": "53f69160-d5e3-4e7b-8f45-74003ff60e59",
   "metadata": {},
   "outputs": [],
   "source": [
    "def add(a,b):\n",
    "    c=a+b\n",
    "    print('add is called')\n",
    "    return c\n",
    "\n",
    "def sub(a,b):\n",
    "    c=a-b\n",
    "    print('sub is called')\n",
    "    return c\n",
    "\n",
    "def mul(a,b):\n",
    "    c=a*b\n",
    "    print('mul is called')\n",
    "    return c\n",
    "\n",
    "def div(a,b):\n",
    "    c=a//b\n",
    "    print('div is called')\n",
    "    return c\n",
    "\n",
    "print(add(20,10))\n",
    "print(sub(20,10))\n",
    "print(mul(20,10))\n",
    "print(div(20,10))\n",
    "\n",
    "func_list = [add,sub,mul,div]\n",
    "print(func_list[0](10,20))\n",
    "print(func_list[1](10,20))\n",
    "print(func_list[2](10,20))\n",
    "print(func_list[3](10,20))\n",
    "#print(func_list)\n",
    "print()\n",
    "for k in func_list:\n",
    "    print(k(30,40))"
   ]
  },
  {
   "cell_type": "code",
   "execution_count": 9,
   "id": "9dce583b",
   "metadata": {},
   "outputs": [
    {
     "name": "stdout",
     "output_type": "stream",
     "text": [
      "(10, 5)\n",
      "(10, 5)\n"
     ]
    }
   ],
   "source": [
    "def order1(a,b):\n",
    "    return(max(a,b),min(a,b))\n",
    "\n",
    "def order2(a,b):\n",
    "    if a<b:\n",
    "        return a,b = b,a\n",
    "    \n",
    "print(order2(5,10))\n",
    "print(order2(10,5))"
   ]
  },
  {
   "cell_type": "code",
   "execution_count": 16,
   "id": "e89651d7",
   "metadata": {},
   "outputs": [
    {
     "name": "stdout",
     "output_type": "stream",
     "text": [
      "add_two is called\n",
      "func_two is called\n",
      "add_two is called\n",
      "30\n"
     ]
    }
   ],
   "source": [
    "def add_two(a,b):\n",
    "    print('add_two is called')\n",
    "    return a+b\n",
    "b=add_two\n",
    "b(10,20)\n",
    "\n",
    "def func_two(func,a,b):\n",
    "    print('func_two is called')\n",
    "    result = func(a,b)\n",
    "    return result\n",
    "\n",
    "result = func_two(add_two,10,20)\n",
    "print(result)"
   ]
  },
  {
   "cell_type": "code",
   "execution_count": 21,
   "id": "e343b4cc",
   "metadata": {},
   "outputs": [
    {
     "name": "stdout",
     "output_type": "stream",
     "text": [
      "foo2\n"
     ]
    }
   ],
   "source": [
    "def foo2():\n",
    "    print(\"foo2\")\n",
    "    def bar2():\n",
    "        print(\"bar2\")\n",
    "    return bar2\n",
    "\n",
    "ret = foo2()"
   ]
  },
  {
   "cell_type": "code",
   "execution_count": 25,
   "id": "d521cbd8",
   "metadata": {},
   "outputs": [
    {
     "name": "stdout",
     "output_type": "stream",
     "text": [
      "30\n"
     ]
    }
   ],
   "source": [
    "def add(a,b):\n",
    "    return a+b\n",
    "\n",
    "add_new = lambda a,b:a+b\n",
    "print(add_new(10,20))"
   ]
  },
  {
   "cell_type": "code",
   "execution_count": 29,
   "id": "67f5f8ac",
   "metadata": {},
   "outputs": [
    {
     "name": "stdout",
     "output_type": "stream",
     "text": [
      "[2, 5, 10, 17]\n",
      "[3, 5, 7, 9]\n",
      "[2, 5, 10, 17]\n"
     ]
    }
   ],
   "source": [
    "def f1(x):\n",
    "    return x*x +1\n",
    "\n",
    "def f2(x):\n",
    "    return 2*x +1\n",
    "\n",
    "def g(func):\n",
    "    return [func(x) for x in range(1,5)]\n",
    "\n",
    "print(g(f1))\n",
    "print(g(f2))\n",
    "\n",
    "print(g(lambda x:x*x+1))"
   ]
  },
  {
   "cell_type": "code",
   "execution_count": 15,
   "id": "660cd799",
   "metadata": {},
   "outputs": [
    {
     "name": "stdout",
     "output_type": "stream",
     "text": [
      "<class 'map'>\n"
     ]
    }
   ],
   "source": [
    "# map()함수\n",
    "def multi_two(x):\n",
    "    print('multi_two is called!!')\n",
    "    return x*2\n",
    "ret = map(multi_two, [1,2,3,4,5,6])   # map객체를 생성 \n",
    "print(type(ret))                      # <class 'map'>\n",
    "#print(list(ret))  # list로 형 변환 , map객체로 데이터 접근시에 함수가 실제 호출됨"
   ]
  },
  {
   "cell_type": "code",
   "execution_count": 16,
   "id": "478144dc-99df-408a-98c2-e11488c5593f",
   "metadata": {},
   "outputs": [
    {
     "name": "stdout",
     "output_type": "stream",
     "text": [
      "multi_two is called!!\n"
     ]
    },
    {
     "data": {
      "text/plain": [
       "2"
      ]
     },
     "execution_count": 16,
     "metadata": {},
     "output_type": "execute_result"
    }
   ],
   "source": [
    "next(ret)"
   ]
  },
  {
   "cell_type": "code",
   "execution_count": 9,
   "id": "a08a3b13-d577-4471-9893-ee8603f28377",
   "metadata": {},
   "outputs": [
    {
     "name": "stdout",
     "output_type": "stream",
     "text": [
      "[2, 4, 6, 8, 10, 12]\n"
     ]
    }
   ],
   "source": [
    "ret = map(lambda x:x*2,[1,2,3,4,5,6])\n",
    "print(list(ret))"
   ]
  },
  {
   "cell_type": "code",
   "execution_count": null,
   "id": "0d320fb7-4873-4157-817d-7b71833d62fe",
   "metadata": {},
   "outputs": [],
   "source": []
  }
 ],
 "metadata": {
  "kernelspec": {
   "display_name": "Python 3 (ipykernel)",
   "language": "python",
   "name": "python3"
  },
  "language_info": {
   "codemirror_mode": {
    "name": "ipython",
    "version": 3
   },
   "file_extension": ".py",
   "mimetype": "text/x-python",
   "name": "python",
   "nbconvert_exporter": "python",
   "pygments_lexer": "ipython3",
   "version": "3.11.9"
  }
 },
 "nbformat": 4,
 "nbformat_minor": 5
}
