{
 "cells": [
  {
   "cell_type": "code",
   "execution_count": null,
   "id": "6d2cda8b-1914-451b-96a2-edbdcad95b05",
   "metadata": {},
   "outputs": [],
   "source": [
    "import sys\n",
    "sys.version"
   ]
  },
  {
   "cell_type": "code",
   "execution_count": 11,
   "id": "fda55f97-25eb-40c5-b921-b9c27009ba77",
   "metadata": {},
   "outputs": [
    {
     "name": "stdout",
     "output_type": "stream",
     "text": [
      "0x79ef60300490\n",
      "0x79ef60300850\n",
      "0x79ef60300850\n",
      "0x79ef60300490\n",
      "<class 'int'>\n",
      "0x79ef60300490\n"
     ]
    }
   ],
   "source": [
    "a=30 #instance of int class\n",
    "print(hex(id(a)))\n",
    "b=60 # b=int(60)\n",
    "print(hex(id(b)))\n",
    "a=b\n",
    "print(hex(id(a)))\n",
    "a=30\n",
    "print(hex(id(a)))\n",
    "print(type(a))\n",
    "c=30\n",
    "del a\n",
    "print(hex(id(c)))"
   ]
  },
  {
   "cell_type": "code",
   "execution_count": 3,
   "id": "7ab557d4-6bbc-40c7-a6d5-e59350e04f65",
   "metadata": {},
   "outputs": [
    {
     "name": "stdout",
     "output_type": "stream",
     "text": [
      "1 2 3:4:5\n"
     ]
    },
    {
     "data": {
      "text/plain": [
       "'1 2 3\\n'"
      ]
     },
     "execution_count": 3,
     "metadata": {},
     "output_type": "execute_result"
    }
   ],
   "source": [
    "print(1,2,end=' ');print(3,4,5,sep=':')\n",
    "f=open('out.txt','w'); print(1,2,3, file=f)\n",
    "f.close(); open('out.txt').read()"
   ]
  },
  {
   "cell_type": "code",
   "execution_count": 14,
   "id": "a19a170d-9a76-47f6-bbb1-beeed68e0519",
   "metadata": {},
   "outputs": [
    {
     "name": "stdout",
     "output_type": "stream",
     "text": [
      "     1.234\n",
      "apple 7.77\n",
      "apple      7.77\n",
      "====hi====\n"
     ]
    }
   ],
   "source": [
    "print(format(1.2345,\"10.3f\"))\n",
    "print('{0} {1}'.format('apple',7.77))\n",
    "print('{0:<10}{1:5.2f}'.format('apple',7.77))\n",
    "print('{0:=^10}'.format('hi'))"
   ]
  },
  {
   "cell_type": "code",
   "execution_count": 19,
   "id": "6ebb744b-c3e2-4a67-b71d-37fc4da8d3e6",
   "metadata": {},
   "outputs": [
    {
     "name": "stdout",
     "output_type": "stream",
     "text": [
      "[[1, 2, 3], [4, 5], [6, 7, 8, 9]]\n",
      "[1, 2, 3] [4, 5] [6, 7, 8, 9]\n",
      "[1, 2, 3]\n",
      "[4, 5]\n",
      "[6, 7, 8, 9]\n",
      "[   [1, 2, 3],\n",
      "    [4, 5],\n",
      "    [6, 7, 8, 9]]\n"
     ]
    }
   ],
   "source": [
    "import pprint\n",
    "numbers=[[1,2,3],[4,5],[6,7,8,9]]\n",
    "print(numbers)\n",
    "print(*numbers)\n",
    "print(*numbers, sep='\\n')\n",
    "pprint.pprint(numbers,width=20,indent=4)"
   ]
  },
  {
   "cell_type": "code",
   "execution_count": 20,
   "id": "3995b698-4767-4a8d-8437-3f8e8825563b",
   "metadata": {},
   "outputs": [
    {
     "data": {
      "text/plain": [
       "3"
      ]
     },
     "execution_count": 20,
     "metadata": {},
     "output_type": "execute_result"
    }
   ],
   "source": [
    "import sys\n",
    "a=10234\n",
    "sys.getrefcount(a)"
   ]
  },
  {
   "cell_type": "code",
   "execution_count": 26,
   "id": "ce947910-df78-4dc0-ac30-83bea0c4d850",
   "metadata": {},
   "outputs": [
    {
     "name": "stdout",
     "output_type": "stream",
     "text": [
      "b'ytho'\n",
      "True\n",
      "True\n",
      "False\n",
      "<class 'str'>\n",
      "<class 'bytes'>\n"
     ]
    }
   ],
   "source": [
    "bt = b'Python rules'\n",
    "print(bt[1:5])\n",
    "print(b'th' in bt)\n",
    "print(bt.startswith(b'Py'))\n",
    "print(bt.endswith(b'ld'))\n",
    "be = bt.decode()\n",
    "print(type(be))\n",
    "bd = be.encode()\n",
    "print(type(bd))"
   ]
  },
  {
   "cell_type": "code",
   "execution_count": 29,
   "id": "19ee90e7-04cd-4d52-832e-9187a61fdffa",
   "metadata": {},
   "outputs": [
    {
     "name": "stdout",
     "output_type": "stream",
     "text": [
      "<class 'bytearray'>\n"
     ]
    },
    {
     "data": {
      "text/plain": [
       "bytearray(b'Python Rules')"
      ]
     },
     "execution_count": 29,
     "metadata": {},
     "output_type": "execute_result"
    }
   ],
   "source": [
    "bt = b'Python rules'\n",
    "ba = bytearray(bt)\n",
    "print(type(ba))\n",
    "ba[7]=ord('R')"
   ]
  },
  {
   "cell_type": "code",
   "execution_count": 32,
   "id": "f53d517c-f730-4d28-9fef-7dd73be1be80",
   "metadata": {},
   "outputs": [
    {
     "name": "stdout",
     "output_type": "stream",
     "text": [
      " 23 any_value 2.35\n",
      " 23 any_value 2.35\n"
     ]
    }
   ],
   "source": [
    "int_val=23; float_val=2.3456\n",
    "print(\"%3d %s %0.2f\" %(int_val,'any_value',float_val))\n",
    "print(format(int_val,'3d'),'any_value',format(float_val,'.2f'))"
   ]
  },
  {
   "cell_type": "code",
   "execution_count": 36,
   "id": "1344afea-833d-49b2-9d81-a5cd54e13e81",
   "metadata": {},
   "outputs": [
    {
     "name": "stdout",
     "output_type": "stream",
     "text": [
      "[6, 8, 10]\n",
      "[6, 9]\n"
     ]
    }
   ],
   "source": [
    "# list comprehension\n",
    "a=[k for k in range(0,11,2) if k>4]\n",
    "print(a)\n",
    "b=[k for k in range(0,10) if (k%3==0) and (k>4)]\n",
    "print(b)"
   ]
  },
  {
   "cell_type": "code",
   "execution_count": 41,
   "id": "eee62bfd-63b9-48d7-abf9-4b51888819df",
   "metadata": {},
   "outputs": [
    {
     "name": "stdout",
     "output_type": "stream",
     "text": [
      "1 [2, 3, 4, 5]\n"
     ]
    }
   ],
   "source": [
    "# packing\n",
    "t = 1, 2, 'hello' #tuple\n",
    "# unpacking\n",
    "x,y,z = t #int, int, str\n",
    "# unpacking\n",
    "a,b,c = 10,20,'python'\n",
    "#expended unpacking\n",
    "tt=(1,2,3,4,5)\n",
    "a,*b=tt\n",
    "print(a,b)"
   ]
  },
  {
   "cell_type": "code",
   "execution_count": 47,
   "id": "3862dbf8-4401-4688-a032-c8d32020a4d8",
   "metadata": {},
   "outputs": [
    {
     "name": "stdout",
     "output_type": "stream",
     "text": [
      "<class '__main__.Point'>\n",
      "Point\n",
      "Point(x=1.0, y=5.0) Point(x=2.5, y=1.5)\n"
     ]
    },
    {
     "data": {
      "text/plain": [
       "3.8078865529319543"
      ]
     },
     "execution_count": 47,
     "metadata": {},
     "output_type": "execute_result"
    }
   ],
   "source": [
    "#named tuple\n",
    "from collections import namedtuple\n",
    "Point = namedtuple('Point','x,y')\n",
    "print(Point)\n",
    "print(Point.__name__)\n",
    "pt1=Point(1.0,5.0)\n",
    "pt2=Point(2.5,1.5)\n",
    "print(pt1,pt2)\n",
    "\n",
    "from math import sqrt\n",
    "le = sqrt((pt1.x-pt2.x)**2 + (pt1.y-pt2.y)**2)\n",
    "le"
   ]
  },
  {
   "cell_type": "code",
   "execution_count": 61,
   "id": "5f38338d-5a07-42a1-bd59-cdc4792a9fd6",
   "metadata": {},
   "outputs": [
    {
     "name": "stdout",
     "output_type": "stream",
     "text": [
      "<class 'set'>\n",
      "{1, 2, 3, 4}\n",
      "{1, 2, 3, 4, 5, 6}\n",
      "{1, 2, 3, 4, 5, 6, 7, 8}\n",
      "{1, 2, 3}\n",
      "{1, 2, 3, 4, 5, 6, 7, 8, 9}\n",
      "\n",
      "{1, 2, 4, 5, 6, 7, 8, 9}\n",
      "{1, 2, 5, 6, 7, 8, 9}\n",
      "{5, 6, 7, 8, 9}\n"
     ]
    }
   ],
   "source": [
    "#set\n",
    "a={1,2,3}\n",
    "print(type(a))\n",
    "a.add(4)\n",
    "print(a)\n",
    "a.update([4,5,6])\n",
    "print(a)\n",
    "b={6,7,8}\n",
    "a.update(b)\n",
    "print(a)\n",
    "a={1,2,3}\n",
    "print(a)\n",
    "a.update({4,5,6},{7,8,9})\n",
    "print(a)\n",
    "print()\n",
    "a.discard(3)\n",
    "a.discard(3)\n",
    "print(a)\n",
    "a.remove(4)\n",
    "#a.remove(4)\n",
    "print(a)\n",
    "a.pop()\n",
    "a.pop()\n",
    "print(a)\n",
    "c=[1,2,3]\n",
    "d=[4,5,6]\n",
    "#{a,b} #unhashable"
   ]
  },
  {
   "cell_type": "code",
   "execution_count": 64,
   "id": "42343e26-3dc6-4667-b178-ebce73fd6dca",
   "metadata": {},
   "outputs": [
    {
     "name": "stdout",
     "output_type": "stream",
     "text": [
      "{'a': 97, 'b': 98, 'c': 99, 'd': 100, 'e': 101, 'f': 102, 'g': 103}\n"
     ]
    }
   ],
   "source": [
    "#dict comprehension\n",
    "a = {k:ord(k) for k in 'abcdefg'}\n",
    "print(a)"
   ]
  },
  {
   "cell_type": "code",
   "execution_count": 69,
   "id": "c70c9f02-9fa0-420c-9bd1-2ab1771d3c5c",
   "metadata": {},
   "outputs": [
    {
     "name": "stdout",
     "output_type": "stream",
     "text": [
      "{'__module__': '__main__', 'x': 10, 'y': 20, '__dict__': <attribute '__dict__' of 'C' objects>, '__weakref__': <attribute '__weakref__' of 'C' objects>, '__doc__': None}\n",
      "{'a': 100, 'b': 200}\n"
     ]
    },
    {
     "data": {
      "text/plain": [
       "{'a': 1, 'b': 2}"
      ]
     },
     "execution_count": 69,
     "metadata": {},
     "output_type": "execute_result"
    }
   ],
   "source": [
    "#Symbol table\n",
    "import re\n",
    "re.__dict__\n",
    "class C:\n",
    "    x=10\n",
    "    y=20\n",
    "print(C.__dict__)\n",
    "c=C()\n",
    "c.a=100\n",
    "c.b=200\n",
    "print(c.__dict__)\n",
    "def f():\n",
    "    pass\n",
    "f.a=1;f.b=2;f.__dict__"
   ]
  },
  {
   "cell_type": "code",
   "execution_count": 72,
   "id": "7bd784f3-10c4-4b47-bb3b-c5d55f8dfbb5",
   "metadata": {},
   "outputs": [
    {
     "data": {
      "text/plain": [
       "<function math.sin(x, /)>"
      ]
     },
     "execution_count": 72,
     "metadata": {},
     "output_type": "execute_result"
    }
   ],
   "source": [
    "import math\n",
    "math.sin\n",
    "math.__dict__['sin']\n",
    "getattr(math,'sin')"
   ]
  }
 ],
 "metadata": {
  "kernelspec": {
   "display_name": "Python 3 (ipykernel)",
   "language": "python",
   "name": "python3"
  },
  "language_info": {
   "codemirror_mode": {
    "name": "ipython",
    "version": 3
   },
   "file_extension": ".py",
   "mimetype": "text/x-python",
   "name": "python",
   "nbconvert_exporter": "python",
   "pygments_lexer": "ipython3",
   "version": "3.10.12"
  }
 },
 "nbformat": 4,
 "nbformat_minor": 5
}
