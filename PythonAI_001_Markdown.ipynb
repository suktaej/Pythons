{
  "nbformat": 4,
  "nbformat_minor": 0,
  "metadata": {
    "colab": {
      "provenance": [],
      "mount_file_id": "1_8B_V6Vz6Cv3a-jgef4nr_wULhAAJxB3",
      "authorship_tag": "ABX9TyPB14AC0Uqdot03l1Rsru7h",
      "include_colab_link": true
    },
    "kernelspec": {
      "name": "python3",
      "display_name": "Python 3"
    },
    "language_info": {
      "name": "python"
    }
  },
  "cells": [
    {
      "cell_type": "markdown",
      "metadata": {
        "id": "view-in-github",
        "colab_type": "text"
      },
      "source": [
        "<a href=\"https://colab.research.google.com/github/suktaej/Pythons/blob/main/PythonAI_001_Markdown.ipynb\" target=\"_parent\"><img src=\"https://colab.research.google.com/assets/colab-badge.svg\" alt=\"Open In Colab\"/></a>"
      ]
    },
    {
      "cell_type": "markdown",
      "source": [
        "#Markdown"
      ],
      "metadata": {
        "id": "f88E9I4U8-Ly"
      }
    },
    {
      "cell_type": "markdown",
      "source": [
        "- markdown is text to HTML\n",
        "- jupyter notebook, colab\n",
        "- github, notion etc..."
      ],
      "metadata": {
        "id": "kv0Se2O__xNN"
      }
    },
    {
      "cell_type": "markdown",
      "source": [
        "##2.Heading"
      ],
      "metadata": {
        "id": "H3iMC8tGGmkU"
      }
    },
    {
      "cell_type": "markdown",
      "source": [
        "# title1\n",
        "## title2\n",
        "### title3\n",
        "#### title4\n",
        "##### title5"
      ],
      "metadata": {
        "id": "RoTLIFQtGpq3"
      }
    },
    {
      "cell_type": "markdown",
      "source": [
        "##3.Index"
      ],
      "metadata": {
        "id": "OFPoUgqVGxoS"
      }
    },
    {
      "cell_type": "markdown",
      "source": [
        "- no order index"
      ],
      "metadata": {
        "id": "bxsJQeDsG3r6"
      }
    },
    {
      "cell_type": "markdown",
      "source": [
        "- order1\n",
        "    - order1-2\n",
        "        - order1-3\n",
        "            - order1-4"
      ],
      "metadata": {
        "id": "dibwfWwYG7O7"
      }
    },
    {
      "cell_type": "markdown",
      "source": [
        "1. order1\n",
        "2. order2\n",
        "3. order3\n",
        "    1. order3-1\n",
        "    2. order3-2"
      ],
      "metadata": {
        "id": "ZXlvN7ywHSru"
      }
    },
    {
      "cell_type": "markdown",
      "source": [
        "_Itelic_"
      ],
      "metadata": {
        "id": "DvfT8MBeIGVS"
      }
    },
    {
      "cell_type": "markdown",
      "source": [
        "__bold__"
      ],
      "metadata": {
        "id": "0AOg-JNdIPNE"
      }
    },
    {
      "cell_type": "markdown",
      "source": [
        "[Naver](http://www.naver.com)"
      ],
      "metadata": {
        "id": "PNEZCoRiIR6y"
      }
    },
    {
      "cell_type": "markdown",
      "source": [
        "<https://www.naver.com>"
      ],
      "metadata": {
        "id": "0Ybxfq4vIhcI"
      }
    },
    {
      "cell_type": "markdown",
      "source": [
        "![Image](https://static.us-east-1.prod.workshops.aws/public/ff1c970f-c952-441b-a93c-737f3753d40a/static/images/intro/catsdogs.svg)"
      ],
      "metadata": {
        "id": "k-TFZcl2Imt9"
      }
    },
    {
      "cell_type": "markdown",
      "source": [
        "##7.Code Block"
      ],
      "metadata": {
        "id": "zx47PETAJGso"
      }
    },
    {
      "cell_type": "markdown",
      "source": [
        "- Eng state\n",
        "- (`) backtick\n",
        "- use 1 or 3 backtick"
      ],
      "metadata": {
        "id": "dMuEbbC9JISE"
      }
    },
    {
      "cell_type": "markdown",
      "source": [
        "`print('Markdown text')`"
      ],
      "metadata": {
        "id": "6nEJ99BlJU_9"
      }
    },
    {
      "cell_type": "markdown",
      "source": [
        "```\n",
        "print('hi')\n",
        "```"
      ],
      "metadata": {
        "id": "JEc8CCYrJf_v"
      }
    },
    {
      "cell_type": "markdown",
      "source": [
        "#8.Blockquotes"
      ],
      "metadata": {
        "id": "H95dD0FEJj3e"
      }
    },
    {
      "cell_type": "markdown",
      "source": [
        "> AI services\n",
        ">> Prject"
      ],
      "metadata": {
        "id": "u6LehInEJ28a"
      }
    },
    {
      "cell_type": "markdown",
      "source": [
        "> #### Mixed text\n",
        "> - data analyse"
      ],
      "metadata": {
        "id": "Z-_KvO-VKEFh"
      }
    },
    {
      "cell_type": "markdown",
      "source": [
        "#9.Horizon"
      ],
      "metadata": {
        "id": "4S5nUpSpKTUV"
      }
    },
    {
      "cell_type": "markdown",
      "source": [
        "---"
      ],
      "metadata": {
        "id": "5qBtE5rCKWjM"
      }
    },
    {
      "cell_type": "markdown",
      "source": [
        "#10.Highlight"
      ],
      "metadata": {
        "id": "FiUVRaSKKYF8"
      }
    },
    {
      "cell_type": "markdown",
      "source": [
        "<mark>highlight text</mark>"
      ],
      "metadata": {
        "id": "4cfTClH1KmcE"
      }
    },
    {
      "cell_type": "markdown",
      "source": [
        "#11.Task Lists"
      ],
      "metadata": {
        "id": "Ilcewa8nKwZi"
      }
    },
    {
      "cell_type": "markdown",
      "source": [
        "- [ ] Todo list A\n",
        "- [X] Todo list B"
      ],
      "metadata": {
        "id": "Nqz_2bHnKzSw"
      }
    },
    {
      "cell_type": "markdown",
      "source": [
        "#12.Table"
      ],
      "metadata": {
        "id": "l_AblUaILGwa"
      }
    },
    {
      "cell_type": "markdown",
      "source": [
        "- first row is header\n",
        "- second row is represent column\n",
        "    - use '-' div\n",
        "- thirdd row input cell"
      ],
      "metadata": {
        "id": "ZuXGl3GcLIcU"
      }
    },
    {
      "cell_type": "markdown",
      "source": [
        "|header1|header2|header3|\n",
        "|---|---|---|\n",
        "|text1|text2|text3|"
      ],
      "metadata": {
        "id": "OvgwYNOuLjbS"
      }
    },
    {
      "cell_type": "markdown",
      "source": [
        "|left align|center align|right align|\n",
        "|:---|:---:|---:|\n",
        "|text1   |text2   |text3   |"
      ],
      "metadata": {
        "id": "5Vo8efgnLuaH"
      }
    },
    {
      "cell_type": "markdown",
      "source": [
        "#13.Strikethrough"
      ],
      "metadata": {
        "id": "xoIPnpyZMiLa"
      }
    },
    {
      "cell_type": "markdown",
      "source": [
        "~Strikethrough~"
      ],
      "metadata": {
        "id": "p8xMXp49MqRh"
      }
    },
    {
      "cell_type": "code",
      "source": [
        "!git add ."
      ],
      "metadata": {
        "id": "on_DjpoBjrCT"
      },
      "execution_count": null,
      "outputs": []
    },
    {
      "cell_type": "code",
      "source": [
        "!git commit -m \"first commit\""
      ],
      "metadata": {
        "colab": {
          "base_uri": "https://localhost:8080/"
        },
        "id": "n4xpFRo6js1M",
        "outputId": "081044f1-8657-43e3-f8dc-453c5dd0b07a"
      },
      "execution_count": null,
      "outputs": [
        {
          "output_type": "stream",
          "name": "stdout",
          "text": [
            "[main b87e12c] first commit\n",
            " 1 file changed, 1 insertion(+), 1 deletion(-)\n",
            " rewrite PythonAI_001_Markdown.ipynb (64%)\n"
          ]
        }
      ]
    },
    {
      "cell_type": "code",
      "source": [
        "!git push origin main"
      ],
      "metadata": {
        "colab": {
          "base_uri": "https://localhost:8080/"
        },
        "id": "YLyKMhsqjv-v",
        "outputId": "29c3a563-60aa-416e-d5f3-eb521ca53139"
      },
      "execution_count": null,
      "outputs": [
        {
          "output_type": "stream",
          "name": "stdout",
          "text": [
            "Enumerating objects: 36, done.\n",
            "Counting objects:   2% (1/36)\rCounting objects:   5% (2/36)\rCounting objects:   8% (3/36)\rCounting objects:  11% (4/36)\rCounting objects:  13% (5/36)\rCounting objects:  16% (6/36)\rCounting objects:  19% (7/36)\rCounting objects:  22% (8/36)\rCounting objects:  25% (9/36)\rCounting objects:  27% (10/36)\rCounting objects:  30% (11/36)\rCounting objects:  33% (12/36)\rCounting objects:  36% (13/36)\rCounting objects:  38% (14/36)\rCounting objects:  41% (15/36)\rCounting objects:  44% (16/36)\rCounting objects:  47% (17/36)\rCounting objects:  50% (18/36)\rCounting objects:  52% (19/36)\rCounting objects:  55% (20/36)\rCounting objects:  58% (21/36)\rCounting objects:  61% (22/36)\rCounting objects:  63% (23/36)\rCounting objects:  66% (24/36)\rCounting objects:  69% (25/36)\rCounting objects:  72% (26/36)\rCounting objects:  75% (27/36)\rCounting objects:  77% (28/36)\rCounting objects:  80% (29/36)\rCounting objects:  83% (30/36)\rCounting objects:  86% (31/36)\rCounting objects:  88% (32/36)\rCounting objects:  91% (33/36)\rCounting objects:  94% (34/36)\rCounting objects:  97% (35/36)\rCounting objects: 100% (36/36)\rCounting objects: 100% (36/36), done.\n",
            "Delta compression using up to 2 threads\n",
            "Compressing objects: 100% (35/35), done.\n",
            "Writing objects: 100% (35/35), 358.74 KiB | 3.29 MiB/s, done.\n",
            "Total 35 (delta 14), reused 0 (delta 0), pack-reused 0\n",
            "remote: Resolving deltas: 100% (14/14), done.\u001b[K\n",
            "remote: \u001b[1;31merror\u001b[m: GH013: Repository rule violations found for refs/heads/main.\u001b[K\n",
            "remote: \n",
            "remote: - GITHUB PUSH PROTECTION\u001b[K\n",
            "remote:   —————————————————————————————————————————\u001b[K\n",
            "remote:     Resolve the following violations before pushing again\u001b[K\n",
            "remote: \n",
            "remote:     - Push cannot contain secrets\u001b[K\n",
            "remote: \n",
            "remote:     \u001b[K\n",
            "remote:      (?) Learn how to resolve a blocked push\u001b[K\n",
            "remote:      https://docs.github.com/code-security/secret-scanning/pushing-a-branch-blocked-by-push-protection\u001b[K\n",
            "remote:     \u001b[K\n",
            "remote:     \u001b[K\n",
            "remote:       —— GitHub Personal Access Token ——————————————————————\u001b[K\n",
            "remote:        locations:\u001b[K\n",
            "remote:          - commit: c44badd1a4c394e0eee585f7614ebd889d411b73\u001b[K\n",
            "remote:            path: PythonAI_001_Markdown.ipynb:1\u001b[K\n",
            "remote:          - commit: 7fa801312ab746c59b84ca5fc9631f414705979e\u001b[K\n",
            "remote:            path: PythonAI_001_Markdown.ipynb:1\u001b[K\n",
            "remote:          - commit: 7d4526aa052c878d910fee2ae7783376734baf97\u001b[K\n",
            "remote:            path: PythonAI_001_Markdown.ipynb:1\u001b[K\n",
            "remote:          - commit: 5584ee37d23c83c9929326d426f616a52baa6270\u001b[K\n",
            "remote:            path: PythonAI_001_Markdown.ipynb:1\u001b[K\n",
            "remote:          - commit: 3d2ef66dfaace38fcf6534c33e0b78b2fa41c7bf\u001b[K\n",
            "remote:            path: PythonAI_001_Markdown.ipynb:1\u001b[K\n",
            "remote:     \u001b[K\n",
            "remote:        (?) To push, remove secret from commit(s) or follow this URL to allow the secret.\u001b[K\n",
            "remote:        https://github.com/suktaej/Pythons/security/secret-scanning/unblock-secret/2iDHNSCpSq90bqyvfLf55B7kPjX\u001b[K\n",
            "remote:     \u001b[K\n",
            "remote: \n",
            "remote: \n",
            "To https://github.com/suktaej/Pythons.git\n",
            " \u001b[31m! [remote rejected]\u001b[m main -> main (push declined due to repository rule violations)\n",
            "\u001b[31merror: failed to push some refs to 'https://github.com/suktaej/Pythons.git'\n",
            "\u001b[m"
          ]
        }
      ]
    },
    {
      "cell_type": "code",
      "source": [],
      "metadata": {
        "id": "ziIoEIKejzcA"
      },
      "execution_count": null,
      "outputs": []
    }
  ]
}