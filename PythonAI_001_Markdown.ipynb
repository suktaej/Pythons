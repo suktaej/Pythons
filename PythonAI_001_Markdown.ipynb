{
  "cells": [
    {
      "cell_type": "markdown",
      "metadata": {
        "colab_type": "text",
        "id": "view-in-github"
      },
      "source": [
        "<a href=\"https://colab.research.google.com/github/suktaej/Pythons/blob/main/PythonAI_001_Markdown.ipynb\" target=\"_parent\"><img src=\"https://colab.research.google.com/assets/colab-badge.svg\" alt=\"Open In Colab\"/></a>"
      ]
    },
    {
      "cell_type": "markdown",
      "metadata": {
        "id": "f88E9I4U8-Ly"
      },
      "source": [
        "#Markdown"
      ]
    },
    {
      "cell_type": "markdown",
      "metadata": {
        "id": "kv0Se2O__xNN"
      },
      "source": [
        "- markdown is text to HTML\n",
        "- jupyter notebook, colab\n",
        "- github, notion etc..."
      ]
    },
    {
      "cell_type": "markdown",
      "metadata": {
        "id": "H3iMC8tGGmkU"
      },
      "source": [
        "##2.Heading"
      ]
    },
    {
      "cell_type": "markdown",
      "metadata": {
        "id": "RoTLIFQtGpq3"
      },
      "source": [
        "# title1\n",
        "## title2\n",
        "### title3\n",
        "#### title4\n",
        "##### title5"
      ]
    },
    {
      "cell_type": "markdown",
      "metadata": {
        "id": "OFPoUgqVGxoS"
      },
      "source": [
        "##3.Index"
      ]
    },
    {
      "cell_type": "markdown",
      "metadata": {
        "id": "bxsJQeDsG3r6"
      },
      "source": [
        "- no order index"
      ]
    },
    {
      "cell_type": "markdown",
      "metadata": {
        "id": "dibwfWwYG7O7"
      },
      "source": [
        "- order1\n",
        "    - order1-2\n",
        "        - order1-3\n",
        "            - order1-4"
      ]
    },
    {
      "cell_type": "markdown",
      "metadata": {
        "id": "ZXlvN7ywHSru"
      },
      "source": [
        "1. order1\n",
        "2. order2\n",
        "3. order3\n",
        "    1. order3-1\n",
        "    2. order3-2"
      ]
    },
    {
      "cell_type": "markdown",
      "metadata": {
        "id": "DvfT8MBeIGVS"
      },
      "source": [
        "_Itelic_"
      ]
    },
    {
      "cell_type": "markdown",
      "metadata": {
        "id": "0AOg-JNdIPNE"
      },
      "source": [
        "__bold__"
      ]
    },
    {
      "cell_type": "markdown",
      "metadata": {
        "id": "PNEZCoRiIR6y"
      },
      "source": [
        "[Naver](http://www.naver.com)"
      ]
    },
    {
      "cell_type": "markdown",
      "metadata": {
        "id": "0Ybxfq4vIhcI"
      },
      "source": [
        "<https://www.naver.com>"
      ]
    },
    {
      "cell_type": "markdown",
      "metadata": {
        "id": "k-TFZcl2Imt9"
      },
      "source": [
        "![Image](https://static.us-east-1.prod.workshops.aws/public/ff1c970f-c952-441b-a93c-737f3753d40a/static/images/intro/catsdogs.svg)"
      ]
    },
    {
      "cell_type": "markdown",
      "metadata": {
        "id": "zx47PETAJGso"
      },
      "source": [
        "##7.Code Block"
      ]
    },
    {
      "cell_type": "markdown",
      "metadata": {
        "id": "dMuEbbC9JISE"
      },
      "source": [
        "- Eng state\n",
        "- (`) backtick\n",
        "- use 1 or 3 backtick"
      ]
    },
    {
      "cell_type": "markdown",
      "metadata": {
        "id": "6nEJ99BlJU_9"
      },
      "source": [
        "`print('Markdown text')`"
      ]
    },
    {
      "cell_type": "markdown",
      "metadata": {
        "id": "JEc8CCYrJf_v"
      },
      "source": [
        "```\n",
        "print('hi')\n",
        "```"
      ]
    },
    {
      "cell_type": "markdown",
      "metadata": {
        "id": "H95dD0FEJj3e"
      },
      "source": [
        "#8.Blockquotes"
      ]
    },
    {
      "cell_type": "markdown",
      "metadata": {
        "id": "u6LehInEJ28a"
      },
      "source": [
        "> AI services\n",
        ">> Prject"
      ]
    },
    {
      "cell_type": "markdown",
      "metadata": {
        "id": "Z-_KvO-VKEFh"
      },
      "source": [
        "> #### Mixed text\n",
        "> - data analyse"
      ]
    },
    {
      "cell_type": "markdown",
      "metadata": {
        "id": "4S5nUpSpKTUV"
      },
      "source": [
        "#9.Horizon"
      ]
    },
    {
      "cell_type": "markdown",
      "metadata": {
        "id": "5qBtE5rCKWjM"
      },
      "source": [
        "---"
      ]
    },
    {
      "cell_type": "markdown",
      "metadata": {
        "id": "FiUVRaSKKYF8"
      },
      "source": [
        "#10.Highlight"
      ]
    },
    {
      "cell_type": "markdown",
      "metadata": {
        "id": "4cfTClH1KmcE"
      },
      "source": [
        "<mark>highlight text</mark>"
      ]
    },
    {
      "cell_type": "markdown",
      "metadata": {
        "id": "Ilcewa8nKwZi"
      },
      "source": [
        "#11.Task Lists"
      ]
    },
    {
      "cell_type": "markdown",
      "metadata": {
        "id": "Nqz_2bHnKzSw"
      },
      "source": [
        "- [ ] Todo list A\n",
        "- [X] Todo list B"
      ]
    },
    {
      "cell_type": "markdown",
      "metadata": {
        "id": "l_AblUaILGwa"
      },
      "source": [
        "#12.Table"
      ]
    },
    {
      "cell_type": "markdown",
      "metadata": {
        "id": "ZuXGl3GcLIcU"
      },
      "source": [
        "- first row is header\n",
        "- second row is represent column\n",
        "    - use '-' div\n",
        "- thirdd row input cell"
      ]
    },
    {
      "cell_type": "markdown",
      "metadata": {
        "id": "OvgwYNOuLjbS"
      },
      "source": [
        "|header1|header2|header3|\n",
        "|---|---|---|\n",
        "|text1|text2|text3|"
      ]
    },
    {
      "cell_type": "markdown",
      "metadata": {
        "id": "5Vo8efgnLuaH"
      },
      "source": [
        "|left align|center align|right align|\n",
        "|:---|:---:|---:|\n",
        "|text1   |text2   |text3   |"
      ]
    },
    {
      "cell_type": "markdown",
      "metadata": {
        "id": "xoIPnpyZMiLa"
      },
      "source": [
        "#13.Strikethrough"
      ]
    },
    {
      "cell_type": "markdown",
      "metadata": {
        "id": "p8xMXp49MqRh"
      },
      "source": [
        "~Strikethrough~"
      ]
    }
  ],
  "metadata": {
    "colab": {
      "authorship_tag": "ABX9TyPB14AC0Uqdot03l1Rsru7h",
      "include_colab_link": true,
      "mount_file_id": "1_8B_V6Vz6Cv3a-jgef4nr_wULhAAJxB3",
      "provenance": []
    },
    "kernelspec": {
      "display_name": "Python 3",
      "name": "python3"
    },
    "language_info": {
      "name": "python"
    }
  },
  "nbformat": 4,
  "nbformat_minor": 0
}
