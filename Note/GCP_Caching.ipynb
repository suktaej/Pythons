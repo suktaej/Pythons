{
 "cells": [
  {
   "cell_type": "markdown",
   "id": "60615b0f-9a96-4014-9cbb-7289d6cbb7c7",
   "metadata": {},
   "source": [
    "- cpu가 ram을 읽을 때 clock? 이 일치해야함\n",
    "- 때문에 cpu의 clock이 매우 느려짐\n",
    "- cpu 내 cache(sram) 정보 보관\n",
    "- 일반 ram(dram)에 지속적인 신호(clock)을 전송"
   ]
  },
  {
   "cell_type": "markdown",
   "id": "27906ded-5ea5-4e40-a552-38c6825f9ba0",
   "metadata": {},
   "source": [
    "- cache에 있는가 확인: hit, miss(hit ratio)\n",
    "- cache확률 -> 자주 접근하는 주소를 기록? 정규분포? 지엽성? 국부성?"
   ]
  },
  {
   "cell_type": "markdown",
   "id": "d22e43f2-9444-47a9-992a-de1fe4144046",
   "metadata": {},
   "source": [
    "- 인스턴스가 많아지더라도 DB는 1개만 사용함\n",
    "- 때문에 in memory cache 방식(인스턴스에 db의 캐시를 가져옴)으로 효율성 강화?"
   ]
  }
 ],
 "metadata": {
  "kernelspec": {
   "display_name": "Python 3 (ipykernel)",
   "language": "python",
   "name": "python3"
  },
  "language_info": {
   "codemirror_mode": {
    "name": "ipython",
    "version": 3
   },
   "file_extension": ".py",
   "mimetype": "text/x-python",
   "name": "python",
   "nbconvert_exporter": "python",
   "pygments_lexer": "ipython3",
   "version": "3.12.2"
  }
 },
 "nbformat": 4,
 "nbformat_minor": 5
}
