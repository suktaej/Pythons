{
 "cells": [
  {
   "cell_type": "markdown",
   "id": "51351c8b-a4fa-4ea5-8529-4c820944bcd0",
   "metadata": {},
   "source": [
    "### 컨테이너(Container)\n",
    "- 가상머신 내에 물리적인 인프라가 모두 포함되어야 함(cpu,ram,os....)\n",
    "- 가상머신에서 인프라 부분을 빼고 소프트와 라이브러리만 배포하는 개념\n",
    "\n",
    "### 스토리지\n",
    "- datalake....\n",
    "\n",
    "### 네트워킹\n",
    "-\n",
    "\n",
    "### 빅데이터\n",
    "- BigQuery\n",
    "- Bigtable -> NoSQL로 전환? 실시간 데이터?\n",
    "- Spanner ->\n",
    "- Dataflow -> Apache .... transform?, stream으로 날아오는 걸 파이프라인을 통해 흐름을 만드는 것?\n",
    "- Pub/Sub -> 데이터 스트리밍......? 메세지 서비스\n",
    "- Stackdriver monitoring -> logging기능...\n",
    "  \n",
    "### IAM\n",
    "- 보안, 접근관리"
   ]
  },
  {
   "cell_type": "markdown",
   "id": "b1898e4a-277f-4d10-a3a4-ff730d0208f6",
   "metadata": {},
   "source": [
    "### Compute Engine\n",
    "- 가상화 머신 ec2?\n",
    "- hyperviser 내부 guest os 관리(시스템의 자원, 정보?를 서비스)\n",
    "- cloud의 vm들은 hyperV에게 정보요구.....?\n",
    "- 수평확장 : auto scaling\n",
    "- Serverless : 서버관리 필요없음, 가상머신을 만들지 않고도 실행 (⊃Fully)\n",
    "- Fully Managed : 자동으로 버전 관리?\n",
    "- Load balancer : 부하분산(하부에 인스턴스 배치 시 가용영역(zone)별로 traffic을 분리, 서비스 요청을 로드밸런서가 확인 후 배분, 장애 감지(Health check)"
   ]
  },
  {
   "cell_type": "markdown",
   "id": "56db0e88-1c46-4b46-86f0-78f4805a7150",
   "metadata": {},
   "source": [
    "### IAM\n",
    "\n",
    "1. Identity\n",
    "    - Google account\n",
    "    - Service account\n",
    "    - Google group -> 리눅스 그룹과 비슷(정책 적용)\n",
    "    - Google application domain\n",
    "2. Role(권한)\n",
    "   - Owner: 맴버 초대 및 삭제, 프로젝트 삭제\n",
    "   - Editor: 리소스 설정 변경, 서비스 설정\n",
    "   - Viewer: 읽기 전용"
   ]
  },
  {
   "cell_type": "markdown",
   "id": "dfe74b27-7bcc-406f-9f01-281652996146",
   "metadata": {},
   "source": [
    "### VPC(Viretual Private Cloud)\n",
    "- 가상머신 생성시 default VPC 네트워크 실행(default network interface 삭제하면 안됨)\n",
    "- VPC 생성 후 네트워크 격리(IP별도할당)\n",
    "- 팀 생성 후 가상머신을 여러개 생성 시 web3tier(web server - app server - db server)에서 가상머신마다 별도의 ip를 할당하여 보안 유지\n",
    "- 네트워크의 큰 단위\n",
    "- Inbound/Outbound 규칙 설정 firewall(Access Traffic에 대해서)\n",
    "    - Service account 등에 대해서\n",
    "\n",
    "- VPC는 Region내에 생성 [region(vpc)]\n",
    "- VPC peering -> VPC간 연결 [region(vpc1)<->(vpc2)]\n",
    "- 교차계정 access [region{cloud(vpc1)}<->{cloud(vpc2)}]"
   ]
  },
  {
   "cell_type": "markdown",
   "id": "4c951e13-e838-4020-b589-4df3ddb0242e",
   "metadata": {},
   "source": [
    "### IP\n",
    "##### Classful\n",
    "- classA 앞 8자리(Network ID:장비)?는 고정, 2^24 IP사용가능(Host ID)\n",
    "- classC 앞 24자리 고정, 2^8 IP사용가능\n",
    "\n",
    "##### CIDR(Classless Inter Domain Routing)\n",
    "- '/'기호로 구분 ex)0.0.0.0/24"
   ]
  },
  {
   "cell_type": "markdown",
   "id": "88a76879-8dbe-43ae-8ce5-c216a11e4378",
   "metadata": {},
   "source": [
    "### Subnet\n",
    "- Subnet은 하나의 가용영역(zone)안에 위치\n",
    "- 하나의 가용영역 안에 다수의 subnet이 배치될 수 있음\n",
    "- Subnet마다 5개의 IP주소는 예약되어있음\n",
    "- Region -> VPC -> Availability Zone -> Subnet\n",
    "- Region -> 10.0.0.0/16 -> Zone -> 10.0.0.0/24\n",
    "- vpc 생성 -> subnet생성 ->internet gateway 연결해야 외부와 사용가능(web server - frontend)\n",
    "- gateway 연결하지 않을 시 내부에서만 사용가능(private subnet: app server, db server - backend)\n",
    "\n",
    "#### private subnet에서 외부 인터넷과 접속하려면\n",
    "- public subnet에 NAT(내부의 가상IP는 원 PC단의 하나의 소프트웨어처럼 취급, 라우터 입장에서는 하나의 네트워크에서 요청) gateway를 요청하여 이럴 거쳐서 요청\n",
    "- 안(private)에서 나가는 요청만 public을 거쳐서\n",
    "- Bridge 형식은 독립적인 네트워크 생성(원 PC, 가상머신이 각자 별도의 IP를 사용)\n",
    "\n",
    "#### VPC간의 통신\n",
    "- VPC peering:private IP addr을 사용하여 traffic을 routing할 수있는 networking connect\n",
    "- 하나의 region내에서 가능\n",
    "- 서로다른 계정 간에서도 가능\n",
    "\n",
    "- __보안상 문제가 발생할 수 있음__\n",
    "- internet 사용시(외부 gateway) traffic 증가로 속도가 느려짐\n",
    "- cloud 끼리는 backborn망을 통해 통신(bottleneck 현상 없음)\n",
    "-  속도, 보안 유지\n",
    "\n",
    "- CGW(custom gateway) "
   ]
  },
  {
   "cell_type": "markdown",
   "id": "a3c5a58d-3bb7-4b00-a5c7-97a7271202b8",
   "metadata": {},
   "source": [
    "### Route Table\n",
    "- subnet 생성 시 default route table 생성\n",
    "- __cisco, router 도서__"
   ]
  },
  {
   "cell_type": "markdown",
   "id": "5c8e0016-0eab-4a6c-90bb-29f8ac49cd1b",
   "metadata": {},
   "source": [
    "### Firewall"
   ]
  },
  {
   "cell_type": "markdown",
   "id": "63587f28-18e0-4427-820d-c2c449958a71",
   "metadata": {},
   "source": [
    "### Gateway"
   ]
  },
  {
   "cell_type": "markdown",
   "id": "b41df05b-04f7-464c-84f7-52f4ac20f6dc",
   "metadata": {},
   "source": [
    "### Available(가용성)\n",
    "- 안전성(Reliability) 기준을 측정 가능하도록 계량화한 성능 지표\n",
    "\n",
    "### LoadBalancer\n",
    "- 병렬컴퓨팅... clustering?\n",
    "- auto scailing instance 개수 지정 적용시 isntance를 삭제해도 새로이 생성됨\n",
    "- 가용성을 높이기 위해서는 단일 장애 지점(SPOF) 제거\n",
    "- 하나의 VPC에서는 DB 하나만 사용(Master), 이외의 DB는 sub(=slave=standby) -> 고가용성을 위한 서비스\n",
    "- 게이트웨이에서 로드벨런서로 연결\n",
    "- 로드벨런서가 인스턴스를 결정\n",
    "- 사용자가 로드벨런서를 요청 (igw->lb) 하는 경우 말고도 서브넷에서도 로드벨런서로 요청이 가능(webserver->app server:tightly coupled가 아닌 webserver1->lb->appserver2)와 같이 실행가능:loosely coupled \n",
    "-  결합해제서비스.... 단일장애지점이 발생하지 않음\n",
    "- templete ≈ autoscaling.....?"
   ]
  },
  {
   "cell_type": "markdown",
   "id": "f0d6e368-a8b0-4cc7-832c-4627f4b9d7d4",
   "metadata": {},
   "source": [
    "### Network"
   ]
  }
 ],
 "metadata": {
  "kernelspec": {
   "display_name": "Python 3 (ipykernel)",
   "language": "python",
   "name": "python3"
  },
  "language_info": {
   "codemirror_mode": {
    "name": "ipython",
    "version": 3
   },
   "file_extension": ".py",
   "mimetype": "text/x-python",
   "name": "python",
   "nbconvert_exporter": "python",
   "pygments_lexer": "ipython3",
   "version": "3.12.2"
  }
 },
 "nbformat": 4,
 "nbformat_minor": 5
}
