{
 "cells": [
  {
   "cell_type": "markdown",
   "id": "51351c8b-a4fa-4ea5-8529-4c820944bcd0",
   "metadata": {},
   "source": [
    "### 컨테이너(Container)\n",
    "- 가상머신 내에 물리적인 인프라가 모두 포함되어야 함(cpu,ram,os....)\n",
    "- 가상머신에서 인프라 부분을 빼고 소프트와 라이브러리만 배포하는 개념\n",
    "\n",
    "### 스토리지\n",
    "- datalake....\n",
    "\n",
    "### 네트워킹\n",
    "-\n",
    "\n",
    "### 빅데이터\n",
    "- BigQuery\n",
    "- Bigtable -> NoSQL로 전환? 실시간 데이터?\n",
    "- Spanner ->\n",
    "- Dataflow -> Apache .... transform?, stream으로 날아오는 걸 파이프라인을 통해 흐름을 만드는 것?\n",
    "- Pub/Sub -> 데이터 스트리밍......? 메세지 서비스\n",
    "- Stackdriver monitoring -> logging기능...\n",
    "  \n",
    "### IAM\n",
    "- 보안, 접근관리"
   ]
  },
  {
   "cell_type": "markdown",
   "id": "b1898e4a-277f-4d10-a3a4-ff730d0208f6",
   "metadata": {},
   "source": [
    "### Compute Engine\n",
    "- 가상화 머신 ec2?\n",
    "- hyperviser 내부 guest os 관리(시스템의 자원, 정보?를 서비스)\n",
    "- cloud의 vm들은 hyperV에게 정보요구.....?\n",
    "- 수평확장 : auto scaling\n",
    "- Serverless : 서버관리 필요없음, 가상머신을 만들지 않고도 실행 (⊃Fully)\n",
    "- Fully Managed : 자동으로 버전 관리?\n",
    "- Load balancer : 부하분산(하부에 인스턴스 배치 시 가용영역(zone)별로 traffic을 분리, 서비스 요청을 로드밸런서가 확인 후 배분, 장애 감지(Health check)"
   ]
  },
  {
   "cell_type": "markdown",
   "id": "56db0e88-1c46-4b46-86f0-78f4805a7150",
   "metadata": {},
   "source": [
    "### IAM\n",
    "\n",
    "1. Identity\n",
    "    - Google account\n",
    "    - Service account\n",
    "    - Google group -> 리눅스 그룹과 비슷(정책 적용)\n",
    "    - Google application domain\n",
    "2. Role(권한)\n",
    "   - Owner: 맴버 초대 및 삭제, 프로젝트 삭제\n",
    "   - Editor: 리소스 설정 변경, 서비스 설정\n",
    "   - Viewer: 읽기 전용"
   ]
  },
  {
   "cell_type": "markdown",
   "id": "dfe74b27-7bcc-406f-9f01-281652996146",
   "metadata": {},
   "source": [
    "### VPC(Viretual Private Cloud)\n",
    "- 가상머신 생성시 default VPC 네트워크 실행(default network interface 삭제하면 안됨)\n",
    "- VPC 내 서브넷 생성\n",
    "- VPC 생성 후 네트워크 격리(IP별도할당)\n",
    "- 팀 생성 후 가상머신을 여러개 생성 시 web3tier(web server - app server - db server)에서 가상머신마다 별도의 ip를 할당하여 보안 유지\n",
    "- 네트워크의 큰 단위\n",
    "- Inbound/Outbound 규칙 설정 firewall(Access Traffic에 대해서)\n",
    "    - Service account 등에 대해서\n",
    "\n",
    "- VPC는 Region내에 생성 [region(vpc)]\n",
    "- VPC peering -> VPC간 연결 [region(vpc1)<->(vpc2)]\n",
    "- 교차계정 access [region{cloud(vpc1)}<->{cloud(vpc2)}]"
   ]
  },
  {
   "cell_type": "markdown",
   "id": "4c951e13-e838-4020-b589-4df3ddb0242e",
   "metadata": {},
   "source": [
    "### IP\n",
    "##### Classful\n",
    "- classA 앞 8자리(Network ID:장비)?는 고정, 2^24 IP사용가능(Host ID)\n",
    "- classC 앞 24자리 고정, 2^8 IP사용가능\n",
    "\n",
    "##### CIDR(Classless Inter Domain Routing)\n",
    "- '/'기호로 구분 ex)0.0.0.0/24"
   ]
  },
  {
   "cell_type": "markdown",
   "id": "88a76879-8dbe-43ae-8ce5-c216a11e4378",
   "metadata": {},
   "source": [
    "### Subnet\n",
    "- Subnet은 하나의 가용영역(zone)안에 위치\n",
    "- 하나의 가용영역 안에 다수의 subnet이 배치될 수 있음\n",
    "- Subnet마다 5개의 IP주소는 예약되어있음\n",
    "- Region -> VPC -> Availability Zone -> Subnet\n",
    "- Region -> 10.0.0.0/16 -> Zone -> 10.0.0.0/24\n",
    "- vpc 생성 -> subnet생성 ->internet gateway 연결해야 외부와 사용가능(web server - frontend)\n",
    "- gateway 연결하지 않을 시 내부에서만 사용가능(private subnet: app server, db server - backend)\n",
    "\n",
    "#### private subnet에서 외부 인터넷과 접속하려면\n",
    "- public subnet에 NAT(내부의 가상IP는 원 PC단의 하나의 소프트웨어처럼 취급, 라우터 입장에서는 하나의 네트워크에서 요청) gateway를 요청하여 이럴 거쳐서 요청\n",
    "- 안(private)에서 나가는 요청만 public을 거쳐서\n",
    "- Bridge 형식은 독립적인 네트워크 생성(원 PC, 가상머신이 각자 별도의 IP를 사용)\n",
    "\n",
    "#### VPC간의 통신\n",
    "- VPC peering:private IP addr을 사용하여 traffic을 routing할 수있는 networking connect\n",
    "- 하나의 region내에서 가능\n",
    "- 서로다른 계정 간에서도 가능\n",
    "\n",
    "- __보안상 문제가 발생할 수 있음__\n",
    "- internet 사용시(외부 gateway) traffic 증가로 속도가 느려짐\n",
    "- cloud 끼리는 backborn망을 통해 통신(bottleneck 현상 없음)\n",
    "-  속도, 보안 유지\n",
    "\n",
    "- CGW(custom gateway) "
   ]
  },
  {
   "cell_type": "markdown",
   "id": "a3c5a58d-3bb7-4b00-a5c7-97a7271202b8",
   "metadata": {},
   "source": [
    "### Route Table\n",
    "- subnet 생성 시 default route table 생성\n",
    "- __cisco, router 도서__"
   ]
  },
  {
   "cell_type": "markdown",
   "id": "5c8e0016-0eab-4a6c-90bb-29f8ac49cd1b",
   "metadata": {},
   "source": [
    "### Firewall"
   ]
  },
  {
   "cell_type": "markdown",
   "id": "63587f28-18e0-4427-820d-c2c449958a71",
   "metadata": {},
   "source": [
    "### Gateway"
   ]
  },
  {
   "cell_type": "markdown",
   "id": "b41df05b-04f7-464c-84f7-52f4ac20f6dc",
   "metadata": {},
   "source": [
    "### Available(가용성)\n",
    "- 안전성(Reliability) 기준을 측정 가능하도록 계량화한 성능 지표\n",
    "\n",
    "### LoadBalancer\n",
    "- 병렬컴퓨팅... clustering?\n",
    "- 계속해서 Health check\n",
    "- auto scailing instance 개수 지정 적용시 isntance를 삭제해도 새로이 생성됨\n",
    "- 가용성을 높이기 위해서는 단일 장애 지점(SPOF) 제거\n",
    "- 하나의 VPC에서는 DB 하나만 사용(Master), 이외의 DB는 sub(=slave=standby) -> 고가용성을 위한 서비스\n",
    "- 게이트웨이에서 로드벨런서로 연결\n",
    "- 로드벨런서가 인스턴스를 결정\n",
    "- 사용자가 로드벨런서를 요청 (igw->lb) 하는 경우 말고도 서브넷에서도 로드벨런서로 요청이 가능(webserver->app server:tightly coupled가 아닌 webserver1->lb->appserver2)와 같이 실행가능:loosely coupled \n",
    "-  결합해제서비스.... 단일장애지점이 발생하지 않음\n",
    "- templete ≈ autoscaling.....?"
   ]
  },
  {
   "cell_type": "markdown",
   "id": "7e63d9ed-4817-4b5a-a640-b847f6df4468",
   "metadata": {},
   "source": [
    "### CDN(Content Delivery Network)\n",
    "- edge location.... 세계에 캐쉬서버....... 가용영역?(AZ:Availability Zone)\n",
    "- 로드밸런서<->CDN<->endusers간의 연결을 제공\n",
    "- "
   ]
  },
  {
   "cell_type": "markdown",
   "id": "81c7ddbf-9eae-4dff-856f-7330fdd51ef2",
   "metadata": {},
   "source": [
    "### VPC Networking\n",
    "\n",
    "하나의 vpc 생성 시 자체가 논리적인 구역?\n",
    "vpc를 생성 -> 내부에 서브넷 들을 생성\n",
    "vpc는 원래 하나의 region에서 생성하지만..... 각각의 서브넷들은 서로 다른 리전을 가질 수 있음\n",
    "물리적으로는 다르지만 논리적으로는 같은...(google의 특징? 딱히 장점은 없음?)\n",
    "\n"
   ]
  },
  {
   "cell_type": "markdown",
   "id": "cab9c249-030d-4205-84d2-30655c80151f",
   "metadata": {},
   "source": [
    "vpc 생성 -> 내부subnet 생성 -> VM instance 생성 시 vpc, subnet 할당 -> 방화벽 설정"
   ]
  },
  {
   "cell_type": "markdown",
   "id": "0960787b-24f1-4591-ae5b-459da1b71e5c",
   "metadata": {},
   "source": [
    "VPC... 구글의 네트웍 망 안에 들어있는 것이기에 독립적으로 격리시켜서 다른 네트워크와 구분하려는 것...\n",
    "같은 vpc인 서브넷 끼리는 방화벽을 통해 통신여부 결정"
   ]
  },
  {
   "cell_type": "markdown",
   "id": "dd043854-e68c-48e8-b750-4765934ac688",
   "metadata": {},
   "source": [
    "VPN\n",
    "vpc와 onpremise 사이를 연결하는 사설? 네트워크\n",
    "VPC - VGW <- VPN -> CGW - Onpremise\n",
    "\n",
    "단점\n",
    "사용자들이 서버에 많이 접근하면 속도가 느려짐\n",
    "보안이 어려움\n",
    "\n",
    "단점을 보완한 것이 DX(Direct Connect) - 전용 무선 서비스\n",
    "전용선을 통해 연결"
   ]
  },
  {
   "cell_type": "markdown",
   "id": "6defaa72-deef-49bf-994a-0b590e1b7fb9",
   "metadata": {},
   "source": [
    "### Data Engineer\n",
    "\n",
    "data lake: 구글 클라우드 스토리지가 예\n",
    "raw data(RDMBS, spread sheets, offline files...) -> replicate -> data lake\n",
    "\n",
    "data lake:자료가 모여있으나 별도의 처리가 되어있지 않은 것\n",
    "data warehouse(자료모음?) -> 필요한 자료를 구하기 위해 schema 필요?\n",
    "\n",
    "lake나 cloud, storage 등에서 warehouse로 포맷을 가지도록 가공하여 운반"
   ]
  },
  {
   "cell_type": "markdown",
   "id": "afa287ce-7199-43bd-95e0-92b1d167da69",
   "metadata": {},
   "source": [
    "ETL(Extract Transform and Load):lake에 있는 데이터를 가져오고(extract) 데이터를 올바르게 처리,변환(transform) 한 다음 사용하기 위해 읽어들임(load)->bigquary"
   ]
  },
  {
   "cell_type": "markdown",
   "id": "1618690d-45c4-4341-968a-57729d133fd5",
   "metadata": {},
   "source": [
    "batch -> 데이터가 한번에 올라가는 것(일괄)\n",
    "streaming(=unbound) -> 데이터가 계속 올라가는 것 \n",
    "시계열 데이터는 윈도잉(windowing?)"
   ]
  },
  {
   "cell_type": "markdown",
   "id": "69f22598-2e8d-4484-a0d7-856852adcdd8",
   "metadata": {},
   "source": [
    "### Data flow\n",
    "code, data를 분류해서 연산?\n",
    "micro processser(mcu)에서 데이터를 읽어올 때 폰 노이만 구조는 하나의 연산이 끝나야 다음 처리 진행(stack 구성)\n",
    "\n",
    "- 폰노이만 3단계 pipeline\n",
    "데이터를 가져오는 것(fetch)\n",
    "가져온 데이터를 해독(decode)\n",
    "실행하기(excute)\n",
    "F-D-E-F-D-E....\n",
    "\n",
    "- 하버드 구조의 pipeline\n",
    "F1-D1F2-E1D2F3-E2D3F4-E3D4F5....(pre-fetch)"
   ]
  },
  {
   "cell_type": "markdown",
   "id": "75abf61d-438a-4af7-a076-57715ff1543b",
   "metadata": {},
   "source": [
    "### Big Quary\n",
    "최신의 data warehouse\n",
    "비 관계형 데이터베이스\n",
    "AI, ML, translate 등 활용가능\n",
    "별도의 cloud sql 존재(전통적인 sql)\n"
   ]
  },
  {
   "cell_type": "markdown",
   "id": "deadc064-22e1-4553-b770-ae48a914b8e2",
   "metadata": {},
   "source": [
    "DB - normalization(정규화)..... 전처리의 normalization과는다름\n",
    "별도의 db를 사용(저장공간 절약)하여 문자열을 숫자로? 함\n",
    "다만 db를 2개 이상 사용함으로 속도가 느려짐(quary:검색 느려짐)\n",
    "<img src=\"./image/normalization.png\">\n",
    "<img src=\"./image/nor1.png\">\n",
    "\n",
    "denormalization(역정규화):속도 향상, 저장공간 증가\n",
    "<img src=\"./image/denor1.png\">\n",
    "Data preprocess의 정규화는 MinMax Scaler(0~1 사이로), DB의 정규화와는 다름\n",
    "표준화 Stand Scaler:정규분포\n",
    "\n",
    "구조체...:중복된 내용 포함? nested?\n",
    "\n",
    "Bigquary 내에서 schema mode는\n",
    "record(스키마 포함) = struct, repeated(값 중복) = array로 이해\n",
    "\n",
    "모든 스키마에서 JSON으로 쿼리 시? 확인 시 dictionary 타입으로 전환.....?\n",
    "\n",
    "array to element 해야 출력가능(bigquary)\n",
    "ARRAY_AGG(X) - 배열화(array)\n",
    "UNNEST(X) - 요소화(element), 행(row)으로 추출"
   ]
  },
  {
   "cell_type": "markdown",
   "id": "c02b34ee-81d5-4223-b1dd-507f0edaa411",
   "metadata": {},
   "source": [
    "내부조인, 외부조인, cross join(교차조인,카테시안 곱)... 관계형db..."
   ]
  },
  {
   "cell_type": "markdown",
   "id": "cc0c9314-7885-4105-ac94-31dbdbf8cf8f",
   "metadata": {},
   "source": [
    "### Hadoop \n",
    "- onpremise 환경에서의 분산 데이터처리를 위한.... bigdata workload?\n",
    "- computing, storage의 분류 필요"
   ]
  },
  {
   "cell_type": "markdown",
   "id": "106dc977-195b-470c-bb8b-09003339f0ac",
   "metadata": {},
   "source": [
    "### Spark\n",
    "Lift and Shift.... 들어서 그냥 옮기기(migration)\n",
    "Onpremise에서 만든 설계를 그대로 옮기기가 가능\n",
    "\n",
    "hadoop을 그대로 옮기면 stoarge가 문제\n",
    "이를 구글 클라우드 스토리지로 변경"
   ]
  },
  {
   "cell_type": "markdown",
   "id": "03026871-3f4f-40a3-815f-9ec44a9fcadb",
   "metadata": {},
   "source": [
    "### Cluster \n",
    "- 분산병렬 처리를 하기 위한 node\n",
    "- master:중앙에서 통제\n",
    "- worker:실제 작업\n",
    "\n",
    "클러스터 생성 시 마스터, 워커 노드들로 인스턴스가 생성됨\n",
    "프로비저닝...?"
   ]
  },
  {
   "cell_type": "markdown",
   "id": "8bad78ac-6639-4f15-985d-2ba59de385c7",
   "metadata": {},
   "source": [
    "GCP의 dataproc를 사용해서 hadoop을 migration 가능"
   ]
  },
  {
   "cell_type": "markdown",
   "id": "3ebf5378-01c8-400b-9ec7-8b86044211be",
   "metadata": {},
   "source": [
    "### Python 기타 명령어\n",
    "\n",
    "python 내에서 %%writefile xxx.py 명령어는 아래에 실행된 내용을 모두 xxx.py로 저장하라는 명령어\n",
    "1번째 라인에 작성\n",
    "\n",
    "%일 경우 해당하는 한줄만 실행하는 명령어.... 이하 매직명령어 검색"
   ]
  },
  {
   "cell_type": "markdown",
   "id": "795e3354-c6c5-4093-85fa-8a426c82b39e",
   "metadata": {},
   "source": [
    "### MQTT\n",
    "\n",
    "M2M(Machine-to-Machine)기반의 IoT\n",
    "\n",
    "1,2바이트의 데이터만 보낼 때 http를 사용한다면 헤더가 매우 무거워지므로 낮은 단계의 프로토콜을 제공(예시:RoLA)\n",
    "\n",
    "때문에 저전력으로 패킷이 전달되어야하기에......\n",
    "\n",
    "WebSocket이 http방식\n",
    "\n",
    "이제는 IoT가 아니더라도 사용되고 있음\n",
    "\n",
    "- publisher: topic(제목?)+message로 패킷을 발행(여럿에게 송신 가능)\n",
    "- subscriber: 구독중인 퍼블리셔의 패킷을 받을 수 있음\n",
    "- broker: 이러한 송수신을 중개하는 것\n",
    "  \n",
    "<img src=\"./image/pubsub1.png\">\n",
    "\n",
    "이는 서버리스로 동장\n",
    "\n",
    "pub/sub은 비동기로 전송\n",
    "\n",
    "메세지 서비스는 2개\n",
    "- SQS: simple Queue service\n",
    "- SNS: ?\n",
    "\n",
    "ROS:로봇 작동 표준....\n",
    "\n",
    "QoS at least once at most once -> 받든 말든 1번은 보낸다\n",
    "\n",
    "===</br>\n",
    "pub/sub는 토픽을 생성하고 구독하는 방식으로 진행\n",
    "\n",
    "Push, Pull 2가지 방식\n",
    "<img src=\"./image/pushpull1.png\">"
   ]
  },
  {
   "cell_type": "markdown",
   "id": "5aeda529-9982-4c98-b550-a80051e5a8cb",
   "metadata": {},
   "source": [
    "### Windowing\n",
    "<img src=\"./image/window1.png\">"
   ]
  },
  {
   "cell_type": "markdown",
   "id": "7af6a14e-c4dc-4951-ac6b-9320dfd11fd4",
   "metadata": {},
   "source": [
    "### 시나리오 흐름도 기본\n",
    "\n",
    "__Sensor(=Data) -> Pub/sub -> Dataflow -> BigQuery -OLAB(분석) -> Output__\n",
    "\n",
    "- 구글클라우드 스토리지에 data를 수집\n",
    "- 스토리지에 output도 저장\n",
    "- 이는 서버리스로 진행됨\n",
    "\n",
    "가상머신을 생성하면(용도는 service account) 가상머신이 다른 동작들을 제어(api호출)\n",
    "<img src=\"./image/flow.png\">"
   ]
  },
  {
   "cell_type": "markdown",
   "id": "469cdb00-a707-4423-b303-0fe2a3f76a2c",
   "metadata": {},
   "source": [
    "bigquery에 저장될 때 dataflow에서 옮겨오므로 timestemp(데이터 생성시간), 데이터 처리시간(시스템이 처리한) 등을 윈도잉하여 데이터를 어떻게 처리하는지 예상할 수 있음\n",
    "이 예상시간을 watermark라고 함\n",
    "처리시간이 맞지 않을 경우(생성시간과) 이를 지연시간이라고 함\n",
    "이러한 지연이 최소화하도록 시스템을 최적화해야 함\n",
    "\n",
    "이러한 임계값이 초과될 경우를 확인해야함(모니터링, 알람)"
   ]
  },
  {
   "cell_type": "code",
   "execution_count": null,
   "id": "6599f0f8-09fa-47a4-ae7e-0ca08342d6e6",
   "metadata": {},
   "outputs": [],
   "source": []
  }
 ],
 "metadata": {
  "kernelspec": {
   "display_name": "Python 3 (ipykernel)",
   "language": "python",
   "name": "python3"
  },
  "language_info": {
   "codemirror_mode": {
    "name": "ipython",
    "version": 3
   },
   "file_extension": ".py",
   "mimetype": "text/x-python",
   "name": "python",
   "nbconvert_exporter": "python",
   "pygments_lexer": "ipython3",
   "version": "3.12.2"
  }
 },
 "nbformat": 4,
 "nbformat_minor": 5
}
