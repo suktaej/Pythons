{
 "cells": [
  {
   "cell_type": "markdown",
   "id": "51351c8b-a4fa-4ea5-8529-4c820944bcd0",
   "metadata": {},
   "source": [
    "### 컨테이너(Container)\n",
    "- 가상머신 내에 물리적인 인프라가 모두 포함되어야 함(cpu,ram,os....)\n",
    "- 가상머신에서 인프라 부분을 빼고 소프트와 라이브러리만 배포하는 개념\n",
    "\n",
    "### 스토리지\n",
    "- datalake....\n",
    "\n",
    "### 네트워킹\n",
    "-\n",
    "\n",
    "### 빅데이터\n",
    "- BigQuery\n",
    "- Bigtable -> NoSQL로 전환? 실시간 데이터?\n",
    "- Spanner ->\n",
    "- Dataflow -> Apache .... transform?, stream으로 날아오는 걸 파이프라인을 통해 흐름을 만드는 것?\n",
    "- Pub/Sub -> 데이터 스트리밍......? 메세지 서비스\n",
    "- Stackdriver monitoring -> logging기능...\n",
    "  \n",
    "### IAM\n",
    "- 보안, 접근관리"
   ]
  },
  {
   "cell_type": "markdown",
   "id": "b1898e4a-277f-4d10-a3a4-ff730d0208f6",
   "metadata": {},
   "source": [
    "### Compute Engine\n",
    "- 가상화 머신 ec2?\n",
    "- hyperviser 내부 guest os 관리(시스템의 자원, 정보?를 서비스)\n",
    "- cloud의 vm들은 hyperV에게 정보요구.....?\n",
    "- 수평확장 : auto scaling\n",
    "- Serverless : 서버관리 필요없음, 가상머신을 만들지 않고도 실행 (⊃Fully)\n",
    "- Fully Managed : 자동으로 버전 관리?\n",
    "- Load balancer : 부하분산(하부에 인스턴스 배치 시 가용영역(zone)별로 traffic을 분리, 서비스 요청을 로드밸런서가 확인 후 배분, 장애 감지(Health check)"
   ]
  },
  {
   "cell_type": "code",
   "execution_count": null,
   "id": "60abb251-3fc5-4520-aea3-24e02d5d259d",
   "metadata": {},
   "outputs": [],
   "source": []
  }
 ],
 "metadata": {
  "kernelspec": {
   "display_name": "Python 3 (ipykernel)",
   "language": "python",
   "name": "python3"
  },
  "language_info": {
   "codemirror_mode": {
    "name": "ipython",
    "version": 3
   },
   "file_extension": ".py",
   "mimetype": "text/x-python",
   "name": "python",
   "nbconvert_exporter": "python",
   "pygments_lexer": "ipython3",
   "version": "3.12.2"
  }
 },
 "nbformat": 4,
 "nbformat_minor": 5
}
