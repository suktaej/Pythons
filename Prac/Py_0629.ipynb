{
 "cells": [
  {
   "cell_type": "markdown",
   "metadata": {},
   "source": [
    "##### #1.code declear\n",
    "- function declear\n",
    "- variable declear\n",
    "- main code"
   ]
  },
  {
   "cell_type": "code",
   "execution_count": 1,
   "metadata": {},
   "outputs": [],
   "source": [
    "import turtle\n",
    "import random\n",
    "#func\n",
    "def LClick(x,y):\n",
    "    global r,g,b\n",
    "    turtle.pencolor((r,g,b))\n",
    "    turtle.pendown()\n",
    "    turtle.goto(x,y)\n",
    "\n",
    "def RClick(x,y):\n",
    "    turtle.penup()\n",
    "    turtle.goto(x,y)\n",
    "\n",
    "def MClick(x,y):\n",
    "    global r,g,b\n",
    "    tSize = random.randrange(1,10)\n",
    "    turtle.shapesize(tSize)\n",
    "    r=random.random()\n",
    "    g=random.random()\n",
    "    b=random.random()\n",
    "#var\n",
    "myT = None\n",
    "pSize = 10\n",
    "r,g,b = 0.0, 0.0, 0.0\n",
    "#main\n",
    "def square():\n",
    "    myT = turtle.Turtle()\n",
    "    myT.shape('turtle')\n",
    "\n",
    "    for i in range(4):\n",
    "        myT.forward(200)\n",
    "        myT.right(90)\n",
    "\n",
    "    turtle.done()\n",
    "turtle.shape('turtle')\n",
    "turtle.pensize(pSize)\n",
    "\n",
    "turtle.onscreenclick(LClick,1)\n",
    "turtle.onscreenclick(MClick,2)\n",
    "turtle.onscreenclick(RClick,3)\n",
    "\n",
    "turtle.done()"
   ]
  },
  {
   "cell_type": "code",
   "execution_count": 15,
   "metadata": {},
   "outputs": [
    {
     "name": "stdout",
     "output_type": "stream",
     "text": [
      "button clicked\n",
      "button clicked\n",
      "button clicked\n",
      "button clicked\n"
     ]
    }
   ],
   "source": [
    "from tkinter import *\n",
    "\n",
    "#def\n",
    "def event_listbox(ev):\n",
    "    print(\"listbox event occured\")\n",
    "\n",
    "def btn_click(ev):\n",
    "    print(\"button clicked\")\n",
    "\n",
    "#var\n",
    "root=Tk()\n",
    "label=Label(root,text='hello world')\n",
    "listbox=Listbox(root)\n",
    "entry=Entry(root)\n",
    "text=Text(root)\n",
    "btn=Button(root,text='Button')\n",
    "\n",
    "num_l=['one','two','three','four']\n",
    "txt_s='life is short You need python'\n",
    "\n",
    "label.pack()\n",
    "listbox.pack()\n",
    "entry.pack()\n",
    "text.pack()\n",
    "btn.pack()\n",
    "\n",
    "#set\n",
    "for i in num_l:\n",
    "    listbox.insert(END,i)\n",
    "entry.insert(0,\"Hello entry\")\n",
    "text.insert(1.0,txt_s)\n",
    "\n",
    "listbox.bind('<<ListboxSelect>>',event_listbox) #<<ListboxSelect>> is variable\n",
    "btn.bind('<Button-1>',btn_click) #<Button-1> is variable\n",
    "\n",
    "root.mainloop()"
   ]
  },
  {
   "cell_type": "code",
   "execution_count": 27,
   "metadata": {},
   "outputs": [],
   "source": [
    "from tkinter import *\n",
    "from tkinter.messagebox import *\n",
    "\n",
    "root = Tk()\n",
    "\n",
    "listbox = Listbox(root)\n",
    "label = Label(root,text='Title')\n",
    "entry = Entry(root)\n",
    "text = Text(root)\n",
    "btn1 = Button(root,text='Create')\n",
    "btn2 = Button(root,text='Modify')\n",
    "btn3 = Button(root,text='Delete')\n",
    "\n",
    "listbox.grid(row=0, column=0, columnspan=3, sticky='ew')\n",
    "label.grid(row=1,column=0)\n",
    "entry.grid(row=1,column=1,columnspan=2,sticky='ew')\n",
    "text.grid(row=2,column=0,columnspan=3)\n",
    "btn1.grid(row=3,column=0,sticky='ew')\n",
    "btn2.grid(row=3,column=1,sticky='ew')\n",
    "btn3.grid(row=3,column=2,sticky='ew')\n",
    "\n",
    "root.mainloop()"
   ]
  },
  {
   "cell_type": "code",
   "execution_count": null,
   "metadata": {},
   "outputs": [],
   "source": []
  }
 ],
 "metadata": {
  "kernelspec": {
   "display_name": "Python 3",
   "language": "python",
   "name": "python3"
  },
  "language_info": {
   "codemirror_mode": {
    "name": "ipython",
    "version": 3
   },
   "file_extension": ".py",
   "mimetype": "text/x-python",
   "name": "python",
   "nbconvert_exporter": "python",
   "pygments_lexer": "ipython3",
   "version": "3.11.9"
  }
 },
 "nbformat": 4,
 "nbformat_minor": 2
}
