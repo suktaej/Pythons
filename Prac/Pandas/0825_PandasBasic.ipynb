{
 "cells": [
  {
   "cell_type": "code",
   "execution_count": null,
   "metadata": {},
   "outputs": [],
   "source": [
    "import pandas as pd\n",
    "import matplotlib as plt\n",
    "import numpy as np"
   ]
  },
  {
   "cell_type": "code",
   "execution_count": 4,
   "metadata": {},
   "outputs": [],
   "source": [
    "df = pd.read_csv(\"./Data/doit_pandas/data/banklist.csv\")"
   ]
  },
  {
   "cell_type": "code",
   "execution_count": 15,
   "metadata": {},
   "outputs": [
    {
     "name": "stdout",
     "output_type": "stream",
     "text": [
      "                                           Bank Name         City  ST   CERT  \\\n",
      "0                Washington Federal Bank for Savings      Chicago  IL  30570   \n",
      "1    The Farmers and Merchants State Bank of Argonia      Argonia  KS  17719   \n",
      "2                                Fayette County Bank   Saint Elmo  IL   1802   \n",
      "3  Guaranty Bank, (d/b/a BestBank in Georgia & Mi...    Milwaukee  WI  30003   \n",
      "4                                     First NBC Bank  New Orleans  LA  58302   \n",
      "\n",
      "                 Acquiring Institution Closing Date Updated Date  \n",
      "0                   Royal Savings Bank    15-Dec-17    20-Dec-17  \n",
      "1                          Conway Bank    13-Oct-17    20-Oct-17  \n",
      "2            United Fidelity Bank, fsb    26-May-17    26-Jul-17  \n",
      "3  First-Citizens Bank & Trust Company     5-May-17    26-Jul-17  \n",
      "4                         Whitney Bank    28-Apr-17     5-Dec-17  \n",
      "-------\n",
      "                             Bank Name        City  ST   CERT  \\\n",
      "550                 Superior Bank, FSB    Hinsdale  IL  32646   \n",
      "551                Malta National Bank       Malta  OH   6629   \n",
      "552    First Alliance Bank & Trust Co.  Manchester  NH  34264   \n",
      "553  National State Bank of Metropolis  Metropolis  IL   3815   \n",
      "554                   Bank of Honolulu    Honolulu  HI  21029   \n",
      "\n",
      "                   Acquiring Institution Closing Date Updated Date  \n",
      "550                Superior Federal, FSB    27-Jul-01    19-Aug-14  \n",
      "551                    North Valley Bank     3-May-01    18-Nov-02  \n",
      "552  Southern New Hampshire Bank & Trust     2-Feb-01    18-Feb-03  \n",
      "553              Banterra Bank of Marion    14-Dec-00    17-Mar-05  \n",
      "554                   Bank of the Orient    13-Oct-00    17-Mar-05  \n"
     ]
    }
   ],
   "source": [
    "print(df.head())\n",
    "print(\"-------\")\n",
    "print(df.tail())"
   ]
  },
  {
   "cell_type": "code",
   "execution_count": 6,
   "metadata": {},
   "outputs": [
    {
     "name": "stdout",
     "output_type": "stream",
     "text": [
      "<class 'pandas.core.frame.DataFrame'>\n"
     ]
    }
   ],
   "source": [
    "print(type(df))"
   ]
  },
  {
   "cell_type": "code",
   "execution_count": 21,
   "metadata": {},
   "outputs": [
    {
     "name": "stdout",
     "output_type": "stream",
     "text": [
      "(555, 7) \n",
      " 555 \n",
      " 7\n"
     ]
    }
   ],
   "source": [
    "print(df.shape,'\\n',df.shape[0],'\\n',df.shape[1])"
   ]
  },
  {
   "cell_type": "code",
   "execution_count": 9,
   "metadata": {},
   "outputs": [
    {
     "name": "stdout",
     "output_type": "stream",
     "text": [
      "Index(['Bank Name', 'City', 'ST', 'CERT', 'Acquiring Institution',\n",
      "       'Closing Date', 'Updated Date'],\n",
      "      dtype='object')\n"
     ]
    }
   ],
   "source": [
    "print(df.columns)"
   ]
  },
  {
   "cell_type": "code",
   "execution_count": 11,
   "metadata": {},
   "outputs": [
    {
     "name": "stdout",
     "output_type": "stream",
     "text": [
      "Bank Name                object\n",
      "City                     object\n",
      "ST                       object\n",
      "CERT                      int64\n",
      "Acquiring Institution    object\n",
      "Closing Date             object\n",
      "Updated Date             object\n",
      "dtype: object\n"
     ]
    }
   ],
   "source": [
    "print(df.dtypes)"
   ]
  },
  {
   "cell_type": "code",
   "execution_count": 23,
   "metadata": {},
   "outputs": [
    {
     "name": "stdout",
     "output_type": "stream",
     "text": [
      "0                    Washington Federal Bank for Savings\n",
      "1        The Farmers and Merchants State Bank of Argonia\n",
      "2                                    Fayette County Bank\n",
      "3      Guaranty Bank, (d/b/a BestBank in Georgia & Mi...\n",
      "4                                         First NBC Bank\n",
      "                             ...                        \n",
      "550                                   Superior Bank, FSB\n",
      "551                                  Malta National Bank\n",
      "552                      First Alliance Bank & Trust Co.\n",
      "553                    National State Bank of Metropolis\n",
      "554                                     Bank of Honolulu\n",
      "Name: Bank Name, Length: 555, dtype: object\n"
     ]
    }
   ],
   "source": [
    "print(df['Bank Name'])"
   ]
  },
  {
   "cell_type": "code",
   "execution_count": 25,
   "metadata": {},
   "outputs": [
    {
     "name": "stdout",
     "output_type": "stream",
     "text": [
      "<class 'pandas.core.frame.DataFrame'>\n",
      "                                           Bank Name         City  \\\n",
      "0                Washington Federal Bank for Savings      Chicago   \n",
      "1    The Farmers and Merchants State Bank of Argonia      Argonia   \n",
      "2                                Fayette County Bank   Saint Elmo   \n",
      "3  Guaranty Bank, (d/b/a BestBank in Georgia & Mi...    Milwaukee   \n",
      "4                                     First NBC Bank  New Orleans   \n",
      "\n",
      "  Closing Date Updated Date  \n",
      "0    15-Dec-17    20-Dec-17  \n",
      "1    13-Oct-17    20-Oct-17  \n",
      "2    26-May-17    26-Jul-17  \n",
      "3     5-May-17    26-Jul-17  \n",
      "4    28-Apr-17     5-Dec-17  \n",
      "---------\n",
      "                                             Bank Name         City  \\\n",
      "0                  Washington Federal Bank for Savings      Chicago   \n",
      "1      The Farmers and Merchants State Bank of Argonia      Argonia   \n",
      "2                                  Fayette County Bank   Saint Elmo   \n",
      "3    Guaranty Bank, (d/b/a BestBank in Georgia & Mi...    Milwaukee   \n",
      "4                                       First NBC Bank  New Orleans   \n",
      "..                                                 ...          ...   \n",
      "550                                 Superior Bank, FSB     Hinsdale   \n",
      "551                                Malta National Bank        Malta   \n",
      "552                    First Alliance Bank & Trust Co.   Manchester   \n",
      "553                  National State Bank of Metropolis   Metropolis   \n",
      "554                                   Bank of Honolulu     Honolulu   \n",
      "\n",
      "    Closing Date Updated Date  \n",
      "0      15-Dec-17    20-Dec-17  \n",
      "1      13-Oct-17    20-Oct-17  \n",
      "2      26-May-17    26-Jul-17  \n",
      "3       5-May-17    26-Jul-17  \n",
      "4      28-Apr-17     5-Dec-17  \n",
      "..           ...          ...  \n",
      "550    27-Jul-01    19-Aug-14  \n",
      "551     3-May-01    18-Nov-02  \n",
      "552     2-Feb-01    18-Feb-03  \n",
      "553    14-Dec-00    17-Mar-05  \n",
      "554    13-Oct-00    17-Mar-05  \n",
      "\n",
      "[555 rows x 4 columns]\n"
     ]
    }
   ],
   "source": [
    "subset =df[['Bank Name', 'City','Closing Date', 'Updated Date']]\n",
    "print(type(subset))\n",
    "print(subset)"
   ]
  },
  {
   "cell_type": "code",
   "execution_count": 32,
   "metadata": {},
   "outputs": [
    {
     "name": "stdout",
     "output_type": "stream",
     "text": [
      "Bank Name                Washington Federal Bank for Savings\n",
      "City                                                 Chicago\n",
      "ST                                                        IL\n",
      "CERT                                                   30570\n",
      "Acquiring Institution                     Royal Savings Bank\n",
      "Closing Date                                       15-Dec-17\n",
      "Updated Date                                       20-Dec-17\n",
      "Name: 0, dtype: object\n",
      "                                           Bank Name         City  ST   CERT  \\\n",
      "1    The Farmers and Merchants State Bank of Argonia      Argonia  KS  17719   \n",
      "2                                Fayette County Bank   Saint Elmo  IL   1802   \n",
      "3  Guaranty Bank, (d/b/a BestBank in Georgia & Mi...    Milwaukee  WI  30003   \n",
      "4                                     First NBC Bank  New Orleans  LA  58302   \n",
      "\n",
      "                 Acquiring Institution Closing Date Updated Date  \n",
      "1                          Conway Bank    13-Oct-17    20-Oct-17  \n",
      "2            United Fidelity Bank, fsb    26-May-17    26-Jul-17  \n",
      "3  First-Citizens Bank & Trust Company     5-May-17    26-Jul-17  \n",
      "4                         Whitney Bank    28-Apr-17     5-Dec-17  \n"
     ]
    }
   ],
   "source": [
    "print(df.loc[0])\n",
    "print(df.loc[[1,2,3,4]])"
   ]
  },
  {
   "cell_type": "code",
   "execution_count": 34,
   "metadata": {},
   "outputs": [
    {
     "name": "stdout",
     "output_type": "stream",
     "text": [
      "Bank Name                  Bank of Honolulu\n",
      "City                               Honolulu\n",
      "ST                                       HI\n",
      "CERT                                  21029\n",
      "Acquiring Institution    Bank of the Orient\n",
      "Closing Date                      13-Oct-00\n",
      "Updated Date                      17-Mar-05\n",
      "Name: 554, dtype: object\n",
      "-----\n",
      "            Bank Name      City  ST   CERT Acquiring Institution Closing Date  \\\n",
      "554  Bank of Honolulu  Honolulu  HI  21029    Bank of the Orient    13-Oct-00   \n",
      "\n",
      "    Updated Date  \n",
      "554    17-Mar-05  \n"
     ]
    }
   ],
   "source": [
    "print(df.loc[df.shape[0]-1])\n",
    "print('-----')\n",
    "print(df.tail(n=1))"
   ]
  },
  {
   "cell_type": "code",
   "execution_count": 35,
   "metadata": {},
   "outputs": [
    {
     "name": "stdout",
     "output_type": "stream",
     "text": [
      "Bank Name                  Bank of Honolulu\n",
      "City                               Honolulu\n",
      "ST                                       HI\n",
      "CERT                                  21029\n",
      "Acquiring Institution    Bank of the Orient\n",
      "Closing Date                      13-Oct-00\n",
      "Updated Date                      17-Mar-05\n",
      "Name: 554, dtype: object\n"
     ]
    }
   ],
   "source": [
    "print(df.iloc[-1])"
   ]
  },
  {
   "cell_type": "code",
   "execution_count": 43,
   "metadata": {},
   "outputs": [
    {
     "name": "stdout",
     "output_type": "stream",
     "text": [
      "<pandas.core.groupby.generic.DataFrameGroupBy object at 0x0000020A44DB5850>\n"
     ]
    }
   ],
   "source": [
    "print(df.groupby('City')['ST'])"
   ]
  },
  {
   "cell_type": "code",
   "execution_count": null,
   "metadata": {},
   "outputs": [],
   "source": []
  }
 ],
 "metadata": {
  "kernelspec": {
   "display_name": "Python 3",
   "language": "python",
   "name": "python3"
  },
  "language_info": {
   "codemirror_mode": {
    "name": "ipython",
    "version": 3
   },
   "file_extension": ".py",
   "mimetype": "text/x-python",
   "name": "python",
   "nbconvert_exporter": "python",
   "pygments_lexer": "ipython3",
   "version": "3.11.9"
  }
 },
 "nbformat": 4,
 "nbformat_minor": 2
}
