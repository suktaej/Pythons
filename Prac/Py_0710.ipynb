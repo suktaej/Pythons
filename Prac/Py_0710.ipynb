{
 "cells": [
  {
   "cell_type": "code",
   "execution_count": 1,
   "metadata": {},
   "outputs": [],
   "source": [
    "import numpy as np\n",
    "import pandas as pd"
   ]
  },
  {
   "cell_type": "code",
   "execution_count": 10,
   "metadata": {},
   "outputs": [
    {
     "name": "stdout",
     "output_type": "stream",
     "text": [
      "[[[ 1.  2.  3.  4.]\n",
      "  [ 5.  6.  7.  8.]\n",
      "  [ 9. 10. 11. 12.]]\n",
      "\n",
      " [[21. 22. 23. 24.]\n",
      "  [25. 26. 27. 28.]\n",
      "  [29. 30. 31. 32.]]\n",
      "\n",
      " [[91. 92. 93. 94.]\n",
      "  [95. 96. 97. 98.]\n",
      "  [99. 90. 89. 87.]]]\n",
      "float16\n",
      "<class 'numpy.ndarray'>\n",
      "(3, 3, 4)\n",
      "3\n",
      "36\n",
      "[ 1.  2.  3.  4.  5.  6.  7.  8.  9. 10. 11. 12. 21. 22. 23. 24. 25. 26.\n",
      " 27. 28. 29. 30. 31. 32. 91. 92. 93. 94. 95. 96. 97. 98. 99. 90. 89. 87.]\n",
      "(36,)\n"
     ]
    }
   ],
   "source": [
    "metrix_data = [[10,20,30,40],\n",
    "        [1,2,3,4]]\n",
    "tensor_data = [[[1,2,3,4],[5,6,7,8],[9,10,11,12]],\n",
    "                [[21,22,23,24],[25,26,27,28],[29,30,31,32]],\n",
    "                [[91,92,93,94],[95,96,97,98],[99,90,89,87]]]\n",
    "\n",
    "arr3 = np.array(tensor_data,np.float16)\n",
    "arr2 = np.array(metrix_data,np.int16)\n",
    "print(arr3)\n",
    "print(arr3.dtype)\n",
    "print(type(arr3))\n",
    "print(arr3.shape)\n",
    "print(arr3.ndim)\n",
    "print(arr3.size)\n",
    "\n",
    "arr3 = arr3.reshape(2,2,3,-1)\n",
    "arr3 = arr3.flatten()\n",
    "print(arr3)\n",
    "print(arr3.shape)"
   ]
  },
  {
   "cell_type": "code",
   "execution_count": 3,
   "metadata": {},
   "outputs": [
    {
     "name": "stdout",
     "output_type": "stream",
     "text": [
      "(2, 4)\n",
      "[[10 20 30 40]\n",
      " [ 1  2  3  4]]\n",
      "(4, 2)\n",
      "[[10 20]\n",
      " [30 40]\n",
      " [ 1  2]\n",
      " [ 3  4]]\n",
      "(8,)\n",
      "[10 20 30 40  1  2  3  4]\n"
     ]
    }
   ],
   "source": [
    "print(arr2.shape)\n",
    "print(arr2)\n",
    "arr2 = arr2.reshape(-1,2)\n",
    "print(arr2.shape)\n",
    "print(arr2)\n",
    "arr2 = arr2.reshape(-1,)\n",
    "print(arr2.shape)\n",
    "print(arr2)"
   ]
  },
  {
   "cell_type": "code",
   "execution_count": 18,
   "metadata": {},
   "outputs": [
    {
     "data": {
      "text/plain": [
       "[[[0.0, 0.5], [1.0, 1.5], [2.0, 2.5]],\n",
       " [[3.0, 3.5], [4.0, 4.5], [5.0, 5.5]],\n",
       " [[6.0, 6.5], [7.0, 7.5], [8.0, 8.5]],\n",
       " [[9.0, 9.5], [10.0, 10.5], [11.0, 11.5]],\n",
       " [[12.0, 12.5], [13.0, 13.5], [14.0, 14.5]]]"
      ]
     },
     "execution_count": 18,
     "metadata": {},
     "output_type": "execute_result"
    }
   ],
   "source": [
    "narr = np.arange(0,15,0.5).reshape(5,3,2)\n",
    "larr = narr.tolist()\n",
    "larr"
   ]
  },
  {
   "cell_type": "code",
   "execution_count": null,
   "metadata": {},
   "outputs": [],
   "source": []
  }
 ],
 "metadata": {
  "kernelspec": {
   "display_name": "Python 3",
   "language": "python",
   "name": "python3"
  },
  "language_info": {
   "codemirror_mode": {
    "name": "ipython",
    "version": 3
   },
   "file_extension": ".py",
   "mimetype": "text/x-python",
   "name": "python",
   "nbconvert_exporter": "python",
   "pygments_lexer": "ipython3",
   "version": "3.11.9"
  }
 },
 "nbformat": 4,
 "nbformat_minor": 2
}
