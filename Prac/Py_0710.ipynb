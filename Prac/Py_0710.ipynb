{
 "cells": [
  {
   "cell_type": "code",
<<<<<<< HEAD
   "execution_count": 1,
   "metadata": {},
   "outputs": [],
   "source": [
    "import numpy as np\n",
    "import pandas as pd"
=======
   "execution_count": 2,
   "id": "f983b23d-d252-4fad-b3d0-83d7978fd0de",
   "metadata": {},
   "outputs": [],
   "source": [
    "import numpy as np"
>>>>>>> b841fcbaffd90fe41000fb742b8ef1d54b44b986
   ]
  },
  {
   "cell_type": "code",
<<<<<<< HEAD
   "execution_count": 10,
   "metadata": {},
   "outputs": [
    {
     "name": "stdout",
     "output_type": "stream",
     "text": [
      "[[[ 1.  2.  3.  4.]\n",
      "  [ 5.  6.  7.  8.]\n",
      "  [ 9. 10. 11. 12.]]\n",
      "\n",
      " [[21. 22. 23. 24.]\n",
      "  [25. 26. 27. 28.]\n",
      "  [29. 30. 31. 32.]]\n",
      "\n",
      " [[91. 92. 93. 94.]\n",
      "  [95. 96. 97. 98.]\n",
      "  [99. 90. 89. 87.]]]\n",
      "float16\n",
      "<class 'numpy.ndarray'>\n",
      "(3, 3, 4)\n",
      "3\n",
      "36\n",
      "[ 1.  2.  3.  4.  5.  6.  7.  8.  9. 10. 11. 12. 21. 22. 23. 24. 25. 26.\n",
      " 27. 28. 29. 30. 31. 32. 91. 92. 93. 94. 95. 96. 97. 98. 99. 90. 89. 87.]\n",
      "(36,)\n"
=======
   "execution_count": 12,
   "id": "ecd5a10d-d8e7-42a4-a075-eb30d571ebd0",
   "metadata": {},
   "outputs": [
    {
     "ename": "ValueError",
     "evalue": "all the input array dimensions except for the concatenation axis must match exactly, but along dimension 1, the array at index 0 has size 5 and the array at index 1 has size 4",
     "output_type": "error",
     "traceback": [
      "\u001b[0;31m---------------------------------------------------------------------------\u001b[0m",
      "\u001b[0;31mValueError\u001b[0m                                Traceback (most recent call last)",
      "Cell \u001b[0;32mIn[12], line 4\u001b[0m\n\u001b[1;32m      1\u001b[0m a \u001b[38;5;241m=\u001b[39m np\u001b[38;5;241m.\u001b[39marray([[\u001b[38;5;241m1\u001b[39m,\u001b[38;5;241m2\u001b[39m,\u001b[38;5;241m3\u001b[39m,\u001b[38;5;241m4\u001b[39m,\u001b[38;5;241m10\u001b[39m],\n\u001b[1;32m      2\u001b[0m              [\u001b[38;5;241m91\u001b[39m,\u001b[38;5;241m92\u001b[39m,\u001b[38;5;241m93\u001b[39m,\u001b[38;5;241m94\u001b[39m,\u001b[38;5;241m95\u001b[39m]])\n\u001b[1;32m      3\u001b[0m b \u001b[38;5;241m=\u001b[39m np\u001b[38;5;241m.\u001b[39marray([[\u001b[38;5;241m5\u001b[39m,\u001b[38;5;241m6\u001b[39m,\u001b[38;5;241m7\u001b[39m,\u001b[38;5;241m8\u001b[39m]])\n\u001b[0;32m----> 4\u001b[0m c \u001b[38;5;241m=\u001b[39m np\u001b[38;5;241m.\u001b[39mconcatenate((a,b),axis\u001b[38;5;241m=\u001b[39m\u001b[38;5;241m0\u001b[39m)\n\u001b[1;32m      5\u001b[0m c\n",
      "\u001b[0;31mValueError\u001b[0m: all the input array dimensions except for the concatenation axis must match exactly, but along dimension 1, the array at index 0 has size 5 and the array at index 1 has size 4"
>>>>>>> b841fcbaffd90fe41000fb742b8ef1d54b44b986
     ]
    }
   ],
   "source": [
<<<<<<< HEAD
    "metrix_data = [[10,20,30,40],\n",
    "        [1,2,3,4]]\n",
    "tensor_data = [[[1,2,3,4],[5,6,7,8],[9,10,11,12]],\n",
    "                [[21,22,23,24],[25,26,27,28],[29,30,31,32]],\n",
    "                [[91,92,93,94],[95,96,97,98],[99,90,89,87]]]\n",
    "\n",
    "arr3 = np.array(tensor_data,np.float16)\n",
    "arr2 = np.array(metrix_data,np.int16)\n",
    "print(arr3)\n",
    "print(arr3.dtype)\n",
    "print(type(arr3))\n",
    "print(arr3.shape)\n",
    "print(arr3.ndim)\n",
    "print(arr3.size)\n",
    "\n",
    "arr3 = arr3.reshape(2,2,3,-1)\n",
    "arr3 = arr3.flatten()\n",
    "print(arr3)\n",
    "print(arr3.shape)"
   ]
  },
  {
   "cell_type": "code",
   "execution_count": 3,
   "metadata": {},
   "outputs": [
    {
     "name": "stdout",
     "output_type": "stream",
     "text": [
      "(2, 4)\n",
      "[[10 20 30 40]\n",
      " [ 1  2  3  4]]\n",
      "(4, 2)\n",
      "[[10 20]\n",
      " [30 40]\n",
      " [ 1  2]\n",
      " [ 3  4]]\n",
      "(8,)\n",
      "[10 20 30 40  1  2  3  4]\n"
     ]
    }
   ],
   "source": [
    "print(arr2.shape)\n",
    "print(arr2)\n",
    "arr2 = arr2.reshape(-1,2)\n",
    "print(arr2.shape)\n",
    "print(arr2)\n",
    "arr2 = arr2.reshape(-1,)\n",
    "print(arr2.shape)\n",
    "print(arr2)"
   ]
  },
  {
   "cell_type": "code",
   "execution_count": 18,
   "metadata": {},
   "outputs": [
    {
     "data": {
      "text/plain": [
       "[[[0.0, 0.5], [1.0, 1.5], [2.0, 2.5]],\n",
       " [[3.0, 3.5], [4.0, 4.5], [5.0, 5.5]],\n",
       " [[6.0, 6.5], [7.0, 7.5], [8.0, 8.5]],\n",
       " [[9.0, 9.5], [10.0, 10.5], [11.0, 11.5]],\n",
       " [[12.0, 12.5], [13.0, 13.5], [14.0, 14.5]]]"
      ]
     },
     "execution_count": 18,
     "metadata": {},
     "output_type": "execute_result"
    }
   ],
   "source": [
    "narr = np.arange(0,15,0.5).reshape(5,3,2)\n",
    "larr = narr.tolist()\n",
    "larr"
=======
    "a = np.array([[1,2,3,4,10],\n",
    "             [91,92,93,94,95]])\n",
    "b = np.array([[5,6,7,8]])\n",
    "c = np.concatenate((a,b),axis=0)\n",
    "c"
>>>>>>> b841fcbaffd90fe41000fb742b8ef1d54b44b986
   ]
  },
  {
   "cell_type": "code",
   "execution_count": null,
<<<<<<< HEAD
=======
   "id": "32b7bc81-ede9-49f8-ad13-5f60695aec21",
>>>>>>> b841fcbaffd90fe41000fb742b8ef1d54b44b986
   "metadata": {},
   "outputs": [],
   "source": []
  }
 ],
 "metadata": {
  "kernelspec": {
   "display_name": "Python 3",
   "language": "python",
   "name": "python3"
  },
  "language_info": {
   "codemirror_mode": {
    "name": "ipython",
    "version": 3
   },
   "file_extension": ".py",
   "mimetype": "text/x-python",
   "name": "python",
   "nbconvert_exporter": "python",
   "pygments_lexer": "ipython3",
   "version": "3.11.9"
  }
 },
 "nbformat": 4,
 "nbformat_minor": 2
}
