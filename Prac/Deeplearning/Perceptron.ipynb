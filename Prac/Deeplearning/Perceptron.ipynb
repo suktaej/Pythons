{
 "cells": [
  {
   "cell_type": "code",
   "execution_count": 7,
   "id": "421d1ebb-8a77-4f7e-aa3f-fa366a07001b",
   "metadata": {},
   "outputs": [],
   "source": [
    "import numpy as np\n",
    "\n",
    "inputs = [(0, 0), (0, 1), (1, 0), (1, 1)]"
   ]
  },
  {
   "cell_type": "code",
   "execution_count": 8,
   "id": "3afda620-f92d-4051-9f17-45f9e3766741",
   "metadata": {},
   "outputs": [],
   "source": [
    "# AND Gate\n",
    "def AND1(x1, x2):\n",
    "    w1, w2, theta = 0.5, 0.5, 0.7\n",
    "    tmp = x1*w1 + x2*w2\n",
    "    if tmp <= theta:\n",
    "        return 0\n",
    "    else:\n",
    "        return 1"
   ]
  },
  {
   "cell_type": "code",
   "execution_count": 9,
   "id": "6944d85c-369c-4966-9de5-e446b165f856",
   "metadata": {},
   "outputs": [],
   "source": [
    "def AND2(x1, x2):\n",
    "    x = np.array([x1,x2]) #input\n",
    "    w = np.array([0.5,0.5]) #weight\n",
    "    b = -0.7 #bias\n",
    "    tmp = np.sum(x*w)+b\n",
    "    if tmp > 0:\n",
    "        return 1\n",
    "    else:\n",
    "        return 0"
   ]
  },
  {
   "cell_type": "markdown",
   "id": "b807f8c2-f345-4e9b-950b-c1f1c03b14f4",
   "metadata": {},
   "source": [
    "- NAND의 경우 AND와 가중치, 편향 값이 반대(-)"
   ]
  },
  {
   "cell_type": "code",
   "execution_count": 10,
   "id": "022f845a-beb8-4bbf-8deb-fad7e3fe53e4",
   "metadata": {},
   "outputs": [],
   "source": [
    "def NAND(x1,x2):\n",
    "    x = np.array([x1,x2]) #input\n",
    "    w = np.array([-0.5,-0.5]) #weight\n",
    "    b = 0.7 #bias\n",
    "    tmp = np.sum(x*w)+b\n",
    "    if tmp > 0:\n",
    "        return 1\n",
    "    else:\n",
    "        return 0"
   ]
  },
  {
   "cell_type": "code",
   "execution_count": 17,
   "id": "eb9e30a8-30b1-47ec-8b07-273452306020",
   "metadata": {},
   "outputs": [],
   "source": [
    "def OR(x1,x2):\n",
    "    x = np.array([x1,x2]) #input\n",
    "    w = np.array([0.5,0.5]) #weight\n",
    "    b = -0.2 #bias\n",
    "    tmp = np.sum(x*w)+b\n",
    "    if tmp > 0:\n",
    "        return 1\n",
    "    else:\n",
    "        return 0"
   ]
  },
  {
   "cell_type": "code",
   "execution_count": 20,
   "id": "60064cb7-530e-4289-93f9-2f96f6e696aa",
   "metadata": {},
   "outputs": [],
   "source": [
    "def XOR(x1,x2):\n",
    "    s1 = NAND(x1,x2)\n",
    "    s2 = OR(x1,x2)\n",
    "    y = AND2(s1,s2)\n",
    "    return y"
   ]
  },
  {
   "cell_type": "code",
   "execution_count": 21,
   "id": "c57ed744-ee7e-463c-b2fe-4f601bf8d508",
   "metadata": {},
   "outputs": [
    {
     "name": "stdout",
     "output_type": "stream",
     "text": [
      "x1=0, x2=0, output=0\n",
      "x1=0, x2=1, output=1\n",
      "x1=1, x2=0, output=1\n",
      "x1=1, x2=1, output=0\n"
     ]
    }
   ],
   "source": [
    "for x1, x2 in inputs:\n",
    "    output = XOR(x1, x2)\n",
    "    print(f\"x1={x1}, x2={x2}, output={output}\")"
   ]
  }
 ],
 "metadata": {
  "kernelspec": {
   "display_name": "Python 3 (ipykernel)",
   "language": "python",
   "name": "python3"
  },
  "language_info": {
   "codemirror_mode": {
    "name": "ipython",
    "version": 3
   },
   "file_extension": ".py",
   "mimetype": "text/x-python",
   "name": "python",
   "nbconvert_exporter": "python",
   "pygments_lexer": "ipython3",
   "version": "3.12.2"
  }
 },
 "nbformat": 4,
 "nbformat_minor": 5
}
