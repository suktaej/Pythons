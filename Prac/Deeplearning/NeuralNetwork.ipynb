{
 "cells": [
  {
   "cell_type": "markdown",
   "id": "6b646066-93a7-4614-be56-1e643091b3c4",
   "metadata": {},
   "source": [
    "#### 활성화(Activation) 함수\n",
    "1. 시그모이드(sigmoid)\n",
    "2. 소프트맥스(softmax)\n",
    "3. 계단(step) - perceptron에서 사용\n",
    "4. 선형(linear)"
   ]
  },
  {
   "cell_type": "code",
   "execution_count": 1,
   "id": "a0243e7f-2076-4c6e-9317-7a71a80161f9",
   "metadata": {},
   "outputs": [],
   "source": [
    "import os\n",
    "import struct\n",
    "import numpy as np\n",
    "import matplotlib.pyplot as plt\n",
    "\n",
    "x = np.array([-1.,1.,2.])"
   ]
  },
  {
   "cell_type": "code",
   "execution_count": 2,
   "id": "1d9160b5-6017-4e81-a36f-46f964854de9",
   "metadata": {},
   "outputs": [],
   "source": [
    "#!pip install python-mnist\n",
    "from mnist import MNIST"
   ]
  },
  {
   "cell_type": "code",
   "execution_count": 3,
   "id": "141d7d2b-d780-4e09-809c-6f78b6f1e69b",
   "metadata": {},
   "outputs": [],
   "source": [
    "#step function\n",
    "def step1(x):\n",
    "    return np.where(x>0,1,0)"
   ]
  },
  {
   "cell_type": "code",
   "execution_count": 4,
   "id": "8ed93df2-fa75-40e2-b10f-932f544d999c",
   "metadata": {},
   "outputs": [],
   "source": [
    "def step2(x):\n",
    "    y = x > 0\n",
    "    return y.astype(np.int32)"
   ]
  },
  {
   "cell_type": "code",
   "execution_count": 5,
   "id": "d6d1ee7c-f37e-4c5a-b122-b1ebc0d85395",
   "metadata": {},
   "outputs": [],
   "source": [
    "def step3(x):\n",
    "    return np.array(x>0,dtype=np.int32)"
   ]
  },
  {
   "cell_type": "code",
   "execution_count": 6,
   "id": "2b56eb47-bcb7-4700-9c3b-ddae9d602b72",
   "metadata": {},
   "outputs": [],
   "source": [
    "def sigmoid(x):\n",
    "    return 1/(1+np.exp(-x))"
   ]
  },
  {
   "cell_type": "code",
   "execution_count": 7,
   "id": "37184858-ea0a-4ff2-a3dd-8e1b76ed583e",
   "metadata": {},
   "outputs": [],
   "source": [
    "def relu(x):\n",
    "    return np.maximum(0,x)"
   ]
  },
  {
   "cell_type": "code",
   "execution_count": 8,
   "id": "da0117b0-6fd8-4eeb-8450-9c192b07c506",
   "metadata": {},
   "outputs": [
    {
     "data": {
      "image/png": "[encoded data removed]",
      "text/plain": [
       "<Figure size 640x480 with 1 Axes>"
      ]
     },
     "metadata": {},
     "output_type": "display_data"
    }
   ],
   "source": [
    "x=np.arange(-5.,5.,0.1)\n",
    "y=step3(x)\n",
    "z=sigmoid(x)\n",
    "plt.plot(x,y,'--',label='step')\n",
    "plt.plot(x,z,label='sigmoid')\n",
    "plt.ylim(-0.1,1.1)\n",
    "plt.show()"
   ]
  },
  {
   "cell_type": "markdown",
   "id": "1e10d6ef-fe69-4c12-8f45-a86c31fc5cf3",
   "metadata": {},
   "source": [
    "#### 3Layer NeuralNetwork"
   ]
  },
  {
   "cell_type": "code",
   "execution_count": 9,
   "id": "1d507eae-958e-46db-a069-9029ab5a0116",
   "metadata": {},
   "outputs": [
    {
     "name": "stdout",
     "output_type": "stream",
     "text": [
      "[0.31682708 0.69627909]\n"
     ]
    }
   ],
   "source": [
    "def init_network():\n",
    "    network = {}\n",
    "    network['W1'] = np.array([[0.1, 0.3, 0.5], [0.2, 0.4, 0.6]])\n",
    "    network['b1'] = np.array([0.1, 0.2, 0.3])\n",
    "    network['W2'] = np.array([[0.1, 0.4], [0.2, 0.5], [0.3, 0.6]])\n",
    "    network['b2'] = np.array([0.1, 0.2])\n",
    "    network['W3'] = np.array([[0.1, 0.3], [0.2, 0.4]])\n",
    "    network['b3'] = np.array([0.1, 0.2])\n",
    "\n",
    "    return network\n",
    "\n",
    "def forward(network, x):\n",
    "    W1, W2, W3 = network['W1'], network['W2'], network['W3']\n",
    "    b1, b2, b3 = network['b1'], network['b2'], network['b3']\n",
    "\n",
    "    a1 = np.dot(x, W1) + b1\n",
    "    z1 = sigmoid(a1)\n",
    "    a2 = np.dot(z1, W2) + b2\n",
    "    z2 = sigmoid(a2)\n",
    "    a3 = np.dot(z2, W3) + b3\n",
    "\n",
    "    return a3\n",
    "\n",
    "network = init_network()\n",
    "x = np.array([1.0, 0.5])\n",
    "y = forward(network, x)  # [ 0.31682708  0.69627909]\n",
    "\n",
    "print(y)"
   ]
  },
  {
   "cell_type": "code",
   "execution_count": 10,
   "id": "8d831bae-f8ab-4212-97a4-e4bb83eb4eae",
   "metadata": {},
   "outputs": [],
   "source": [
    "def softmax(x):\n",
    "    c = np.max(x)\n",
    "    exp_x = np.exp(x-c)\n",
    "    sum_exp_x = np.sum(exp_x)\n",
    "    y = exp_x/sum_exp_x\n",
    "    \n",
    "    return y"
   ]
  },
  {
   "cell_type": "code",
   "execution_count": 11,
   "id": "4b3402f3-dcb3-4ba6-b82d-035b6ae9a503",
   "metadata": {},
   "outputs": [],
   "source": [
    "mndata = MNIST('./mnist')\n",
    "train_img, train_lbl = mndata.load_training()\n",
    "test_img, test_lbl = mndata.load_testing()"
   ]
  },
  {
   "cell_type": "code",
   "execution_count": 12,
   "id": "9a0466fc-c7ea-48d6-89f5-b5d1176c9714",
   "metadata": {},
   "outputs": [],
   "source": [
    "train_images = np.array(train_img).reshape((-1, 28, 28))\n",
    "train_labels = np.array(train_lbl)\n",
    "test_images = np.array(test_img).reshape((-1, 28, 28))\n",
    "test_labels = np.array(test_lbl)"
   ]
  },
  {
   "cell_type": "code",
   "execution_count": 15,
   "id": "5fabfd34-b7b4-4b76-b17c-f15415373c1c",
   "metadata": {},
   "outputs": [
    {
     "data": {
      "image/png": "[encoded data removed]",
      "text/plain": [
       "<Figure size 640x480 with 1 Axes>"
      ]
     },
     "metadata": {},
     "output_type": "display_data"
    }
   ],
   "source": [
    "idx = 0\n",
    "\n",
    "plt.title(train_labels[2])\n",
    "plt.imshow(train_images[2], cmap='gray')\n",
    "plt.show()"
   ]
  },
  {
   "cell_type": "code",
   "execution_count": null,
   "id": "abb45c19-21cb-4eda-8360-232223513db6",
   "metadata": {},
   "outputs": [],
   "source": []
  }
 ],
 "metadata": {
  "kernelspec": {
   "display_name": "Python 3 (ipykernel)",
   "language": "python",
   "name": "python3"
  },
  "language_info": {
   "codemirror_mode": {
    "name": "ipython",
    "version": 3
   },
   "file_extension": ".py",
   "mimetype": "text/x-python",
   "name": "python",
   "nbconvert_exporter": "python",
   "pygments_lexer": "ipython3",
   "version": "3.12.2"
  }
 },
 "nbformat": 4,
 "nbformat_minor": 5
}
